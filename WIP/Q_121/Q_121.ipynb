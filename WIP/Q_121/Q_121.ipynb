{
 "cells": [
  {
   "cell_type": "code",
   "execution_count": 44,
   "metadata": {},
   "outputs": [
    {
     "name": "stdout",
     "output_type": "stream",
     "text": [
      "2269.0\n"
     ]
    }
   ],
   "source": [
    "from itertools import product\n",
    "n = 15\n",
    "wins = [x for x in product([1,0],repeat=n) if sum(x) > n//2]\n",
    "probs = [0]*n\n",
    "cum_prob = 0\n",
    "cum_all = 0\n",
    "k = 1\n",
    "for i in range(n):\n",
    "    k *= (i+2)\n",
    "    probs[i] = (i+2)\n",
    "\n",
    "for scenario in wins:\n",
    "    prob = 1\n",
    "    for i in range(n):\n",
    "        cum_all += probs[i]\n",
    "        if scenario[i] == 1:\n",
    "            prob *= 1 / probs[i]\n",
    "        else:\n",
    "            prob *= 1 - (1 / probs[i])\n",
    "    cum_prob += prob\n",
    "print(1/cum_prob //1)"
   ]
  }
 ],
 "metadata": {
  "kernelspec": {
   "display_name": "Python 3",
   "language": "python",
   "name": "python3"
  },
  "language_info": {
   "codemirror_mode": {
    "name": "ipython",
    "version": 3
   },
   "file_extension": ".py",
   "mimetype": "text/x-python",
   "name": "python",
   "nbconvert_exporter": "python",
   "pygments_lexer": "ipython3",
   "version": "3.13.1"
  }
 },
 "nbformat": 4,
 "nbformat_minor": 2
}
