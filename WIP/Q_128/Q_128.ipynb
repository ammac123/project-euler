{
 "cells": [
  {
   "cell_type": "code",
   "execution_count": 46,
   "metadata": {},
   "outputs": [],
   "source": [
    "from sympy.ntheory import isprime"
   ]
  },
  {
   "cell_type": "markdown",
   "metadata": {},
   "source": [
    "Ring_start is the first value of a new ring. Ring_end is the last value of a new ring. \n",
    "For the inner point we have:\n",
    "   $$ r_s (\\cdot) = r_e (\\cdot) = 1  $$\n",
    "\n",
    "For the $1st$ layer we have:\n",
    "   $$ r_s (0) = 2 \\\\ r_e (0) = r_s (0) + 6(k+1) - 1 \\\\ r_e (1) = 7$$\n",
    "\n",
    "For $k>1$, we will define it to be the k-th ring:\n",
    "   $$ \n",
    "   r_s (k) = r_s (k-1) + 6k  \\\\$$\n",
    "   $$\n",
    "   \\therefore r_s (k) = 3k(k + 1) + 2 \\\\\n",
    "   $$\n",
    "   $$ and $$\n",
    "   $$\n",
    "   r_e (k) = r_s (k+1) - 1 \\\\\n",
    "   r_e (k) = 3(k+1)(k+2) + 1 \\\\$$\n",
    "   $$\n",
    "   \\therefore r_e (k) = 3k^2 + 9k + 7 \\\\\n",
    "   $$\n",
    "   \n",
    "\n",
    "As tile $r_s (k)\\mod 2 = 0$, and $r_s (k)$ will always be connected to $r_s (k-1)$ and $r_s (k+1)$, neither of these differences can be a prime number. Likewise, the tile $r_s (k)$ will always be connected to the tile $r_s (k) + 1$ and this difference will always be equal to $1$. \n",
    "\n",
    "Thus we must check the other three connections to see if the differences are prime. \n",
    "   $$(1) \\quad a = r_s (k+1) + 1 - r_s (k) \\\\\n",
    "   = 3k^2 + 9k + 9 - 3k^2 + 3k - 2 \\\\\n",
    "   \\therefore a = 6k + 7 \\\\\n",
    "   $$\n",
    "   $$\n",
    "   (2) \\quad b = r_e (k) - r_s (k) \\\\\n",
    "   = r_s (k+1)- r_s (k) - 1 = a - 2 \\\\\n",
    "   \\therefore b = 6k + 5\n",
    "   $$\n",
    "   $$\n",
    "   (3) \\quad c = r_e (k+1) - r_s (k)\\\\\n",
    "   = r_s (k+2) - r_s (k) - 1 \\\\\n",
    "   \\therefore c = 12k + 17\n",
    "   $$\n",
    "\n",
    "We have a similar scenario for tile $r_e (k)$, ending up with:\n",
    "$$(1) \\quad x = 6k + 11$$\n",
    "$$(2) \\quad y = 6k + 5$$\n",
    "$$(3) \\quad z = 12k + 5$$\n",
    "   "
   ]
  },
  {
   "cell_type": "code",
   "execution_count": 61,
   "metadata": {},
   "outputs": [],
   "source": [
    "# ring_start is the first value of a new ring. Ring_end is the last value of a new ring. \n",
    "# For the k-th ring: \n",
    "#   ring_start = (6*k + 2)\n",
    "#   ring_end = (6*k - 1) + ring_start\n",
    "# We also find that: \n",
    "#   ring_start(k) - ring_start(k-1) = \n",
    "\n",
    "def find_nth_diff(limit):\n",
    "    count = 0\n",
    "    k = 1\n",
    "    while True:\n",
    "        z = 6*k + 5\n",
    "        if isprime(z):\n",
    "            x_1 = 6*k + 7\n",
    "            x_2 = 12*k + 17\n",
    "            if isprime(x_1) and isprime(x_2):\n",
    "                count += 1\n",
    "                if count >= limit:\n",
    "                    return (3*k*(k+1) + 2)\n",
    "\n",
    "            \n",
    "            y_1 = 6*k + 11\n",
    "            y_2 = 12*k + 5\n",
    "            if isprime(y_1) and isprime(y_2):\n",
    "                count += 1\n",
    "                if count >= limit:\n",
    "                    return (3*(k**2) + 9*k + 7)\n",
    "                \n",
    "        k +=1\n",
    "\n",
    "    "
   ]
  },
  {
   "cell_type": "code",
   "execution_count": 64,
   "metadata": {},
   "outputs": [
    {
     "data": {
      "text/plain": [
       "14551069141"
      ]
     },
     "execution_count": 64,
     "metadata": {},
     "output_type": "execute_result"
    }
   ],
   "source": [
    "find_nth_diff(2000)"
   ]
  },
  {
   "cell_type": "code",
   "execution_count": 243,
   "metadata": {},
   "outputs": [],
   "source": [
    "def check_node_tile(ele: np.ndarray, i: int, j: int):\n",
    "    e = int(ele[i,j+1])\n",
    "    if isprime(e + 1) and isprime(e - 1):\n",
    "        return True\n",
    "    return False\n",
    "\n",
    "def check_layer_start_tile(ele: np.ndarray, i: int, j: int):\n",
    "    check_1 = isprime(int(ele[i,j+1] + ele[i,j+2])-1)\n",
    "    check_2 = check_node_tile(ele, i, j)\n",
    "    if check_1 and check_2:\n",
    "        return True\n",
    "    return False\n",
    "\n",
    "def check_layer_end_tile(diff: np.ndarray, node:np.ndarray, j: int):\n",
    "    check_1 = isprime(int(diff[j+1] -1))\n",
    "    check_2 = isprime(int(diff[j] -1))\n",
    "    check_3 = isprime(int(node[j] - node[j-2] + 1))\n",
    "    if check_1 and check_2 and check_3:\n",
    "        return True\n",
    "    return False\n",
    "\n",
    "def return_non_zero_list(arr1: np.ndarray, arr2: np.ndarray):\n",
    "    return sorted(arr1[np.nonzero(arr1)].tolist() + arr2[np.nonzero(arr2)].tolist())\n"
   ]
  },
  {
   "cell_type": "code",
   "execution_count": 279,
   "metadata": {},
   "outputs": [],
   "source": [
    "def find_nth_tile(n, stepSize=40):\n",
    "    layer_len = 0\n",
    "    while True:\n",
    "        layer_len += stepSize\n",
    "        node_len = 6\n",
    "        diff_array = np.zeros((node_len, layer_len))\n",
    "        node_array = np.zeros((node_len, layer_len))\n",
    "        ind_array = np.zeros((node_len, layer_len))\n",
    "\n",
    "\n",
    "\n",
    "        # Tile array\n",
    "        layer_inc = 0\n",
    "        diff_array[0,0] = 1\n",
    "        for j in range(1,layer_len):\n",
    "            layer_inc += 6\n",
    "            diff_array[0,j] = layer_inc\n",
    "\n",
    "        node_inc = 0\n",
    "        for j in range(layer_len):\n",
    "            node_inc += 1\n",
    "            for i in range(1,node_len):\n",
    "                diff_array[i,j] = diff_array[i-1,j]+node_inc\n",
    "\n",
    "\n",
    "        # Node array\n",
    "        layer_inc = 0\n",
    "        node_array[0,0] = 2\n",
    "        for j in range(1,layer_len):\n",
    "            layer_inc += 6\n",
    "            node_array[0,j] += node_array[0,j-1] + layer_inc\n",
    "\n",
    "        node_inc = 0\n",
    "        for j in range(layer_len):\n",
    "            node_inc += 1\n",
    "            for i in range(1,node_len):\n",
    "                node_array[i,j] = node_array[i-1,j] + node_inc\n",
    "\n",
    "\n",
    "        # Indicator array\n",
    "        ind_array[0,0] = 1\n",
    "        for j in range(layer_len-2):\n",
    "            if check_layer_start_tile(diff_array,0,j):\n",
    "                ind_array[0,j] = 1\n",
    "\n",
    "        for j in range(layer_len-1):\n",
    "            for i in range(1,node_len):\n",
    "                if isprime(int(diff_array[i,j])):\n",
    "                    if check_node_tile(diff_array,i,j):\n",
    "                        ind_array[i,j+1] = 1\n",
    "\n",
    "\n",
    "        end_diff_array = diff_array[0,:]\n",
    "        end_node_array = node_array[0,:] - 1 \n",
    "        end_ind_array = np.zeros((layer_len))\n",
    "\n",
    "        end_ind_array[0] = 1\n",
    "        for j in range(2,layer_len-1):\n",
    "            if check_layer_end_tile(end_diff_array, end_node_array, j):\n",
    "                end_ind_array[j] = 1\n",
    "\n",
    "\n",
    "        tiled_array = node_array * ind_array\n",
    "        end_tiled_array = end_node_array * end_ind_array\n",
    "\n",
    "        res = [int(x) for x in return_non_zero_list(tiled_array, end_tiled_array)]\n",
    "\n",
    "        if len(res) > n:\n",
    "            return res[n-1]"
   ]
  },
  {
   "cell_type": "code",
   "execution_count": 280,
   "metadata": {},
   "outputs": [
    {
     "name": "stdout",
     "output_type": "stream",
     "text": [
      "The 2166th tile in the series is: 14516824220\n"
     ]
    }
   ],
   "source": [
    "n = 2166\n",
    "stepSize = 25_000\n",
    "\n",
    "res = find_nth_tile(n, stepSize)\n",
    "print(f'The {n}th tile in the series is: {res}')"
   ]
  },
  {
   "cell_type": "code",
   "execution_count": 262,
   "metadata": {},
   "outputs": [
    {
     "name": "stdout",
     "output_type": "stream",
     "text": [
      "2895067\n"
     ]
    }
   ],
   "source": [
    "print(res - 2415336751) "
   ]
  }
 ],
 "metadata": {
  "kernelspec": {
   "display_name": "Python 3",
   "language": "python",
   "name": "python3"
  },
  "language_info": {
   "codemirror_mode": {
    "name": "ipython",
    "version": 3
   },
   "file_extension": ".py",
   "mimetype": "text/x-python",
   "name": "python",
   "nbconvert_exporter": "python",
   "pygments_lexer": "ipython3",
   "version": "3.13.1"
  }
 },
 "nbformat": 4,
 "nbformat_minor": 2
}
