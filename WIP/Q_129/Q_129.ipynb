{
 "cells": [
  {
   "cell_type": "code",
   "execution_count": 81,
   "metadata": {},
   "outputs": [],
   "source": [
    "import math"
   ]
  },
  {
   "cell_type": "code",
   "execution_count": null,
   "metadata": {},
   "outputs": [
    {
     "name": "stdout",
     "output_type": "stream",
     "text": [
      "1000023\n"
     ]
    }
   ],
   "source": [
    "success = False\n",
    "limit = 1_000_000\n",
    "n = limit\n",
    "while success == False:\n",
    "    if math.gcd(n,10) == 1:\n",
    "        l = 1\n",
    "        while True:\n",
    "            if pow(10, l, 9*n) == 1:\n",
    "                break\n",
    "            l += 1\n",
    "            if l > limit:\n",
    "                success = True\n",
    "                res = n\n",
    "    n +=1\n",
    "\n",
    "print(res) "
   ]
  }
 ],
 "metadata": {
  "kernelspec": {
   "display_name": "Python 3",
   "language": "python",
   "name": "python3"
  },
  "language_info": {
   "codemirror_mode": {
    "name": "ipython",
    "version": 3
   },
   "file_extension": ".py",
   "mimetype": "text/x-python",
   "name": "python",
   "nbconvert_exporter": "python",
   "pygments_lexer": "ipython3",
   "version": "3.13.1"
  }
 },
 "nbformat": 4,
 "nbformat_minor": 2
}
