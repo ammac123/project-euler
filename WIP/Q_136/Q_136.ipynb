{
 "cells": [
  {
   "cell_type": "code",
   "execution_count": 106,
   "metadata": {},
   "outputs": [],
   "source": [
    "def seive(n):\n",
    "    primes = [True] * (n+1)\n",
    "    primes[0] = primes[1] = False\n",
    "    \n",
    "    p = 2\n",
    "     \n",
    "    while p*p < n:\n",
    "        if primes[p]:\n",
    "            for i in range(p*p, n+1, p):\n",
    "                primes[i] = False\n",
    "\n",
    "        p += 1\n",
    "\n",
    "    return [idx for idx, i in enumerate(primes) if i]\n",
    "    \n",
    "def main(limit):\n",
    "    limit = 50_000_000\n",
    "    primes = seive(limit)[1:]   # Removing from the prime list\n",
    "    count = 2 #counting for 4 and 16\n",
    "    for prime in primes:\n",
    "        if prime % 4 == 3:\n",
    "            count += 1\n",
    "\n",
    "        if prime*4 < limit:\n",
    "            count += 1\n",
    "            if prime*16 < limit:\n",
    "                count += 1\n",
    "    return count"
   ]
  },
  {
   "cell_type": "code",
   "execution_count": 108,
   "metadata": {},
   "outputs": [
    {
     "name": "stdout",
     "output_type": "stream",
     "text": [
      "The number of unique values for n below 50,000,000 is 2,544,559\n"
     ]
    }
   ],
   "source": [
    "limit = 50_000_000\n",
    "res = main(limit)\n",
    "print(f'The number of unique values for n below {limit:,} is {res:,}')"
   ]
  },
  {
   "cell_type": "code",
   "execution_count": 107,
   "metadata": {},
   "outputs": [
    {
     "name": "stdout",
     "output_type": "stream",
     "text": [
      "3.76 s ± 16.9 ms per loop (mean ± std. dev. of 7 runs, 1 loop each)\n",
      "3.71 s ± 8.61 ms per loop (mean ± std. dev. of 7 runs, 1 loop each)\n"
     ]
    }
   ],
   "source": [
    "%timeit main(limit)\n",
    "%timeit main_bit(limit)"
   ]
  }
 ],
 "metadata": {
  "kernelspec": {
   "display_name": "Python 3",
   "language": "python",
   "name": "python3"
  },
  "language_info": {
   "codemirror_mode": {
    "name": "ipython",
    "version": 3
   },
   "file_extension": ".py",
   "mimetype": "text/x-python",
   "name": "python",
   "nbconvert_exporter": "python",
   "pygments_lexer": "ipython3",
   "version": "3.13.1"
  }
 },
 "nbformat": 4,
 "nbformat_minor": 2
}
