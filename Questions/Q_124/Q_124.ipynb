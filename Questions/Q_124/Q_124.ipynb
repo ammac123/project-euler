{
 "cells": [
  {
   "cell_type": "code",
   "execution_count": 12,
   "metadata": {},
   "outputs": [
    {
     "name": "stdout",
     "output_type": "stream",
     "text": [
      "The 10,000th element sorted by its prime radicals is 21417\n"
     ]
    }
   ],
   "source": [
    "import math\n",
    "from sympy import ntheory\n",
    "\n",
    "lst = []\n",
    "for n in range(1,100_001):\n",
    "    lst.append((math.prod(ntheory.primefactors(n)), n))\n",
    "\n",
    "sorted_lst = sorted(lst, key=lambda element: (element[0], element[1]))\n",
    "\n",
    "print(f'The 10,000th element sorted by its prime radicals is {sorted_lst[9999][1]}')"
   ]
  }
 ],
 "metadata": {
  "kernelspec": {
   "display_name": "Python 3",
   "language": "python",
   "name": "python3"
  },
  "language_info": {
   "codemirror_mode": {
    "name": "ipython",
    "version": 3
   },
   "file_extension": ".py",
   "mimetype": "text/x-python",
   "name": "python",
   "nbconvert_exporter": "python",
   "pygments_lexer": "ipython3",
   "version": "3.13.1"
  }
 },
 "nbformat": 4,
 "nbformat_minor": 2
}
