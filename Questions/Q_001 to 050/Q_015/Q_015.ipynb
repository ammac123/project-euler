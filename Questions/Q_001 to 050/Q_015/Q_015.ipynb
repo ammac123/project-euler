{
 "cells": [
  {
   "cell_type": "markdown",
   "id": "1a54cd33-9c50-493d-8c72-319faf583aad",
   "metadata": {},
   "source": [
    "### Problem 15: Lattice Paths\n",
    "<p>Starting in the top left corner of a $2 \\times 2$ grid, and only being able to move to the right and down, there are exactly $6$ routes to the bottom right corner.</p>\n",
    "<div style=\"text-align: center\">\n",
    "<img src=\"https://projecteuler.net/resources/images/0015.png?1678992052\" class=\"dark_img\" alt=\"\"></div>\n",
    "<p>How many such routes are there through a $20 \\times 20$ grid?</p>"
   ]
  },
  {
   "cell_type": "code",
   "execution_count": 14,
   "id": "415de2c1-8ebf-4d8a-82ae-9db4d3591892",
   "metadata": {},
   "outputs": [],
   "source": [
    "import math"
   ]
  },
  {
   "cell_type": "code",
   "execution_count": 15,
   "id": "3c192e54-93f7-4853-be2d-3d3ee27a7731",
   "metadata": {},
   "outputs": [],
   "source": [
    "def binomial(n,r):\n",
    "    b = math.factorial(n)/(math.factorial(r)*math.factorial(n-r))\n",
    "    return int(b)"
   ]
  },
  {
   "cell_type": "code",
   "execution_count": 35,
   "id": "e23088f6-6588-4031-a6f8-099e0338e58e",
   "metadata": {},
   "outputs": [
    {
     "data": {
      "text/plain": [
       "137846528820"
      ]
     },
     "execution_count": 35,
     "metadata": {},
     "output_type": "execute_result"
    }
   ],
   "source": [
    "binomial(40,20)"
   ]
  }
 ],
 "metadata": {
  "kernelspec": {
   "display_name": "Python 3 (ipykernel)",
   "language": "python",
   "name": "python3"
  },
  "language_info": {
   "codemirror_mode": {
    "name": "ipython",
    "version": 3
   },
   "file_extension": ".py",
   "mimetype": "text/x-python",
   "name": "python",
   "nbconvert_exporter": "python",
   "pygments_lexer": "ipython3",
   "version": "3.9.13"
  }
 },
 "nbformat": 4,
 "nbformat_minor": 5
}
