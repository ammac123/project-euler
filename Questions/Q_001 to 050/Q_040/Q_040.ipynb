{
 "cells": [
  {
   "cell_type": "markdown",
   "id": "135bc646-4b8f-4bf6-9152-334c2371dba1",
   "metadata": {},
   "source": [
    "### Problem 40: Champernowne's Constant\n",
    "<p>An irrational decimal fraction is created by concatenating the positive integers:\n",
    "$$0.12345678910{\\color{red}\\mathbf 1}112131415161718192021\\cdots$$</p>\n",
    "<p>It can be seen that the $12$<sup>th</sup> digit of the fractional part is $1$.</p>\n",
    "<p>If $d_n$ represents the $n$<sup>th</sup> digit of the fractional part, find the value of the following expression.\n",
    "$$d_1 \\times d_{10} \\times d_{100} \\times d_{1000} \\times d_{10000} \\times d_{100000} \\times d_{1000000}$$</p>"
   ]
  },
  {
   "cell_type": "code",
   "execution_count": 1,
   "id": "213b47e8-fdcc-48c2-8a37-4fc2be82a295",
   "metadata": {},
   "outputs": [],
   "source": [
    "import math"
   ]
  },
  {
   "cell_type": "code",
   "execution_count": 31,
   "id": "40d74707-a49e-40eb-8a35-a12102d01a58",
   "metadata": {},
   "outputs": [
    {
     "name": "stdout",
     "output_type": "stream",
     "text": [
      "210\n"
     ]
    }
   ],
   "source": [
    "res = []\n",
    "for i in range(1,1_000_000):\n",
    "    res.append(str(i))\n",
    "\n",
    "c = ''.join(res)\n",
    "c_res = [c[0],c[9],c[99],c[999],c[9999],c[99999],c[999999]]\n",
    "print(math.prod([int(x) for x in c_res]))"
   ]
  }
 ],
 "metadata": {
  "kernelspec": {
   "display_name": "Python 3 (ipykernel)",
   "language": "python",
   "name": "python3"
  },
  "language_info": {
   "codemirror_mode": {
    "name": "ipython",
    "version": 3
   },
   "file_extension": ".py",
   "mimetype": "text/x-python",
   "name": "python",
   "nbconvert_exporter": "python",
   "pygments_lexer": "ipython3",
   "version": "3.11.6"
  }
 },
 "nbformat": 4,
 "nbformat_minor": 5
}
