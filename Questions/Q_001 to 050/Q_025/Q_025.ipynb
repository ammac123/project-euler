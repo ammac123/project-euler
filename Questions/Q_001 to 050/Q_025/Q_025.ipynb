{
 "cells": [
  {
   "cell_type": "markdown",
   "id": "f06754f5-5ee6-4dfb-9c8d-ea2ce68f34d4",
   "metadata": {},
   "source": [
    "### Problem 25: 1000th-digit Fibonacci Number\n",
    "<p>The Fibonacci sequence is defined by the recurrence relation:</p>\n",
    "<blockquote>$F_n = F_{n - 1} + F_{n - 2}$, where $F_1 = 1$ and $F_2 = 1$.</blockquote>\n",
    "<p>Hence the first $12$ terms will be:</p>\n",
    "\\begin{align}\n",
    "F_1 &= 1\\\\\n",
    "F_2 &= 1\\\\\n",
    "F_3 &= 2\\\\\n",
    "F_4 &= 3\\\\\n",
    "F_5 &= 5\\\\\n",
    "F_6 &= 8\\\\\n",
    "F_7 &= 13\\\\\n",
    "F_8 &= 21\\\\\n",
    "F_9 &= 34\\\\\n",
    "F_{10} &= 55\\\\\n",
    "F_{11} &= 89\\\\\n",
    "F_{12} &= 144\n",
    "\\end{align}\n",
    "<p>The $12$th term, $F_{12}$, is the first term to contain three digits.</p>\n",
    "<p>What is the index of the first term in the Fibonacci sequence to contain $1000$ digits?</p>\n"
   ]
  },
  {
   "cell_type": "code",
   "execution_count": 1,
   "id": "21d37072-75ea-43ae-a65c-a471fc9da6af",
   "metadata": {},
   "outputs": [],
   "source": [
    "import math\n",
    "import collections\n",
    "import time\n",
    "import decimal"
   ]
  },
  {
   "cell_type": "code",
   "execution_count": 21,
   "id": "38f60857-6bc8-4da3-aee8-4a970113b70e",
   "metadata": {},
   "outputs": [],
   "source": [
    "decimal.getcontext().prec = 1400"
   ]
  },
  {
   "cell_type": "code",
   "execution_count": 22,
   "id": "fe227cea-d19d-42a8-843f-062f02a6c528",
   "metadata": {},
   "outputs": [],
   "source": [
    "def binet_formula(n):\n",
    "    sqrt5 = decimal.Decimal(5).sqrt()\n",
    "    F_n = ((((decimal.Decimal(1) + sqrt5)/decimal.Decimal(2))**decimal.Decimal(n) - ((decimal.Decimal(1) - sqrt5)/decimal.Decimal(2))**decimal.Decimal(n))/sqrt5).quantize(decimal.Decimal(\"1.\"), rounding=decimal.ROUND_HALF_UP)\n",
    "    return int(F_n)"
   ]
  },
  {
   "cell_type": "code",
   "execution_count": 36,
   "id": "8005116d-dbd7-441f-9f13-3a39fab7fb9c",
   "metadata": {},
   "outputs": [],
   "source": [
    "i = 1\n",
    "while True:\n",
    "    decimal.getcontext().prec = max(10,int((i/4.5)//1))\n",
    "    if len(str(binet_formula(i))) == 1000: break\n",
    "    else: i+=1"
   ]
  },
  {
   "cell_type": "code",
   "execution_count": 37,
   "id": "c800c083-0cab-4371-9fe1-f6e98cd5ebc6",
   "metadata": {},
   "outputs": [
    {
     "name": "stdout",
     "output_type": "stream",
     "text": [
      "4782\n"
     ]
    }
   ],
   "source": [
    "print(i)"
   ]
  }
 ],
 "metadata": {
  "kernelspec": {
   "display_name": "Python 3 (ipykernel)",
   "language": "python",
   "name": "python3"
  },
  "language_info": {
   "codemirror_mode": {
    "name": "ipython",
    "version": 3
   },
   "file_extension": ".py",
   "mimetype": "text/x-python",
   "name": "python",
   "nbconvert_exporter": "python",
   "pygments_lexer": "ipython3",
   "version": "3.9.13"
  }
 },
 "nbformat": 4,
 "nbformat_minor": 5
}
