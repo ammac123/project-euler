{
 "cells": [
  {
   "cell_type": "markdown",
   "id": "30656d1c-aa89-4090-9c0d-d3702df1ddd3",
   "metadata": {},
   "source": [
    "### Problem 32: Pandigital Products\n",
    "<p>We shall say that an $n$-digit number is pandigital if it makes use of all the digits $1$ to $n$ exactly once; for example, the $5$-digit number, $15234$, is $1$ through $5$ pandigital.</p>\n",
    "\n",
    "<p>The product $7254$ is unusual, as the identity, $39 \\times 186 = 7254$, containing multiplicand, multiplier, and product is $1$ through $9$ pandigital.</p>\n",
    "\n",
    "<p>Find the sum of all products whose multiplicand/multiplier/product identity can be written as a $1$ through $9$ pandigital.</p>\n",
    "\n",
    "<div class=\"note\">HINT: Some products can be obtained in more than one way so be sure to only include it once in your sum.</div>\n"
   ]
  },
  {
   "cell_type": "code",
   "execution_count": 15,
   "id": "711adb17-f9a0-462f-80c9-c1170e5ef162",
   "metadata": {},
   "outputs": [],
   "source": [
    "import math\n",
    "from itertools import permutations, combinations\n",
    "import sympy\n",
    "from collections import defaultdict"
   ]
  },
  {
   "cell_type": "code",
   "execution_count": 16,
   "id": "bf15f335-937f-4b17-96c5-0e3c5c4be64f",
   "metadata": {},
   "outputs": [],
   "source": [
    "numList = [x for x in range(1,10)]"
   ]
  },
  {
   "cell_type": "code",
   "execution_count": 116,
   "id": "03c2c124-8eb7-4a4e-9391-52b5e956e0b2",
   "metadata": {},
   "outputs": [],
   "source": [
    "pandigitalDict = defaultdict(dict)\n",
    "for i in range(1,4):\n",
    "    for comb in combinations(numList,i):\n",
    "        pandigitalList = []\n",
    "        for comb1 in combinations([x for x in numList if x not in comb],5-i):        \n",
    "            for perm in permutations(comb1):\n",
    "                val1 = int(''.join([str(x) for x in perm if x not in comb]))\n",
    "                val2 = [x for x in numList if x not in comb1 and x not in perm and x not in comb]\n",
    "                pandigitalList.append([val1,val2])\n",
    "\n",
    "        tmpDict = {x[0]:x[1] for x in pandigitalList}\n",
    "        key = int(''.join([str(x) for x in comb]))\n",
    "        pandigitalDict[key] = tmpDict\n",
    "        key = int(''.join([str(x) for x in comb][::-1]))\n",
    "        pandigitalDict[key] = tmpDict"
   ]
  },
  {
   "cell_type": "code",
   "execution_count": 120,
   "id": "b634b1ef-7aaf-4d21-a8e4-4dbed9a179c6",
   "metadata": {},
   "outputs": [
    {
     "data": {
      "text/plain": [
       "45228"
      ]
     },
     "execution_count": 120,
     "metadata": {},
     "output_type": "execute_result"
    }
   ],
   "source": [
    "count = set()\n",
    "for key,value in pandigitalDict.items():\n",
    "    for k,v in value.items():\n",
    "        if set([int(s) for s in str(key*k)]) == set(v) and len([int(s) for s in str(key*k)])==len(set(v)):\n",
    "            count.add(key*k)\n",
    "sum(count)"
   ]
  }
 ],
 "metadata": {
  "kernelspec": {
   "display_name": "Python 3 (ipykernel)",
   "language": "python",
   "name": "python3"
  },
  "language_info": {
   "codemirror_mode": {
    "name": "ipython",
    "version": 3
   },
   "file_extension": ".py",
   "mimetype": "text/x-python",
   "name": "python",
   "nbconvert_exporter": "python",
   "pygments_lexer": "ipython3",
   "version": "3.11.6"
  }
 },
 "nbformat": 4,
 "nbformat_minor": 5
}
