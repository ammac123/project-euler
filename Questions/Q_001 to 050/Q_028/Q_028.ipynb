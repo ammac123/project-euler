{
 "cells": [
  {
   "cell_type": "markdown",
   "id": "749fbe3c-a4e5-429e-bd6b-0727ddfe78f8",
   "metadata": {},
   "source": [
    "### Problem 28: Number Spiral Diagonals\n",
    "<p>Starting with the number $1$ and moving to the right in a clockwise direction a $5$ by $5$ spiral is formed as follows:</p>\n",
    "<p style=\"font-family:monospace; text-align:center\"><span class=\"red\"><b>21</b></span> 22 23 24 <span class=\"red\"><b>25</b></span><br>\n",
    "20  <span class=\"red\"><b>7</b></span>  8  <span class=\"red\"><b>9</b></span> 10<br>\n",
    "19  6  <span class=\"red\"><b>1</b></span>  2 11<br>\n",
    "18  <span class=\"red\"><b>5</b></span>  4  <span class=\"red\"><b>3</b></span> 12<br><span class=\"red\"><b>17</b></span> 16 15 14 <span class=\"red\"><b>13</b></span></p>\n",
    "<p>It can be verified that the sum of the numbers on the diagonals is $101$.</p>\n",
    "<p>What is the sum of the numbers on the diagonals in a $1001$ by $1001$ spiral formed in the same way?</p>\n"
   ]
  },
  {
   "cell_type": "code",
   "execution_count": 7,
   "id": "037c7d6d-9fbc-49f9-a981-3adc39c0a2d1",
   "metadata": {},
   "outputs": [
    {
     "name": "stdout",
     "output_type": "stream",
     "text": [
      "669171001\n"
     ]
    }
   ],
   "source": [
    "count = 1\n",
    "for i in range(3,1003,2):\n",
    "    for b in range(4):\n",
    "        count += i**2 - (i-1)*b\n",
    "print(count)"
   ]
  }
 ],
 "metadata": {
  "kernelspec": {
   "display_name": "Python 3 (ipykernel)",
   "language": "python",
   "name": "python3"
  },
  "language_info": {
   "codemirror_mode": {
    "name": "ipython",
    "version": 3
   },
   "file_extension": ".py",
   "mimetype": "text/x-python",
   "name": "python",
   "nbconvert_exporter": "python",
   "pygments_lexer": "ipython3",
   "version": "3.9.13"
  }
 },
 "nbformat": 4,
 "nbformat_minor": 5
}
