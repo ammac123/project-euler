{
 "cells": [
  {
   "cell_type": "markdown",
   "id": "e59f8964-1f48-40e4-800b-82c92ea3a9ed",
   "metadata": {},
   "source": [
    "### Problem 18: Maximum Path Sum I\n",
    "<p>By starting at the top of the triangle below and moving to adjacent numbers on the row below, the maximum total from top to bottom is 23.</p>\n",
    "<p style=\"font-family:monospace; text-align:center\"><span style=\"font-color:red\"><b>3</b></span><br><span style=\"font-color:red\"><b>7</b></span> 4<br>\n",
    "2 <span style=\"font-color:red\"><b>4</b></span> 6<br>\n",
    "8 5 <span style=\"font-color:red\"><b>9</b></span> 3</p>\n",
    "<p>That is, 3 + 7 + 4 + 9 = 23.</p>\n",
    "<p>Find the maximum total from top to bottom of the triangle below:</p>\n",
    "<p style=\"font-family:monospace; text-align:center\">75<br>\n",
    "95 64<br>\n",
    "17 47 82<br>\n",
    "18 35 87 10<br>\n",
    "20 04 82 47 65<br>\n",
    "19 01 23 75 03 34<br>\n",
    "88 02 77 73 07 63 67<br>\n",
    "99 65 04 28 06 16 70 92<br>\n",
    "41 41 26 56 83 40 80 70 33<br>\n",
    "41 48 72 33 47 32 37 16 94 29<br>\n",
    "53 71 44 65 25 43 91 52 97 51 14<br>\n",
    "70 11 33 28 77 73 17 78 39 68 17 57<br>\n",
    "91 71 52 38 17 14 91 43 58 50 27 29 48<br>\n",
    "63 66 04 68 89 53 67 30 73 16 69 87 40 31<br>\n",
    "04 62 98 27 23 09 70 98 73 93 38 53 60 04 23</p>\n",
    "<p class=\"note\"><b>NOTE:</b> As there are only 16384 routes, it is possible to solve this problem by trying every route. However, <a href=\"problem=67\">Problem 67</a>, is the same challenge with a triangle containing one-hundred rows; it cannot be solved by brute force, and requires a clever method! ;o)</p>"
   ]
  },
  {
   "cell_type": "code",
   "execution_count": 40,
   "id": "4273e984-5c8b-4f4b-8549-a05474e26dc9",
   "metadata": {},
   "outputs": [],
   "source": [
    "import time"
   ]
  },
  {
   "cell_type": "code",
   "execution_count": 41,
   "id": "d50fbd52-ae30-4b62-bb38-18882f937258",
   "metadata": {},
   "outputs": [],
   "source": [
    "triangleText = \"\"\"\n",
    "75\n",
    "95 64\n",
    "17 47 82\n",
    "18 35 87 10\n",
    "20 04 82 47 65\n",
    "19 01 23 75 03 34\n",
    "88 02 77 73 07 63 67\n",
    "99 65 04 28 06 16 70 92\n",
    "41 41 26 56 83 40 80 70 33\n",
    "41 48 72 33 47 32 37 16 94 29\n",
    "53 71 44 65 25 43 91 52 97 51 14\n",
    "70 11 33 28 77 73 17 78 39 68 17 57\n",
    "91 71 52 38 17 14 91 43 58 50 27 29 48\n",
    "63 66 04 68 89 53 67 30 73 16 69 87 40 31\n",
    "04 62 98 27 23 09 70 98 73 93 38 53 60 04 23\n",
    "\"\"\""
   ]
  },
  {
   "cell_type": "code",
   "execution_count": null,
   "id": "4e8cfbe7-8583-431b-b169-6246117239f0",
   "metadata": {},
   "outputs": [],
   "source": [
    "array = [[int(y) for y in x.split()] for x in ]"
   ]
  },
  {
   "cell_type": "code",
   "execution_count": 42,
   "id": "0c13a259-59af-48bb-91cd-5243aa8badd1",
   "metadata": {},
   "outputs": [],
   "source": [
    "def pe_18():\n",
    "    c = len(array)\n",
    "    totalCost = [0]*c\n",
    "    for x,val in enumerate(array):\n",
    "        totalCost[x] = [0]*len(val)\n",
    "\n",
    "    totalCost[0][0] = array[0][0]\n",
    "    for i in range(1,c):\n",
    "        totalCost[i][0] = array[i][0] + totalCost[i-1][0]\n",
    "        totalCost[i][i] = array[i][i] + totalCost[i-1][i-1]\n",
    "\n",
    "    for i in range(1,c):\n",
    "        for j in range(1,i):\n",
    "            minCost = max(totalCost[i-1][j-1],totalCost[i-1][j])\n",
    "            totalCost[i][j] = minCost + array[i][j]\n",
    "    return max(totalCost[-1])"
   ]
  },
  {
   "cell_type": "code",
   "execution_count": 39,
   "id": "4a18764c-2064-43af-a2e6-b42c8755a6bf",
   "metadata": {},
   "outputs": [
    {
     "name": "stdout",
     "output_type": "stream",
     "text": [
      "The max value in this triangle is : 1074\n",
      "Time taken : 0.000526s\n"
     ]
    }
   ],
   "source": [
    "time_start = time.perf_counter()\n",
    "result = pe_18()\n",
    "time_end = time.perf_counter()\n",
    "time_taken = time_end - time_start\n",
    "print(f'The max value in this triangle is : {result}\\nTime taken : {time_taken:.6f}s')"
   ]
  }
 ],
 "metadata": {
  "kernelspec": {
   "display_name": "Python 3 (ipykernel)",
   "language": "python",
   "name": "python3"
  },
  "language_info": {
   "codemirror_mode": {
    "name": "ipython",
    "version": 3
   },
   "file_extension": ".py",
   "mimetype": "text/x-python",
   "name": "python",
   "nbconvert_exporter": "python",
   "pygments_lexer": "ipython3",
   "version": "3.9.13"
  }
 },
 "nbformat": 4,
 "nbformat_minor": 5
}
