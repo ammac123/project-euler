{
 "cells": [
  {
   "cell_type": "markdown",
   "id": "3262b5d4-f5f7-4fa8-bcb5-3ff441d128af",
   "metadata": {},
   "source": [
    "### Problem 47: Distinct Primes Factors\n",
    "\n",
    "<p>The first two consecutive numbers to have two distinct prime factors are:</p>\r\n",
    "\\begin{align}\r\n",
    "14 &amp;= 2 \\times 7\\\\\r\n",
    "15 &amp;= 3 \\times 5.\r\n",
    "\\end{align}\r\n",
    "<p>The first three consecutive numbers to have three distinct prime factors are:</p>\r\n",
    "\\begin{align}\r\n",
    "644 &amp;= 2^2 \\times 7 \\times 23\\\\\r\n",
    "645 &amp;= 3 \\times 5 \\times 43\\\\\r\n",
    "646 &amp;= 2 \\times 17 \\times 19.\r\n",
    "\\end{align}\r\n",
    "<p>Find the first four consecutive integers to have four distinct prime factors each. What is the first of these nmbers?</p>\r\n",
    "mbers?</p>\r\n",
    "at is the first of these numbers?</p>\r\n"
   ]
  },
  {
   "cell_type": "code",
   "execution_count": 3,
   "id": "34eb2a37-be18-4191-935d-606a42b9c322",
   "metadata": {},
   "outputs": [],
   "source": [
    "from sympy import ntheory"
   ]
  },
  {
   "cell_type": "code",
   "execution_count": 26,
   "id": "d19f8bb4-dbd1-4b05-ba47-91ba900fe0ad",
   "metadata": {},
   "outputs": [],
   "source": [
    "def expand_prime_factors(n):\n",
    "    facts = []\n",
    "    for key, val in ntheory.factorint(n).items():\n",
    "        facts.append(key**val)\n",
    "    return facts"
   ]
  },
  {
   "cell_type": "code",
   "execution_count": 34,
   "id": "09df4dc1-43f2-47a9-a5dc-7a643cf9a8db",
   "metadata": {},
   "outputs": [],
   "source": [
    "def res():\n",
    "    i = 2\n",
    "    f1 = expand_prime_factors(i)\n",
    "    f2 = expand_prime_factors(i+1)\n",
    "    f3 = expand_prime_factors(i+2)\n",
    "    f4 = expand_prime_factors(i+3)\n",
    "    while True:\n",
    "        if len(set(f1 + f2 + f3 + f4)) == len(f1 + f2 + f3 + f4) and all([len(f1)==4, len(f2)==4, len(f3)==4, len(f4)==4]):\n",
    "            return i\n",
    "        i += 1\n",
    "        f1 = f2\n",
    "        f2 = f3\n",
    "        f3 = f4\n",
    "        f4 = expand_prime_factors(i+3)"
   ]
  },
  {
   "cell_type": "code",
   "execution_count": 35,
   "id": "33ed12ae-ee95-4882-9ea6-a771c18e1589",
   "metadata": {},
   "outputs": [
    {
     "data": {
      "text/plain": [
       "134043"
      ]
     },
     "execution_count": 35,
     "metadata": {},
     "output_type": "execute_result"
    }
   ],
   "source": [
    "res()"
   ]
  }
 ],
 "metadata": {
  "kernelspec": {
   "display_name": "Python 3 (ipykernel)",
   "language": "python",
   "name": "python3"
  },
  "language_info": {
   "codemirror_mode": {
    "name": "ipython",
    "version": 3
   },
   "file_extension": ".py",
   "mimetype": "text/x-python",
   "name": "python",
   "nbconvert_exporter": "python",
   "pygments_lexer": "ipython3",
   "version": "3.11.6"
  }
 },
 "nbformat": 4,
 "nbformat_minor": 5
}
