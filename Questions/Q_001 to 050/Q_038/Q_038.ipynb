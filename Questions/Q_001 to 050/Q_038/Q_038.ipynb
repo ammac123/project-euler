{
 "cells": [
  {
   "cell_type": "markdown",
   "id": "ee0e09fa-8edb-42d3-9178-9f42b8836ad2",
   "metadata": {},
   "source": [
    "### Problem 38: Pandigital Multiples\n",
    "<p>Take the number $192$ and multiply it by each of $1$, $2$, and $3$:</p>\r\n",
    "\\begin{align}\r\n",
    "192 \\times 1 &amp;= 192\\\\\r\n",
    "192 \\times 2 &amp;= 384\\\\\r\n",
    "192 \\times 3 &amp;= 576\r\n",
    "\\end{align}\r\n",
    "<p>By concatenating each product we get the $1$ to $9$ pandigital, $192384576$. We will call $192384576$ the concatenated product of $192$ and $(1,2,3)$.</p>\r\n",
    "<p>The same can be achieved by starting with $9$ and multiplying by $1$, $2$, $3$, $4$, and $5$, giving the pandigital, $918273645$, which is the concatenated product of $9$ and $(1,2,3,4,5)$.</p>\r\n",
    "<p>What is the largest $1$ to $9$ pandigital $9$-digit number that can be formed as the concatenated product of an integer with $(1,2, \\dots, n)$ where $n \\gt 1$?</p>\r\n",
    "1$?</p>\r\n",
    "1$?</p>\r\n"
   ]
  },
  {
   "cell_type": "code",
   "execution_count": 1,
   "id": "49868428-3283-4327-b615-4e19f43ac957",
   "metadata": {},
   "outputs": [],
   "source": [
    "import math"
   ]
  },
  {
   "cell_type": "code",
   "execution_count": 10,
   "id": "500847ae-0777-4d04-b4a1-ca254c21f01b",
   "metadata": {},
   "outputs": [],
   "source": [
    "candidateList = [x for x in range(10_000) if str(x)[0]=='9' and '0' not in str(x)]\n",
    "numList = set(range(1,10))"
   ]
  },
  {
   "cell_type": "code",
   "execution_count": 11,
   "id": "7c78cf77-be88-43b9-a3d2-42de402e8062",
   "metadata": {},
   "outputs": [
    {
     "data": {
      "text/plain": [
       "{'1', '2', '3', '4'}"
      ]
     },
     "execution_count": 11,
     "metadata": {},
     "output_type": "execute_result"
    }
   ],
   "source": [
    "set([x for x in '23411'])"
   ]
  },
  {
   "cell_type": "code",
   "execution_count": 27,
   "id": "42ae0402-fa9b-4996-aaa6-312b733a9b22",
   "metadata": {},
   "outputs": [],
   "source": [
    "def create_concat(n):\n",
    "    s = ''\n",
    "    k = 0\n",
    "    \n",
    "    while True:\n",
    "        k += 1\n",
    "        s += str(k*n)\n",
    "        if len(s)>=9:\n",
    "            break\n",
    "    if len(s)==9 and set([int(x) for x in s])==numList:\n",
    "        return True, k, int(s)\n",
    "\n",
    "    else:\n",
    "        return False, None, None"
   ]
  },
  {
   "cell_type": "code",
   "execution_count": 31,
   "id": "3e8e2c6a-641b-4ebb-b7b3-a9481f4b4bda",
   "metadata": {},
   "outputs": [],
   "source": [
    "res = []\n",
    "for n in candidateList:\n",
    "    if create_concat(n)[0]:\n",
    "        res.append((n,create_concat(n)[2]))"
   ]
  }
 ],
 "metadata": {
  "kernelspec": {
   "display_name": "Python 3 (ipykernel)",
   "language": "python",
   "name": "python3"
  },
  "language_info": {
   "codemirror_mode": {
    "name": "ipython",
    "version": 3
   },
   "file_extension": ".py",
   "mimetype": "text/x-python",
   "name": "python",
   "nbconvert_exporter": "python",
   "pygments_lexer": "ipython3",
   "version": "3.11.6"
  }
 },
 "nbformat": 4,
 "nbformat_minor": 5
}
