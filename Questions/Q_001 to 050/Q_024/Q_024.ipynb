{
 "cells": [
  {
   "cell_type": "code",
   "execution_count": null,
   "id": "25fe4cc1-ef55-43c8-88a8-094c727e9072",
   "metadata": {},
   "outputs": [],
   "source": []
  },
  {
   "cell_type": "code",
   "execution_count": 3,
   "id": "26b6d6a9-a0e8-4f9e-944f-72418880cb68",
   "metadata": {},
   "outputs": [],
   "source": [
    "import math\n",
    "from itertools import permutations"
   ]
  },
  {
   "cell_type": "code",
   "execution_count": 11,
   "id": "8eb7860f-230e-4c5d-97b0-4acf81a1abfb",
   "metadata": {},
   "outputs": [],
   "source": [
    "y = [0,1,2,3,4,5,6,7,8,9]"
   ]
  },
  {
   "cell_type": "code",
   "execution_count": 14,
   "id": "344877d4-2625-4fcf-8ade-a803fa8fb963",
   "metadata": {},
   "outputs": [
    {
     "name": "stdout",
     "output_type": "stream",
     "text": [
      "2783915460\n"
     ]
    }
   ],
   "source": [
    "for x, perm in enumerate(permutations(y)):\n",
    "    if x == 999_999: res = perm; break\n",
    "    \n",
    "print(int(''.join([str(x) for x in res])))"
   ]
  },
  {
   "cell_type": "code",
   "execution_count": null,
   "id": "0237b2c4-5c72-4af3-abe8-658cca3c26d2",
   "metadata": {},
   "outputs": [],
   "source": []
  }
 ],
 "metadata": {
  "kernelspec": {
   "display_name": "Python 3 (ipykernel)",
   "language": "python",
   "name": "python3"
  },
  "language_info": {
   "codemirror_mode": {
    "name": "ipython",
    "version": 3
   },
   "file_extension": ".py",
   "mimetype": "text/x-python",
   "name": "python",
   "nbconvert_exporter": "python",
   "pygments_lexer": "ipython3",
   "version": "3.9.13"
  }
 },
 "nbformat": 4,
 "nbformat_minor": 5
}
