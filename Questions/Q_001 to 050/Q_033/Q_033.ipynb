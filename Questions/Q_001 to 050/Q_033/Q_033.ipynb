{
 "cells": [
  {
   "cell_type": "markdown",
   "id": "318c99f0-b8c3-4ba1-8e40-0edb9d2eec41",
   "metadata": {},
   "source": [
    "### Problem 33: Digit Cancelling Fractions\n",
    "<p>The fraction $49/98$ is a curious fraction, as an inexperienced mathematician in attempting to simplify it may incorrectly believe that $49/98 = 4/8$, which is correct, is obtained by cancelling the $9$s.</p>\n",
    "<p>We shall consider fractions like, $30/50 = 3/5$, to be trivial examples.</p>\n",
    "<p>There are exactly four non-trivial examples of this type of fraction, less than one in value, and containing two digits in the numerator and denominator.</p>\n",
    "<p>If the product of these four fractions is given in its lowest common terms, find the value of the denominator.</p>\n"
   ]
  },
  {
   "cell_type": "code",
   "execution_count": 1,
   "id": "c3117174-4b96-497b-a00a-ba5ffa69dfcb",
   "metadata": {},
   "outputs": [],
   "source": [
    "from fractions import Fraction"
   ]
  },
  {
   "cell_type": "code",
   "execution_count": 80,
   "id": "a7acbd20-1121-484d-9589-fcc14ee993aa",
   "metadata": {},
   "outputs": [
    {
     "name": "stdout",
     "output_type": "stream",
     "text": [
      "100\n"
     ]
    }
   ],
   "source": [
    "res = []\n",
    "frac = Fraction(1,1)\n",
    "for d in range(10,100):\n",
    "    if d%10 == 0:\n",
    "        continue\n",
    "    for n in range(10,d):\n",
    "        common_dig = set([x for x in str(n)]).intersection([x for x in str(d)])\n",
    "        if len(common_dig) != 1:\n",
    "            continue\n",
    "            \n",
    "        elif len(set([x for x in str(n)])) == 2 and len(set([x for x in str(d)])) == 2:\n",
    "            n_1 = [int(x) for x in set(str(n)).difference(common_dig)][0]\n",
    "            d_1 = [int(x) for x in set(str(d)).difference(common_dig)][0]\n",
    "            if n_1 != 0 and d_1 != 0:\n",
    "                if n_1 / d_1 == n/d:\n",
    "                    res.append((n,d))\n",
    "                    \n",
    "\n",
    "for pair in res:\n",
    "    frac = Fraction(frac.numerator*pair[0],frac.denominator *pair[1])\n",
    "print(frac.denominator)"
   ]
  }
 ],
 "metadata": {
  "kernelspec": {
   "display_name": "Python 3 (ipykernel)",
   "language": "python",
   "name": "python3"
  },
  "language_info": {
   "codemirror_mode": {
    "name": "ipython",
    "version": 3
   },
   "file_extension": ".py",
   "mimetype": "text/x-python",
   "name": "python",
   "nbconvert_exporter": "python",
   "pygments_lexer": "ipython3",
   "version": "3.12.0"
  }
 },
 "nbformat": 4,
 "nbformat_minor": 5
}
