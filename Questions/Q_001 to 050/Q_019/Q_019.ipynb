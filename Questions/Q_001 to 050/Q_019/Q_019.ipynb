{
 "cells": [
  {
   "cell_type": "markdown",
   "id": "68ebf761-bd6e-473d-b852-fcc96b930253",
   "metadata": {},
   "source": [
    "### Problem 19: Counting Sundays\n",
    "<p>You are given the following information, but you may prefer to do some research for yourself.</p>\n",
    "<ul><li>1 Jan 1900 was a Monday.</li>\n",
    "<li>Thirty days has September,<br />\n",
    "April, June and November.<br />\n",
    "All the rest have thirty-one,<br />\n",
    "Saving February alone,<br />\n",
    "Which has twenty-eight, rain or shine.<br />\n",
    "And on leap years, twenty-nine.</li>\n",
    "<li>A leap year occurs on any year evenly divisible by 4, but not on a century unless it is divisible by 400.</li>\n",
    "</ul><p>How many Sundays fell on the first of the month during the twentieth century (1 Jan 1901 to 31 Dec 2000)?</p>\n"
   ]
  },
  {
   "cell_type": "code",
   "execution_count": 4,
   "id": "56162042-a1ad-4eb8-ade2-20e467a7a0cf",
   "metadata": {},
   "outputs": [],
   "source": [
    "yearStart = 1900\n",
    "yearEnd = 2000\n",
    "months = [31,28,31,30,31,30,31,31,30,31,30,31]"
   ]
  },
  {
   "cell_type": "code",
   "execution_count": 13,
   "id": "c9663cc0-bdb6-4bc6-959c-dcdc3dead85e",
   "metadata": {},
   "outputs": [
    {
     "name": "stdout",
     "output_type": "stream",
     "text": [
      "171\n"
     ]
    }
   ],
   "source": [
    "runningDays = 0\n",
    "count = 0\n",
    "for i in range(yearStart,yearEnd+1):\n",
    "    for x,m in enumerate(months):\n",
    "        if runningDays%7==0 and i>1900:\n",
    "            count += 1\n",
    "        if i%4==0 and i%400!=0 and x==1:\n",
    "            runningDays += m + 1\n",
    "        else:\n",
    "            runningDays += m\n",
    "\n",
    "            \n",
    "print(count)"
   ]
  }
 ],
 "metadata": {
  "kernelspec": {
   "display_name": "Python 3 (ipykernel)",
   "language": "python",
   "name": "python3"
  },
  "language_info": {
   "codemirror_mode": {
    "name": "ipython",
    "version": 3
   },
   "file_extension": ".py",
   "mimetype": "text/x-python",
   "name": "python",
   "nbconvert_exporter": "python",
   "pygments_lexer": "ipython3",
   "version": "3.9.13"
  }
 },
 "nbformat": 4,
 "nbformat_minor": 5
}
