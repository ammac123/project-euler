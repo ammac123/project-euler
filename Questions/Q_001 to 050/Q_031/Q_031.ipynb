{
 "cells": [
  {
   "cell_type": "markdown",
   "id": "6f8538c1-2e9f-44f0-9033-160324976aab",
   "metadata": {},
   "source": [
    "### Problem 31: Coin Sums\n",
    "<p>In the United Kingdom the currency is made up of pound (£) and pence (p). There are eight coins in general circulation:</p>\n",
    "<blockquote>1p, 2p, 5p, 10p, 20p, 50p, £1 (100p), and £2 (200p).</blockquote>\n",
    "<p>It is possible to make £2 in the following way:</p>\n",
    "<blockquote>1×£1 + 1×50p + 2×20p + 1×5p + 1×2p + 3×1p</blockquote>\n",
    "<p>How many different ways can £2 be made using any number of coins?</p>\n"
   ]
  },
  {
   "cell_type": "code",
   "execution_count": 20,
   "id": "15e62895-27e6-4252-ba10-9f4d9bf3e57a",
   "metadata": {},
   "outputs": [],
   "source": [
    "import math"
   ]
  },
  {
   "cell_type": "code",
   "execution_count": 59,
   "id": "b044d9e5-7b12-477b-9c9b-fd0b4e531c6e",
   "metadata": {},
   "outputs": [
    {
     "data": {
      "text/plain": [
       "73682"
      ]
     },
     "execution_count": 59,
     "metadata": {},
     "output_type": "execute_result"
    }
   ],
   "source": [
    "coinVal = [1,2,5,10,20,50,100,200]\n",
    "c = [0]*(max(coinVal)+1)\n",
    "c[0] = 1\n",
    "lim = 10\n",
    "for k in coinVal[:lim]:\n",
    "    for i in range(0,max(coinVal[:lim])+1-k):\n",
    "        c[i+k] += c[i]\n",
    "\n",
    "c[max(coinVal[:lim])]"
   ]
  }
 ],
 "metadata": {
  "kernelspec": {
   "display_name": "Python 3 (ipykernel)",
   "language": "python",
   "name": "python3"
  },
  "language_info": {
   "codemirror_mode": {
    "name": "ipython",
    "version": 3
   },
   "file_extension": ".py",
   "mimetype": "text/x-python",
   "name": "python",
   "nbconvert_exporter": "python",
   "pygments_lexer": "ipython3",
   "version": "3.9.13"
  }
 },
 "nbformat": 4,
 "nbformat_minor": 5
}
