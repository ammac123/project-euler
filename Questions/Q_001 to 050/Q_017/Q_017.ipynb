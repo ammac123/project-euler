{
 "cells": [
  {
   "cell_type": "markdown",
   "id": "eda84535-990e-45dd-b22c-c2ce945f7f07",
   "metadata": {},
   "source": [
    "### Problem 17: Number Letter Counts\n",
    "<p>If the numbers $1$ to $5$ are written out in words: one, two, three, four, five, then there are $3 + 3 + 5 + 4 + 4 = 19$ letters used in total.</p>\n",
    "<p>If all the numbers from $1$ to $1000$ (one thousand) inclusive were written out in words, how many letters would be used? </p>\n",
    "<br><p class=\"note\"><b>NOTE:</b> Do not count spaces or hyphens. For example, $342$ (three hundred and forty-two) contains $23$ letters and $115$ (one hundred and fifteen) contains $20$ letters. The use of \"and\" when writing out numbers is in compliance with British usage.</p>"
   ]
  },
  {
   "cell_type": "code",
   "execution_count": 38,
   "id": "b23a5a63-86bc-421f-aa17-9f5d1515498c",
   "metadata": {},
   "outputs": [],
   "source": [
    "import time"
   ]
  },
  {
   "cell_type": "code",
   "execution_count": 39,
   "id": "4ee458e9-192c-48b8-af3c-7f03b6b17526",
   "metadata": {},
   "outputs": [],
   "source": [
    "hundThous = {'1000':'thousand','100':'hundred'}\n",
    "tees = {'2': 'twenty', '3': 'thirty', '4': 'forty', '5': 'fifty', '6': 'sixty', '7': 'seventy', '8': 'eighty', '9': 'ninety'}\n",
    "tens = {'10': 'ten', '11': 'eleven', '12': 'twelve', '13': 'thirteen', '14': 'fourteen', '15': 'fifteen', '16': 'sixteen', '17': 'seventeen', '18': 'eighteen', '19': 'nineteen'}\n",
    "ones = {'1': 'one', '2': 'two', '3': 'three', '4': 'four', '5': 'five', '6': 'six', '7': 'seven', '8': 'eight', '9': 'nine'}"
   ]
  },
  {
   "cell_type": "code",
   "execution_count": 40,
   "id": "66d2c098-57dc-44ec-8a06-6a4b69bd88b1",
   "metadata": {},
   "outputs": [],
   "source": [
    "def numberToWord(n):\n",
    "    n_str = str(n).zfill(4)\n",
    "    result_string = ''\n",
    "    if n_str[0]!='0':\n",
    "        result_string += f' {ones[n_str[0]]} thousand'\n",
    "    \n",
    "    if n_str[1]!='0':\n",
    "        result_string += f' {ones[n_str[1]]} hundred'\n",
    "    \n",
    "        if n_str[2]!='0' or n_str[3]!='0':\n",
    "            result_string += f' and'\n",
    "        \n",
    "    if n_str[2] not in ['0','1']:\n",
    "        result_string += f' {tees[n_str[2]]}'\n",
    "        \n",
    "    elif n_str[2] == '1':\n",
    "        result_string += f' {tens[n_str[2:]]}'\n",
    "        return result_string.strip()\n",
    "    \n",
    "    if n_str[3]!='0':\n",
    "        result_string += f' {ones[n_str[3]]}'\n",
    "    \n",
    "    return result_string.strip()"
   ]
  },
  {
   "cell_type": "code",
   "execution_count": 41,
   "id": "7c7c92a8-40e7-43c9-b004-5499f47229df",
   "metadata": {},
   "outputs": [],
   "source": [
    "def pe_17():\n",
    "    result = 0\n",
    "    for i in range(1,1001):\n",
    "        result += len(numberToWord(i).replace(' ',''))\n",
    "    return result"
   ]
  },
  {
   "cell_type": "code",
   "execution_count": 42,
   "id": "2855f550-dbe4-49cc-8103-0407ad842398",
   "metadata": {},
   "outputs": [
    {
     "name": "stdout",
     "output_type": "stream",
     "text": [
      "The answer is : 21,124\n",
      "Time taken : 0.001917s\n"
     ]
    }
   ],
   "source": [
    "time_start = time.perf_counter()\n",
    "res = pe_17()\n",
    "time_end = time.perf_counter()\n",
    "time_taken = time_end - time_start\n",
    "print(f'The answer is : {res:,}\\nTime taken : {time_taken:6f}s')"
   ]
  }
 ],
 "metadata": {
  "kernelspec": {
   "display_name": "Python 3 (ipykernel)",
   "language": "python",
   "name": "python3"
  },
  "language_info": {
   "codemirror_mode": {
    "name": "ipython",
    "version": 3
   },
   "file_extension": ".py",
   "mimetype": "text/x-python",
   "name": "python",
   "nbconvert_exporter": "python",
   "pygments_lexer": "ipython3",
   "version": "3.9.13"
  }
 },
 "nbformat": 4,
 "nbformat_minor": 5
}
