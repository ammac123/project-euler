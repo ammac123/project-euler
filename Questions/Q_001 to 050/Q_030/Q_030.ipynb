{
 "cells": [
  {
   "cell_type": "markdown",
   "id": "63dac59e-8dd7-4bf8-9ce6-75b2b24133e6",
   "metadata": {},
   "source": [
    "### Problem 30: Digit Fifth Powers\n",
    "<p>Surprisingly there are only three numbers that can be written as the sum of fourth powers of their digits:\n",
    "\\begin{align}\n",
    "1634 &= 1^4 + 6^4 + 3^4 + 4^4\\\\\n",
    "8208 &= 8^4 + 2^4 + 0^4 + 8^4\\\\\n",
    "9474 &= 9^4 + 4^4 + 7^4 + 4^4\n",
    "\\end{align}\n",
    "</p><p class=\"smaller\">As $1 = 1^4$ is not a sum it is not included.</p>\n",
    "<p>The sum of these numbers is $1634 + 8208 + 9474 = 19316$.</p>\n",
    "<p>Find the sum of all the numbers that can be written as the sum of fifth powers of their digits.</p>\n"
   ]
  },
  {
   "cell_type": "code",
   "execution_count": 40,
   "id": "41c406e7-1787-415d-b59b-ecf0f10286d6",
   "metadata": {},
   "outputs": [],
   "source": [
    "import math\n",
    "from itertools import combinations_with_replacement\n",
    "from collections import Counter"
   ]
  },
  {
   "cell_type": "code",
   "execution_count": 84,
   "id": "968409eb-4624-425d-86fb-83f07d9036c1",
   "metadata": {},
   "outputs": [],
   "source": [
    "def checkSum(n):\n",
    "    counter = Counter(str(n))\n",
    "    count = 0\n",
    "    for x,i in counter.items():\n",
    "        count += pow5[x]*i\n",
    "    return count == n"
   ]
  },
  {
   "cell_type": "code",
   "execution_count": 85,
   "id": "7ea83631-1210-4211-94e1-614f8772306d",
   "metadata": {},
   "outputs": [],
   "source": [
    "def pe_30():\n",
    "    pow5 = {f'{x}':x**5 for x in range(10)}\n",
    "    result_list = set()\n",
    "    for i in range(1,10):\n",
    "        for combs in itertools.combinations_with_replacement(pow5.values(),i):\n",
    "            if checkSum(sum(combs)) and sum(combs) > 1:\n",
    "                result_list.add(sum(combs))\n",
    "    return sum(result_list), result_list"
   ]
  },
  {
   "cell_type": "code",
   "execution_count": 86,
   "id": "5e447144-ee23-46b9-b00f-9f8ed0b64bb3",
   "metadata": {},
   "outputs": [
    {
     "name": "stdout",
     "output_type": "stream",
     "text": [
      "443839 {194979, 93084, 4151, 4150, 92727, 54748}\n"
     ]
    }
   ],
   "source": [
    "x,y = pe_30()\n",
    "print(x, y)"
   ]
  }
 ],
 "metadata": {
  "kernelspec": {
   "display_name": "Python 3 (ipykernel)",
   "language": "python",
   "name": "python3"
  },
  "language_info": {
   "codemirror_mode": {
    "name": "ipython",
    "version": 3
   },
   "file_extension": ".py",
   "mimetype": "text/x-python",
   "name": "python",
   "nbconvert_exporter": "python",
   "pygments_lexer": "ipython3",
   "version": "3.9.13"
  }
 },
 "nbformat": 4,
 "nbformat_minor": 5
}
