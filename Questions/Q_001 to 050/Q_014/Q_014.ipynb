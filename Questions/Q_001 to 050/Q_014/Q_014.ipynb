{
 "cells": [
  {
   "cell_type": "markdown",
   "id": "6a36bdc6-fc24-45eb-ab2c-8f7efe43df1d",
   "metadata": {},
   "source": [
    "### Problem 14: Longest Collatz Sequence\n",
    "<p>The following iterative sequence is defined for the set of positive integers:</p>\n",
    "<ul style=\"list-style-type:none;\">\n",
    "<li>$n \\to n/2$ ($n$ is even)</li>\n",
    "<li>$n \\to 3n + 1$ ($n$ is odd)</li></ul>\n",
    "<p>Using the rule above and starting with $13$, we generate the following sequence:\n",
    "$$13 \\to 40 \\to 20 \\to 10 \\to 5 \\to 16 \\to 8 \\to 4 \\to 2 \\to 1.$$</p>\n",
    "<p>It can be seen that this sequence (starting at $13$ and finishing at $1$) contains $10$ terms. Although it has not been proved yet (Collatz Problem), it is thought that all starting numbers finish at $1$.</p>\n",
    "<p>Which starting number, under one million, produces the longest chain?</p>\n",
    "<p class=\"note\"><b>NOTE:</b> Once the chain starts the terms are allowed to go above one million.</p>\n"
   ]
  },
  {
   "cell_type": "code",
   "execution_count": 134,
   "id": "511b62f0-71e0-4f4e-8b35-7ae53125c28f",
   "metadata": {},
   "outputs": [],
   "source": [
    "import collections\n",
    "import time"
   ]
  },
  {
   "cell_type": "code",
   "execution_count": 135,
   "id": "eb4430f0-1330-443f-ba2b-eb390ff31985",
   "metadata": {},
   "outputs": [],
   "source": [
    "def collatzFunc(n):\n",
    "    if n==0: return 1\n",
    "    if n & 1 == 0:\n",
    "        m = n/2\n",
    "    else:\n",
    "        m = 3*n + 1\n",
    "    return int(m)"
   ]
  },
  {
   "cell_type": "code",
   "execution_count": 136,
   "id": "bfd4b895-d1eb-489a-8c83-2c77cab773a5",
   "metadata": {},
   "outputs": [],
   "source": [
    "def collatzSeq(n, cache):\n",
    "    if n in cache:\n",
    "        cache[n]\n",
    "    \n",
    "    elif n == 1:\n",
    "        cache[n] = 1\n",
    "    \n",
    "    else:\n",
    "        cache[n] = 1 + collatzSeq(collatzFunc(n),cache)\n",
    "    \n",
    "    return cache[n]"
   ]
  },
  {
   "cell_type": "code",
   "execution_count": 137,
   "id": "c15b287e-99ff-4d71-b82c-468cdd657f00",
   "metadata": {},
   "outputs": [],
   "source": [
    "cache = collections.defaultdict(int)"
   ]
  },
  {
   "cell_type": "code",
   "execution_count": 138,
   "id": "a81b69ab-aea1-4e9a-b64d-d3baedddb7d3",
   "metadata": {},
   "outputs": [],
   "source": [
    "def pe_14(m=1_000_000):\n",
    "    global cache\n",
    "    for i in range(1,m):\n",
    "        if i not in cache:\n",
    "            collatzSeq(i,cache)\n",
    "        \n",
    "    keyVal = max(cache, key=lambda k: cache[k])\n",
    "    return (keyVal, cache[keyVal])"
   ]
  },
  {
   "cell_type": "code",
   "execution_count": 139,
   "id": "9a5e77e8-5586-49e1-8c15-a76fccfa7f46",
   "metadata": {},
   "outputs": [
    {
     "name": "stdout",
     "output_type": "stream",
     "text": [
      "The starting number with the longest sequence under 1000000 is: 837799 with a length of 525.\n",
      "Time taken : 1.590542s\n"
     ]
    }
   ],
   "source": [
    "time_start = time.perf_counter()\n",
    "m = 1_000_000\n",
    "x,y = pe_14(m)\n",
    "time_end = time.perf_counter()\n",
    "time_taken = time_end - time_start\n",
    "print(f'The starting number with the longest sequence under {m} is: {x} with a length of {y}.\\nTime taken : {time_taken:.6f}s')"
   ]
  }
 ],
 "metadata": {
  "kernelspec": {
   "display_name": "Python 3 (ipykernel)",
   "language": "python",
   "name": "python3"
  },
  "language_info": {
   "codemirror_mode": {
    "name": "ipython",
    "version": 3
   },
   "file_extension": ".py",
   "mimetype": "text/x-python",
   "name": "python",
   "nbconvert_exporter": "python",
   "pygments_lexer": "ipython3",
   "version": "3.9.13"
  }
 },
 "nbformat": 4,
 "nbformat_minor": 5
}
