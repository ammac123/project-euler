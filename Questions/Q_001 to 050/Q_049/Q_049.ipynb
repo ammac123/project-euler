{
 "cells": [
  {
   "cell_type": "markdown",
   "id": "c4e2f932-235c-4061-a816-041cd40ee994",
   "metadata": {},
   "source": [
    "### Problem 49: Prime Permutations\n",
    "<p>The arithmetic sequence, $1487, 4817, 8147$, in which each of the terms increases by $3330$, is unusual in two ways: (i) each of the three terms are prime, and, (ii) each of the $4$-digit numbers are permutations of one another.</p>\r\n",
    "<p>There are no arithmetic sequences made up of three $1$-, $2$-, or $3$-digit primes, exhibiting this property, but there is one other $4$-digit increasing sequence.</p>\r\n",
    "<p>What $12$-digit number do you form by concatenating the three terms in this sequence?</p>\r\n"
   ]
  },
  {
   "cell_type": "code",
   "execution_count": 38,
   "id": "27db40f4-518e-4078-aae8-752048c73fe1",
   "metadata": {},
   "outputs": [],
   "source": [
    "from collections import Counter"
   ]
  },
  {
   "cell_type": "code",
   "execution_count": 19,
   "id": "8f0843b4-579a-4841-83db-49c6b0456d57",
   "metadata": {},
   "outputs": [],
   "source": [
    "def sieve(n):\n",
    "    primes = [True for _ in range(n+1)]\n",
    "    p = 2\n",
    "\n",
    "    #133_937\n",
    "    while p*p <= n: \n",
    "        if primes[p]:\n",
    "            for i in range(p*p, n+1, p):\n",
    "                primes[i] = False\n",
    "        p += 1\n",
    "    return [i for i,_ in enumerate(primes) if _ and i>1]"
   ]
  },
  {
   "cell_type": "code",
   "execution_count": 42,
   "id": "6ff669a9-e57f-435a-bd5d-3d518a3f80c4",
   "metadata": {},
   "outputs": [],
   "source": [
    "def is_perm(num1,num2):\n",
    "    str1 = str(num1)\n",
    "    str2 = str(num2)\n",
    "\n",
    "    return Counter(str1) == Counter(str2)"
   ]
  },
  {
   "cell_type": "code",
   "execution_count": 47,
   "id": "d58846e3-4935-4649-891e-8272dbe80502",
   "metadata": {},
   "outputs": [
    {
     "name": "stdout",
     "output_type": "stream",
     "text": [
      "148748178147\n",
      "296962999629\n"
     ]
    }
   ],
   "source": [
    "result = list(filter(lambda x: x > 999, sieve(9999)))\n",
    "for e in result:\n",
    "    for inc in range(1000,int((max(result)-e)/2)):\n",
    "        if e+inc in result and e+(2*inc) in result:\n",
    "            if is_perm(e+inc,e) and is_perm(e+(2*inc),e):\n",
    "                print(f'{e}{e+inc}{e+(2*inc)}')\n",
    "                "
   ]
  }
 ],
 "metadata": {
  "kernelspec": {
   "display_name": "Python 3 (ipykernel)",
   "language": "python",
   "name": "python3"
  },
  "language_info": {
   "codemirror_mode": {
    "name": "ipython",
    "version": 3
   },
   "file_extension": ".py",
   "mimetype": "text/x-python",
   "name": "python",
   "nbconvert_exporter": "python",
   "pygments_lexer": "ipython3",
   "version": "3.11.6"
  }
 },
 "nbformat": 4,
 "nbformat_minor": 5
}
