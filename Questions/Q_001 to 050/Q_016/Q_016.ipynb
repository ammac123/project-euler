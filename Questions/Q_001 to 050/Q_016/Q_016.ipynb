{
 "cells": [
  {
   "cell_type": "markdown",
   "id": "546b697f-7767-400a-b3bf-574435d9c9b7",
   "metadata": {},
   "source": [
    "### Problem 16: Power Digit Sum\n",
    "<p>$2^{15} = 32768$ and the sum of its digits is $3 + 2 + 7 + 6 + 8 = 26$.</p>\n",
    "<p>What is the sum of the digits of the number $2^{1000}$?</p>\n"
   ]
  },
  {
   "cell_type": "code",
   "execution_count": 1,
   "id": "cdcbbbf9-d511-4451-a138-26609fba88c0",
   "metadata": {},
   "outputs": [
    {
     "data": {
      "text/plain": [
       "1366"
      ]
     },
     "execution_count": 1,
     "metadata": {},
     "output_type": "execute_result"
    }
   ],
   "source": [
    "sum([int(x) for x in str(2**1000)])"
   ]
  }
 ],
 "metadata": {
  "kernelspec": {
   "display_name": "Python 3 (ipykernel)",
   "language": "python",
   "name": "python3"
  },
  "language_info": {
   "codemirror_mode": {
    "name": "ipython",
    "version": 3
   },
   "file_extension": ".py",
   "mimetype": "text/x-python",
   "name": "python",
   "nbconvert_exporter": "python",
   "pygments_lexer": "ipython3",
   "version": "3.9.13"
  }
 },
 "nbformat": 4,
 "nbformat_minor": 5
}
