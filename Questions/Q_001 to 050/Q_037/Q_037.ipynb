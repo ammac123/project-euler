{
 "cells": [
  {
   "cell_type": "markdown",
   "id": "491730fe-9a23-408b-b660-58ca2f0facdd",
   "metadata": {},
   "source": [
    "### Problem 37: Truncatable Primes\n",
    "<p>The number $3797$ has an interesting property. Being prime itself, it is possible to continuously remove digits from left to right, and remain prime at each stage: $3797$, $797$, $97$, and $7$. Similarly we can work from right to left: $3797$, $379$, $37$, and $3$.</p>\n",
    "<p>Find the sum of the only eleven primes that are both truncatable from left to right and right to left.</p>\n",
    "<p class=\"smaller\">NOTE: $2$, $3$, $5$, and $7$ are not considered to be truncatable primes.</p>\n"
   ]
  },
  {
   "cell_type": "code",
   "execution_count": 1,
   "id": "28d24b0e-99e9-43dd-b720-e14c362b68ab",
   "metadata": {},
   "outputs": [],
   "source": [
    "def sieve(n):\n",
    "    p = 2\n",
    "    primes = [True]*(n+1)\n",
    "    res = []\n",
    "    while (p*p < n):\n",
    "        \n",
    "        if primes[p] == True:\n",
    "            for i in range(p*p, n+1,p):\n",
    "                primes[i] = False\n",
    "\n",
    "        p += 1\n",
    "\n",
    "    res = [i for i,x in enumerate(primes) if i > 1 and x==True]\n",
    "    \n",
    "    return res"
   ]
  },
  {
   "cell_type": "code",
   "execution_count": 100,
   "id": "6d0f9e98-9569-4465-a3d6-32c1f406f314",
   "metadata": {},
   "outputs": [],
   "source": [
    "num = 800_000\n",
    "primes = sieve(num)"
   ]
  },
  {
   "cell_type": "code",
   "execution_count": 101,
   "id": "0cd09ccf-88a1-49b4-9172-f3ff9de73e4c",
   "metadata": {},
   "outputs": [],
   "source": [
    "def check_prime_trunc(n, prime=sieve(num)):\n",
    "    k = str(n)\n",
    "    if n not in prime:\n",
    "        return False\n",
    "    for i in range(1,len(k)):\n",
    "        if int(k[:-i]) not in prime:\n",
    "            return False\n",
    "        if int(k[i:]) not in prime:\n",
    "            return False\n",
    "    return True\n",
    "\n",
    "\n",
    "def check_prime_trunc_left(n, prime=sieve(10000)):\n",
    "    k = str(n)\n",
    "    if n not in prime:\n",
    "        return False\n",
    "    for i in range(1,len(k)):\n",
    "        if int(k[:-i]) not in prime:\n",
    "            return False\n",
    "    return True\n",
    "\n",
    "\n",
    "def check_prime_trunc_right(n, prime=sieve(10000)):\n",
    "    k = str(n)\n",
    "    if n not in prime:\n",
    "        return False\n",
    "    for i in range(1,len(k)):\n",
    "        if int(k[i:]) not in prime:\n",
    "            return False\n",
    "    return True"
   ]
  },
  {
   "cell_type": "code",
   "execution_count": 102,
   "id": "1ca0a3c2-ad11-4223-875a-3aaf23bd2106",
   "metadata": {},
   "outputs": [
    {
     "data": {
      "text/plain": [
       "748317"
      ]
     },
     "execution_count": 102,
     "metadata": {},
     "output_type": "execute_result"
    }
   ],
   "source": [
    "res = []\n",
    "for i in primes:\n",
    "    if check_prime_trunc(i,primes):\n",
    "        res.append(i)\n",
    "sum([x for x in res if x > 10])"
   ]
  }
 ],
 "metadata": {
  "kernelspec": {
   "display_name": "Python 3 (ipykernel)",
   "language": "python",
   "name": "python3"
  },
  "language_info": {
   "codemirror_mode": {
    "name": "ipython",
    "version": 3
   },
   "file_extension": ".py",
   "mimetype": "text/x-python",
   "name": "python",
   "nbconvert_exporter": "python",
   "pygments_lexer": "ipython3",
   "version": "3.12.0"
  }
 },
 "nbformat": 4,
 "nbformat_minor": 5
}
