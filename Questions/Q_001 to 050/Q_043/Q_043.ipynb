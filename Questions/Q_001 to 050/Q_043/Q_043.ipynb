{
 "cells": [
  {
   "cell_type": "markdown",
   "id": "46977f8b-a5ce-4bf3-bbd3-2da4cb57f1ae",
   "metadata": {},
   "source": [
    "### Problem 43: Sub-string Divisibility\n",
    "<p>The number, $1406357289$, is a $0$ to $9$ pandigital number because it is made up of each of the digits $0$ to $9$ in some order, but it also has a rather interesting sub-string divisibility property.</p>\n",
    "<p>Let $d_1$ be the $1$<sup>st</sup> digit, $d_2$ be the $2$<sup>nd</sup> digit, and so on. In this way, we note the following:</p>\n",
    "<ul><li>$d_2d_3d_4=406$ is divisible by $2$</li>\n",
    "<li>$d_3d_4d_5=063$ is divisible by $3$</li>\n",
    "<li>$d_4d_5d_6=635$ is divisible by $5$</li>\n",
    "<li>$d_5d_6d_7=357$ is divisible by $7$</li>\n",
    "<li>$d_6d_7d_8=572$ is divisible by $11$</li>\n",
    "<li>$d_7d_8d_9=728$ is divisible by $13$</li>\n",
    "<li>$d_8d_9d_{10}=289$ is divisible by $17$</li>\n",
    "</ul><p>Find the sum of all $0$ to $9$ pandigital numbers with this property.</p>\n"
   ]
  },
  {
   "cell_type": "code",
   "execution_count": 16,
   "id": "4b39cbcf-08ff-4a0c-aba7-4f4f10f6a7bc",
   "metadata": {},
   "outputs": [],
   "source": [
    "from itertools import permutations\n",
    "primes = [2,3,5,7,11,13,17]\n",
    "numList = [str(x) for x in range(10)]"
   ]
  },
  {
   "cell_type": "code",
   "execution_count": 17,
   "id": "7d55d553-fe1b-49f3-a262-d351bed0f3a2",
   "metadata": {},
   "outputs": [],
   "source": [
    "def check_property(s):\n",
    "    for i in range(7):\n",
    "        if int(s[i+1:i+4])%primes[i] != 0:\n",
    "            return False\n",
    "    return True"
   ]
  },
  {
   "cell_type": "code",
   "execution_count": 19,
   "id": "f222666e-fe71-439e-be60-58114cd6629b",
   "metadata": {},
   "outputs": [],
   "source": [
    "running_sum = 0\n",
    "for x in permutations(numList,10):\n",
    "    s = ''.join(x)\n",
    "    if check_property(s):\n",
    "        running_sum += int(s)"
   ]
  },
  {
   "cell_type": "code",
   "execution_count": 22,
   "id": "c65aba22-b6df-4e7a-b4bc-21a2e797fb58",
   "metadata": {},
   "outputs": [
    {
     "name": "stdout",
     "output_type": "stream",
     "text": [
      "16,695,334,890\n"
     ]
    }
   ],
   "source": [
    "print(f'{running_sum:,.0f}')"
   ]
  }
 ],
 "metadata": {
  "kernelspec": {
   "display_name": "Python 3 (ipykernel)",
   "language": "python",
   "name": "python3"
  },
  "language_info": {
   "codemirror_mode": {
    "name": "ipython",
    "version": 3
   },
   "file_extension": ".py",
   "mimetype": "text/x-python",
   "name": "python",
   "nbconvert_exporter": "python",
   "pygments_lexer": "ipython3",
   "version": "3.11.6"
  }
 },
 "nbformat": 4,
 "nbformat_minor": 5
}
