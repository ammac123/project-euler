{
 "cells": [
  {
   "cell_type": "markdown",
   "id": "9f91fbf4-fb22-4252-bbd7-12598f451106",
   "metadata": {},
   "source": [
    "### Problem 35: Circular Primes\n",
    "<p>The number, $197$, is called a circular prime because all rotations of the digits: $197$, $971$, and $719$, are themselves prime.</p>\n",
    "<p>There are thirteen such primes below $100$: $2, 3, 5, 7, 11, 13, 17, 31, 37, 71, 73, 79$, and $97$.</p>\n",
    "<p>How many circular primes are there below one million?</p>\n"
   ]
  },
  {
   "cell_type": "code",
   "execution_count": 6,
   "id": "d01910c0-eb35-4954-991e-993ee1dec940",
   "metadata": {},
   "outputs": [],
   "source": [
    "from itertools import combinations_with_replacement, permutations\n",
    "import math"
   ]
  },
  {
   "cell_type": "code",
   "execution_count": 2,
   "id": "73b38279-543f-4f53-9c17-163fe57e95bb",
   "metadata": {},
   "outputs": [],
   "source": [
    "def sieve(n):\n",
    "    p = 2\n",
    "    primes = [True]*(n+1)\n",
    "    res = []\n",
    "    while (p*p < n):\n",
    "        \n",
    "        if primes[p] == True:\n",
    "            for i in range(p*p, n+1,p):\n",
    "                primes[i] = False\n",
    "\n",
    "        p += 1\n",
    "\n",
    "    res = [i for i,x in enumerate(primes) if i > 1 and x==True]\n",
    "    \n",
    "    return res"
   ]
  },
  {
   "cell_type": "code",
   "execution_count": 218,
   "id": "d50177c6-07e5-4491-979d-a40b65288dd4",
   "metadata": {},
   "outputs": [],
   "source": [
    "prime_digits = [1,3,7,9]\n",
    "primes = sieve(1_000_000)\n",
    "primes_filt = list(set(sieve(100)).union(set([x for x in primes if all(int(digit) in prime_digits for digit in str(x))])))"
   ]
  },
  {
   "cell_type": "code",
   "execution_count": 219,
   "id": "a496b72c-90c5-4a9b-8d4a-a5bae6d41d8d",
   "metadata": {},
   "outputs": [],
   "source": [
    "primes = sieve(1_000_000)\n",
    "def check_cycle(n, prime_list, checked = None):\n",
    "    if checked is None:\n",
    "        checked = []\n",
    "        \n",
    "    next_n = int(str(n)[-1] + str(n)[:-1])\n",
    "    \n",
    "    if next_n not in prime_list:\n",
    "        for r in checked:\n",
    "            prime_list.remove(r)\n",
    "    \n",
    "    \n",
    "    elif next_n not in checked:\n",
    "        checked.append(next_n)\n",
    "        check_cycle(next_n, prime_list, checked)\n",
    "        \n",
    "    return"
   ]
  },
  {
   "cell_type": "code",
   "execution_count": 222,
   "id": "8208e932-9db0-4039-8631-3028042a067e",
   "metadata": {},
   "outputs": [
    {
     "name": "stdout",
     "output_type": "stream",
     "text": [
      "There are 55 circular primes below 1 million\n"
     ]
    }
   ],
   "source": [
    "ind = 0\n",
    "\n",
    "while True:\n",
    "    if ind > len(primes_filt)-1:\n",
    "        break\n",
    "\n",
    "    i = primes_filt[ind]\n",
    "    check_cycle(i,primes_filt,[i])\n",
    "    \n",
    "    if i in primes_filt: ind+=1\n",
    "    \n",
    "    \n",
    "print(f'There are {len(primes_filt)} circular primes below 1 million')"
   ]
  },
  {
   "cell_type": "code",
   "execution_count": null,
   "id": "191681d4-6f85-4910-b166-8b9f2c3190bc",
   "metadata": {},
   "outputs": [],
   "source": []
  }
 ],
 "metadata": {
  "kernelspec": {
   "display_name": "Python 3 (ipykernel)",
   "language": "python",
   "name": "python3"
  },
  "language_info": {
   "codemirror_mode": {
    "name": "ipython",
    "version": 3
   },
   "file_extension": ".py",
   "mimetype": "text/x-python",
   "name": "python",
   "nbconvert_exporter": "python",
   "pygments_lexer": "ipython3",
   "version": "3.12.0"
  }
 },
 "nbformat": 4,
 "nbformat_minor": 5
}
