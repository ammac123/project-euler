{
 "cells": [
  {
   "cell_type": "markdown",
   "id": "e096539f-1bd6-47eb-a1c3-cdcd46f79665",
   "metadata": {},
   "source": [
    "### Problem 21: Amicable Numbers\n",
    "<p>Let $d(n)$ be defined as the sum of proper divisors of $n$ (numbers less than $n$ which divide evenly into $n$).<br>\n",
    "If $d(a) = b$ and $d(b) = a$, where $a \\ne b$, then $a$ and $b$ are an amicable pair and each of $a$ and $b$ are called amicable numbers.</p>\n",
    "<p>For example, the proper divisors of $220$ are $1, 2, 4, 5, 10, 11, 20, 22, 44, 55$ and $110$; therefore $d(220) = 284$. The proper divisors of $284$ are $1, 2, 4, 71$ and $142$; so $d(284) = 220$.</p>\n",
    "<p>Evaluate the sum of all the amicable numbers under $10000$.</p>"
   ]
  },
  {
   "cell_type": "code",
   "execution_count": 1,
   "id": "baee61ac-7de1-44fa-8fd0-51cd2bd5a607",
   "metadata": {},
   "outputs": [],
   "source": [
    "from sympy import divisors\n",
    "import math"
   ]
  },
  {
   "cell_type": "code",
   "execution_count": 8,
   "id": "8c514e6d-e2e1-4470-a8d0-f76a00bdb995",
   "metadata": {},
   "outputs": [],
   "source": [
    "def divisorSum(n):\n",
    "    return sum([d for d in divisors(n) if d < n])"
   ]
  },
  {
   "cell_type": "code",
   "execution_count": 29,
   "id": "acf5b44b-e433-488d-adda-7a3c2c6c33dc",
   "metadata": {},
   "outputs": [],
   "source": [
    "def amicableChain(n, seen=[], cache=[], lim = 10_000):\n",
    "    next_n = divisorSum(n)\n",
    "    seen.append(n)\n",
    "    if n == divisorSum(next_n) and n!=next_n:\n",
    "        seen.append(next_n)\n",
    "        cache.extend([n,next_n])\n",
    "        return\n",
    "    elif next_n not in seen and next_n < lim:\n",
    "        amicableChain(next_n,seen,cache)\n",
    "    else:\n",
    "        return"
   ]
  },
  {
   "cell_type": "code",
   "execution_count": 30,
   "id": "df7f71ba-d5c0-4fa9-8486-270a3bdfde19",
   "metadata": {},
   "outputs": [
    {
     "data": {
      "text/plain": [
       "31626"
      ]
     },
     "execution_count": 30,
     "metadata": {},
     "output_type": "execute_result"
    }
   ],
   "source": [
    "seen = []\n",
    "cache = []\n",
    "lim = 10_000\n",
    "for i in range(1,lim):\n",
    "    if i not in seen:\n",
    "        amicableChain(i,seen,cache,lim)\n",
    "        \n",
    "print(sum(cache))"
   ]
  }
 ],
 "metadata": {
  "kernelspec": {
   "display_name": "Python 3 (ipykernel)",
   "language": "python",
   "name": "python3"
  },
  "language_info": {
   "codemirror_mode": {
    "name": "ipython",
    "version": 3
   },
   "file_extension": ".py",
   "mimetype": "text/x-python",
   "name": "python",
   "nbconvert_exporter": "python",
   "pygments_lexer": "ipython3",
   "version": "3.9.13"
  }
 },
 "nbformat": 4,
 "nbformat_minor": 5
}
