{
 "cells": [
  {
   "cell_type": "markdown",
   "id": "a28dec75-791c-400a-8ed3-c637818ac7c3",
   "metadata": {},
   "source": [
    "### Problem 41: Pandigital Prime\n",
    "<p>We shall say that an $n$-digit number is pandigital if it makes use of all the digits $1$ to $n$ exactly once. For example, $2143$ is a $4$-digit pandigital and is also prime.</p>\r\n",
    "<p>What is the largest $n$-digit pandigital prime that exists?</p>\r\n"
   ]
  },
  {
   "cell_type": "code",
   "execution_count": 17,
   "id": "f46c9db7-8f4c-4c5a-83dd-7f222af9de1f",
   "metadata": {},
   "outputs": [],
   "source": [
    "from sympy import ntheory\n",
    "from itertools import permutations"
   ]
  },
  {
   "cell_type": "code",
   "execution_count": 35,
   "id": "4f45c262-0294-4a7d-a01e-a82276818f2f",
   "metadata": {},
   "outputs": [],
   "source": [
    "res = []\n",
    "for m in range(2,10):\n",
    "    numList = [str(i) for i in range(1,m)]\n",
    "    for x in permutations(numList,len(numList)):\n",
    "        num = int(''.join(x))\n",
    "        if ntheory.totient(num) == num-1:\n",
    "            res.append(num)"
   ]
  },
  {
   "cell_type": "code",
   "execution_count": 38,
   "id": "58b57800-26a6-4940-b851-9f7b79e02e73",
   "metadata": {},
   "outputs": [
    {
     "name": "stdout",
     "output_type": "stream",
     "text": [
      "7652413\n"
     ]
    }
   ],
   "source": [
    "print(max(res))"
   ]
  }
 ],
 "metadata": {
  "kernelspec": {
   "display_name": "Python 3 (ipykernel)",
   "language": "python",
   "name": "python3"
  },
  "language_info": {
   "codemirror_mode": {
    "name": "ipython",
    "version": 3
   },
   "file_extension": ".py",
   "mimetype": "text/x-python",
   "name": "python",
   "nbconvert_exporter": "python",
   "pygments_lexer": "ipython3",
   "version": "3.11.6"
  }
 },
 "nbformat": 4,
 "nbformat_minor": 5
}
