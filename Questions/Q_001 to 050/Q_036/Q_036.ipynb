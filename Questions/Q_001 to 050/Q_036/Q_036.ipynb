{
 "cells": [
  {
   "cell_type": "markdown",
   "id": "b0fb0b7e-cf97-4a2f-b3b9-8a3a31f80296",
   "metadata": {},
   "source": [
    "### Problem 36: Double-base Palindromes\n",
    "<p>The decimal number, $585 = 1001001001_2$ (binary), is palindromic in both bases.</p>\n",
    "<p>Find the sum of all numbers, less than one million, which are palindromic in base $10$ and base $2$.</p>\n",
    "<p class=\"smaller\">(Please note that the palindromic number, in either base, may not include leading zeros.)</p>\n"
   ]
  },
  {
   "cell_type": "code",
   "execution_count": 41,
   "id": "48190707-f20c-466e-825a-d849a7573afe",
   "metadata": {},
   "outputs": [],
   "source": [
    "def create_palindrome(n,form='mid'):\n",
    "    if form == 'mid':\n",
    "        s1 = str(n)\n",
    "        s2 = s1[::-1][1:]    \n",
    "        \n",
    "    else:\n",
    "        s1 = str(n)\n",
    "        s2 = s1[::-1]\n",
    "    return int(s1 + s2)"
   ]
  },
  {
   "cell_type": "code",
   "execution_count": 42,
   "id": "9b7bf290-2887-499d-bafc-c6c02cc5ddd8",
   "metadata": {},
   "outputs": [],
   "source": [
    "def check_palindrome(n):\n",
    "    return str(n) == str(n)[::-1]"
   ]
  },
  {
   "cell_type": "code",
   "execution_count": 63,
   "id": "fff6e1f6-13f8-4cec-8454-4b6de2424724",
   "metadata": {},
   "outputs": [
    {
     "name": "stdout",
     "output_type": "stream",
     "text": [
      "The sum of all double base palindromes under 1 million is: 872,187\n"
     ]
    }
   ],
   "source": [
    "count = 0\n",
    "for i in range(1,1_000):\n",
    "    if check_palindrome(format(create_palindrome(i, None),'b')):\n",
    "        count += create_palindrome(i, None)\n",
    "\n",
    "for i in range(1,1_000):\n",
    "    if check_palindrome(format(create_palindrome(i, 'mid'),'b')):\n",
    "        count += create_palindrome(i, 'mid')\n",
    "        \n",
    "print(f'The sum of all double base palindromes under 1 million is: {count:,}')"
   ]
  }
 ],
 "metadata": {
  "kernelspec": {
   "display_name": "Python 3 (ipykernel)",
   "language": "python",
   "name": "python3"
  },
  "language_info": {
   "codemirror_mode": {
    "name": "ipython",
    "version": 3
   },
   "file_extension": ".py",
   "mimetype": "text/x-python",
   "name": "python",
   "nbconvert_exporter": "python",
   "pygments_lexer": "ipython3",
   "version": "3.9.13"
  }
 },
 "nbformat": 4,
 "nbformat_minor": 5
}
