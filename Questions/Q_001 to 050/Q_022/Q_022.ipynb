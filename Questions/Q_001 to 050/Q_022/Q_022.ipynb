{
 "cells": [
  {
   "cell_type": "markdown",
   "id": "fa1cd078-1c7f-4f68-886f-40341dcb41db",
   "metadata": {},
   "source": [
    "### Problem 22: Names Scores\n",
    "<p>Using <a href=\"resources/documents/0022_names.txt\">names.txt</a> (right click and 'Save Link/Target As...'), a 46K text file containing over five-thousand first names, begin by sorting it into alphabetical order. Then working out the alphabetical value for each name, multiply this value by its alphabetical position in the list to obtain a name score.</p>\n",
    "<p>For example, when the list is sorted into alphabetical order, COLIN, which is worth $3 + 15 + 12 + 9 + 14 = 53$, is the $938$th name in the list. So, COLIN would obtain a score of $938 \\times 53 = 49714$.</p>\n",
    "<p>What is the total of all the name scores in the file?</p>\n"
   ]
  },
  {
   "cell_type": "code",
   "execution_count": 2,
   "id": "bdb41af5-2da7-4805-b0ef-8dbae87b4f84",
   "metadata": {},
   "outputs": [],
   "source": [
    "import os"
   ]
  },
  {
   "cell_type": "code",
   "execution_count": 29,
   "id": "be2a3195-165a-4af2-97b4-57f52bc56478",
   "metadata": {},
   "outputs": [],
   "source": [
    "import os\n",
    "import time\n",
    "with open(os.path.join(os.path.dirname(os.getcwd()),'xxx_ProjectEulerData','0022_names.txt'),\"r\") as file:\n",
    "    namesList = [x.replace('\"','') for x in file.read().split(',')]"
   ]
  },
  {
   "cell_type": "code",
   "execution_count": 30,
   "id": "e7cd4603-6c94-4367-80c5-ce6567445090",
   "metadata": {},
   "outputs": [],
   "source": [
    "namesList.sort()"
   ]
  },
  {
   "cell_type": "code",
   "execution_count": 31,
   "id": "a29b4334-fb0c-45cd-b68a-96ca1c10f3ac",
   "metadata": {},
   "outputs": [],
   "source": [
    "def rankName(names):\n",
    "    return sum([ord(s.lower())-96 for s in names])"
   ]
  },
  {
   "cell_type": "code",
   "execution_count": 32,
   "id": "4d39b7ea-6e05-41ca-9bac-97ee0fdedcf1",
   "metadata": {},
   "outputs": [
    {
     "name": "stdout",
     "output_type": "stream",
     "text": [
      "871198282\n"
     ]
    }
   ],
   "source": [
    "runningSum = 0\n",
    "for i,val in enumerate(namesList):\n",
    "    runningSum += (i+1)*rankName(val)\n",
    "print(runningSum)"
   ]
  }
 ],
 "metadata": {
  "kernelspec": {
   "display_name": "Python 3 (ipykernel)",
   "language": "python",
   "name": "python3"
  },
  "language_info": {
   "codemirror_mode": {
    "name": "ipython",
    "version": 3
   },
   "file_extension": ".py",
   "mimetype": "text/x-python",
   "name": "python",
   "nbconvert_exporter": "python",
   "pygments_lexer": "ipython3",
   "version": "3.9.13"
  }
 },
 "nbformat": 4,
 "nbformat_minor": 5
}
