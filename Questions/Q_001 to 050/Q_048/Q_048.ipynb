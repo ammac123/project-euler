{
 "cells": [
  {
   "cell_type": "markdown",
   "id": "3c104363-23ee-425b-85ea-93263a75f2cc",
   "metadata": {},
   "source": [
    "### Problem 48: Self Powers\n",
    "<p>The series, $1^1 + 2^2 + 3^3 + \\cdots + 10^{10} = 10405071317$.</p>\n",
    "<p>Find the last ten digits of the series, $1^1 + 2^2 + 3^3 + \\cdots + 1000^{1000}$.</p>\n"
   ]
  },
  {
   "cell_type": "code",
   "execution_count": 14,
   "id": "abdb0421-c566-4421-8ac4-4f142feee84f",
   "metadata": {},
   "outputs": [
    {
     "name": "stdout",
     "output_type": "stream",
     "text": [
      "9110846700\n"
     ]
    }
   ],
   "source": [
    "s = 0\n",
    "for i in range(1,1_001): \n",
    "    s += ((i**i) % (10**10))\n",
    "\n",
    "print((str(s % (10**10)).zfill(10)))"
   ]
  },
  {
   "cell_type": "code",
   "execution_count": 11,
   "id": "b5dbde6b-8dcf-43b8-9d1c-f226b349a061",
   "metadata": {},
   "outputs": [
    {
     "name": "stdout",
     "output_type": "stream",
     "text": [
      "10405071317 0405071317\n"
     ]
    }
   ],
   "source": [
    "s = 0\n",
    "for i in range(1,11):\n",
    "    s += (i**i)\n",
    "\n",
    "print(s, str((s % (10**10))).zfill(10))"
   ]
  }
 ],
 "metadata": {
  "kernelspec": {
   "display_name": "Python 3 (ipykernel)",
   "language": "python",
   "name": "python3"
  },
  "language_info": {
   "codemirror_mode": {
    "name": "ipython",
    "version": 3
   },
   "file_extension": ".py",
   "mimetype": "text/x-python",
   "name": "python",
   "nbconvert_exporter": "python",
   "pygments_lexer": "ipython3",
   "version": "3.11.6"
  }
 },
 "nbformat": 4,
 "nbformat_minor": 5
}
