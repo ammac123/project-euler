{
 "cells": [
  {
   "cell_type": "markdown",
   "id": "01380807-235c-4599-8622-b8471b631453",
   "metadata": {},
   "source": [
    "### Problem 42: Coded Triangle Numbers\n",
    "<p>The $n$<sup>th</sup> term of the sequence of triangle numbers is given by, $t_n = \\frac12n(n+1)$; so the first ten triangle numbers are:\n",
    "$$1, 3, 6, 10, 15, 21, 28, 36, 45, 55, \\dots$$</p>\n",
    "<p>By converting each letter in a word to a number corresponding to its alphabetical position and adding these values we form a word value. For example, the word value for SKY is $19 + 11 + 25 = 55 = t_{10}$. If the word value is a triangle number then we shall call the word a triangle word.</p>\n",
    "<p>Using <a href=\"resources/documents/0042_words.txt\">words.txt</a> (right click and 'Save Link/Target As...'), a 16K text file containing nearly two-thousand common English words, how many are triangle words?</p>"
   ]
  },
  {
   "cell_type": "code",
   "execution_count": 41,
   "id": "05a6ef1c-e34b-4d3f-9967-d988db461d1a",
   "metadata": {},
   "outputs": [],
   "source": [
    "import os\n",
    "with open(os.path.join(os.path.dirname(os.getcwd()),'xxx_ProjectEulerData','0042_words.txt'), 'r') as file:\n",
    "    file_contents = file.read().replace('\"','').split(',')"
   ]
  },
  {
   "cell_type": "code",
   "execution_count": 47,
   "id": "7417a6f1-d83e-4d15-9a2b-c140aa3021f0",
   "metadata": {},
   "outputs": [],
   "source": [
    "def coded_word(string):\n",
    "    sum = 0\n",
    "    for s in string:\n",
    "        sum += ord(s) - 64\n",
    "\n",
    "    return sum"
   ]
  },
  {
   "cell_type": "code",
   "execution_count": 53,
   "id": "95c9ff7f-da99-478b-8309-66cd89c79f5e",
   "metadata": {},
   "outputs": [],
   "source": [
    "triangle_numbers = [int(0.5*n*(n+1)) for n in range(1,100)]"
   ]
  },
  {
   "cell_type": "code",
   "execution_count": 59,
   "id": "2f8954c8-e1cd-40f6-b70a-552d34a3b416",
   "metadata": {},
   "outputs": [],
   "source": [
    "triangle_words = sum([True for x in file_contents if coded_word(x) in triangle_numbers])"
   ]
  },
  {
   "cell_type": "code",
   "execution_count": 60,
   "id": "61c9d81b-9156-49c3-be5b-de33ea6832a9",
   "metadata": {},
   "outputs": [
    {
     "name": "stdout",
     "output_type": "stream",
     "text": [
      "162\n"
     ]
    }
   ],
   "source": [
    "print(triangle_words)"
   ]
  }
 ],
 "metadata": {
  "kernelspec": {
   "display_name": "Python 3 (ipykernel)",
   "language": "python",
   "name": "python3"
  },
  "language_info": {
   "codemirror_mode": {
    "name": "ipython",
    "version": 3
   },
   "file_extension": ".py",
   "mimetype": "text/x-python",
   "name": "python",
   "nbconvert_exporter": "python",
   "pygments_lexer": "ipython3",
   "version": "3.11.6"
  }
 },
 "nbformat": 4,
 "nbformat_minor": 5
}
