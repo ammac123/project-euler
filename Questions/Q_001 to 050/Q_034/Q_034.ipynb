{
 "cells": [
  {
   "cell_type": "markdown",
   "id": "9a578ba3-61a8-4003-9149-8ca582193e72",
   "metadata": {},
   "source": [
    "### Problem 34: Digit Factorials\n",
    "<p>$145$ is a curious number, as $1! + 4! + 5! = 1 + 24 + 120 = 145$.</p>\n",
    "<p>Find the sum of all numbers which are equal to the sum of the factorial of their digits.</p>\n",
    "<p class=\"smaller\">Note: As $1! = 1$ and $2! = 2$ are not sums they are not included.</p>\n"
   ]
  },
  {
   "cell_type": "code",
   "execution_count": 7,
   "id": "3c0cd34c-c39f-4cea-baa6-016a8325f2c0",
   "metadata": {},
   "outputs": [],
   "source": [
    "import math\n",
    "from collections import Counter\n",
    "from itertools import combinations_with_replacement"
   ]
  },
  {
   "cell_type": "code",
   "execution_count": 15,
   "id": "0d6bd6d3-ff81-4fcd-8ba0-5ca8dcc95c4b",
   "metadata": {},
   "outputs": [],
   "source": [
    "factorial_list = [math.factorial(x) for x in range(10)]\n",
    "count = -3"
   ]
  },
  {
   "cell_type": "code",
   "execution_count": 16,
   "id": "f82d37ac-b82d-4b5c-aff3-152ac007b928",
   "metadata": {},
   "outputs": [
    {
     "name": "stdout",
     "output_type": "stream",
     "text": [
      "((1, 1),) 1\n",
      "((2, 2),) 2\n",
      "((1, 1), (4, 24), (5, 120)) 145\n",
      "((0, 1), (4, 24), (5, 120), (5, 120), (8, 40320)) 40585\n"
     ]
    }
   ],
   "source": [
    "for i in range(1,12):\n",
    "    for comb in combinations_with_replacement(enumerate(factorial_list),i):\n",
    "        countV1 = Counter([str(x[0]) for x in comb])\n",
    "        countV2 = Counter(str(sum([x[1] for x in comb])))\n",
    "        if countV1 == countV2:\n",
    "            print(comb,sum([x[1] for x in comb]))\n",
    "            count += sum([x[1] for x in comb])"
   ]
  },
  {
   "cell_type": "code",
   "execution_count": 17,
   "id": "1b91d7bc-932a-485d-a9d3-4c0d5a08a14b",
   "metadata": {},
   "outputs": [
    {
     "data": {
      "text/plain": [
       "40730"
      ]
     },
     "execution_count": 17,
     "metadata": {},
     "output_type": "execute_result"
    }
   ],
   "source": [
    "print(f'{}')"
   ]
  }
 ],
 "metadata": {
  "kernelspec": {
   "display_name": "Python 3 (ipykernel)",
   "language": "python",
   "name": "python3"
  },
  "language_info": {
   "codemirror_mode": {
    "name": "ipython",
    "version": 3
   },
   "file_extension": ".py",
   "mimetype": "text/x-python",
   "name": "python",
   "nbconvert_exporter": "python",
   "pygments_lexer": "ipython3",
   "version": "3.12.0"
  }
 },
 "nbformat": 4,
 "nbformat_minor": 5
}
