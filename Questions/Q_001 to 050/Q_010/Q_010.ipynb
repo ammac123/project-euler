{
 "cells": [
  {
   "cell_type": "markdown",
   "id": "52025c94-bb02-4e03-b00d-7c3104272fac",
   "metadata": {},
   "source": [
    "### Problem 10: Summation of Primes\n",
    "<p>The sum of the primes below $10$ is $2 + 3 + 5 + 7 = 17$.</p>\n",
    "<p>Find the sum of all the primes below two million.</p>"
   ]
  },
  {
   "cell_type": "code",
   "execution_count": 4,
   "id": "57f23f42-4da4-463a-a8d2-6925a86eb484",
   "metadata": {},
   "outputs": [],
   "source": [
    "import time"
   ]
  },
  {
   "cell_type": "code",
   "execution_count": 13,
   "id": "76c5b0fb-11b8-4f69-8d7e-73c44ca964fa",
   "metadata": {},
   "outputs": [],
   "source": [
    "def sieve(lim):\n",
    "    res = []\n",
    "    prime = [True for i in range(lim+1)]\n",
    "    p = 2\n",
    "    while (p**2 < lim):\n",
    "        if prime[p] == True:\n",
    "            for i in range(p**2, lim+1, p):\n",
    "                prime[i] = False\n",
    "        p += 1\n",
    "    primeList = sum([i for i,x in enumerate(prime) if x==True and i>1])\n",
    "    return primeList"
   ]
  },
  {
   "cell_type": "code",
   "execution_count": 15,
   "id": "5f34d9dd-81d1-49cf-904e-4dc926cf2b3e",
   "metadata": {},
   "outputs": [
    {
     "name": "stdout",
     "output_type": "stream",
     "text": [
      "The result is : 142,913,828,922\n",
      "Time taken : 0.36453s\n"
     ]
    }
   ],
   "source": [
    "lim = 2_000_000\n",
    "time_start = time.perf_counter()\n",
    "res = sieve(lim)\n",
    "time_end = time.perf_counter()\n",
    "time_taken = time_end - time_start\n",
    "print(f'The result is : {res:,.0f}\\nTime taken : {time_taken:.5f}s')"
   ]
  },
  {
   "cell_type": "code",
   "execution_count": null,
   "id": "698cf0f3-b2a2-426a-a405-9f609f6c4093",
   "metadata": {},
   "outputs": [],
   "source": []
  }
 ],
 "metadata": {
  "kernelspec": {
   "display_name": "Python 3 (ipykernel)",
   "language": "python",
   "name": "python3"
  },
  "language_info": {
   "codemirror_mode": {
    "name": "ipython",
    "version": 3
   },
   "file_extension": ".py",
   "mimetype": "text/x-python",
   "name": "python",
   "nbconvert_exporter": "python",
   "pygments_lexer": "ipython3",
   "version": "3.11.6"
  }
 },
 "nbformat": 4,
 "nbformat_minor": 5
}
