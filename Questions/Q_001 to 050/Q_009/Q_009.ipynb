{
 "cells": [
  {
   "cell_type": "markdown",
   "id": "6d8d1148-eb42-4ba5-87fc-72c45fbd0eb6",
   "metadata": {},
   "source": [
    "### Problem 9: Special Pythagorean Triplet\n",
    "<p>A Pythagorean triplet is a set of three natural numbers, $a \\lt b \\lt c$, for which,\n",
    "$$a^2 + b^2 = c^2.$$</p>\n",
    "<p>For example, $3^2 + 4^2 = 9 + 16 = 25 = 5^2$.</p>\n",
    "<p>There exists exactly one Pythagorean triplet for which $a + b + c = 1000$.<br>Find the product $abc$.</p>\n"
   ]
  },
  {
   "cell_type": "code",
   "execution_count": 2,
   "id": "44a01730-dea0-44f0-b2f5-2dcfc791fb91",
   "metadata": {},
   "outputs": [],
   "source": [
    "import math\n",
    "import time"
   ]
  },
  {
   "cell_type": "code",
   "execution_count": 13,
   "id": "be4c28c9-bd49-443e-8550-68b5878b71a9",
   "metadata": {},
   "outputs": [],
   "source": [
    "def gen_triangle_triples(m,n,lim):\n",
    "    a = m**2 - n**2\n",
    "    b = 2*m*n\n",
    "    c = m**2 + n**2\n",
    "    if (a+b+c) > lim: return\n",
    "    k = 1\n",
    "    while True:\n",
    "        if sum((a*k,b*k,c*k)) > lim: break\n",
    "        yield (a*k,b*k,c*k)\n",
    "        k += 1"
   ]
  },
  {
   "cell_type": "code",
   "execution_count": 15,
   "id": "f933a687-a82d-4c4f-b891-52cb58986b2f",
   "metadata": {},
   "outputs": [],
   "source": [
    "def pe_9():\n",
    "    for m in range(2,100):\n",
    "        for n in range(1,m):\n",
    "            trips = [x for x in gen_triangle_triples(m,n,1000) if sum(list(x)) == 1000]\n",
    "            if len(trips)>0:\n",
    "                return math.prod(trips[0])"
   ]
  },
  {
   "cell_type": "code",
   "execution_count": 16,
   "id": "5b4ed564-e32f-4b8f-ba20-23a88fff163c",
   "metadata": {},
   "outputs": [
    {
     "data": {
      "text/plain": [
       "31875000"
      ]
     },
     "execution_count": 16,
     "metadata": {},
     "output_type": "execute_result"
    }
   ],
   "source": [
    "pe_9()"
   ]
  }
 ],
 "metadata": {
  "kernelspec": {
   "display_name": "Python 3 (ipykernel)",
   "language": "python",
   "name": "python3"
  },
  "language_info": {
   "codemirror_mode": {
    "name": "ipython",
    "version": 3
   },
   "file_extension": ".py",
   "mimetype": "text/x-python",
   "name": "python",
   "nbconvert_exporter": "python",
   "pygments_lexer": "ipython3",
   "version": "3.9.13"
  }
 },
 "nbformat": 4,
 "nbformat_minor": 5
}
