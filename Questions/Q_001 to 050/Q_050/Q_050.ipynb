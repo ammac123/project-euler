{
 "cells": [
  {
   "cell_type": "markdown",
   "id": "b94b5d6e-d8db-446f-a5a3-313b546a0a07",
   "metadata": {},
   "source": [
    "### Problem 50: Consecutive Prime Sum\n",
    "<p>The prime $41$, can be written as the sum of six consecutive primes:</p>\n",
    "$$41 = 2 + 3 + 5 + 7 + 11 + 13.$$\n",
    "<p>This is the longest sum of consecutive primes that adds to a prime below one-hundred.</p>\n",
    "<p>The longest sum of consecutive primes below one-thousand that adds to a prime, contains $21$ terms, and is equal to $953$.</p>\n",
    "<p>Which prime, below one-million, can be written as the sum of the most consecutive primes?</p>"
   ]
  },
  {
   "cell_type": "code",
   "execution_count": 3,
   "id": "b2c9ae1d-c6dc-4c0c-99bd-a263c702bea8",
   "metadata": {},
   "outputs": [],
   "source": [
    "def sieve(n):\n",
    "    n = int(n//1)\n",
    "    primes = [True for _ in range(n+1)]\n",
    "    p = 2\n",
    "    while p*p < n:\n",
    "        if primes[p]:\n",
    "            for i in range(p*p,n+1,p):\n",
    "                primes[i] = False\n",
    "        p += 1\n",
    "\n",
    "    return [i for i,_ in enumerate(primes) if _ and i>1]"
   ]
  },
  {
   "cell_type": "code",
   "execution_count": 178,
   "id": "147b64f2-9e54-44d0-b599-9a0979709c27",
   "metadata": {},
   "outputs": [],
   "source": [
    "def consecutive_primes(primes, max_len=0, max_value=1_000_000):\n",
    "    if sum(primes[1:1+max_len]) > max_value: \n",
    "            return False\n",
    "        \n",
    "    for i in range(len(primes)):\n",
    "        for j in range(i+max_len+1, len(primes)):\n",
    "            p_sum = sum(primes[i:j])\n",
    "            if p_sum > max_value:\n",
    "                break\n",
    "            if p_sum in primes:\n",
    "                return len(primes[i:j]), p_sum, primes[i:j]\n",
    "\n",
    "    return False"
   ]
  },
  {
   "cell_type": "code",
   "execution_count": 182,
   "id": "0809b2d1-1da6-4bec-994d-15908de71502",
   "metadata": {},
   "outputs": [],
   "source": [
    "def sol(max_value):\n",
    "    primes = sieve(max_value)\n",
    "    max_len = 0\n",
    "    while True:\n",
    "        tmp_ = consecutive_primes(primes, max_len=max_len, max_value=max_value)\n",
    "        if tmp_ == False: \n",
    "            break\n",
    "        else:\n",
    "            max_len, p_sum, p_list = tmp_\n",
    "            \n",
    "    \n",
    "    return max_len, p_sum,"
   ]
  },
  {
   "cell_type": "code",
   "execution_count": 188,
   "id": "4c332de1-20d5-48ee-b228-a69bddaaf55c",
   "metadata": {},
   "outputs": [
    {
     "data": {
      "text/plain": [
       "(543, 997651)"
      ]
     },
     "execution_count": 188,
     "metadata": {},
     "output_type": "execute_result"
    }
   ],
   "source": [
    "sol(1_000_000)[0:2]"
   ]
  }
 ],
 "metadata": {
  "kernelspec": {
   "display_name": "Python 3 (ipykernel)",
   "language": "python",
   "name": "python3"
  },
  "language_info": {
   "codemirror_mode": {
    "name": "ipython",
    "version": 3
   },
   "file_extension": ".py",
   "mimetype": "text/x-python",
   "name": "python",
   "nbconvert_exporter": "python",
   "pygments_lexer": "ipython3",
   "version": "3.11.6"
  }
 },
 "nbformat": 4,
 "nbformat_minor": 5
}
