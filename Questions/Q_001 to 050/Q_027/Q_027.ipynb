{
 "cells": [
  {
   "cell_type": "markdown",
   "id": "1fc608fd-3407-4bc1-8d9b-59d4768d107f",
   "metadata": {},
   "source": [
    "### Problem 27: Quadratic Primes\n",
    "<p>Euler discovered the remarkable quadratic formula:</p>\n",
    "<p style=\"text-align:center\">$n^2 + n + 41$</p>\n",
    "<p>It turns out that the formula will produce $40$ primes for the consecutive integer values $0 \\le n \\le 39$. However, when $n = 40, 40^2 + 40 + 41 = 40(40 + 1) + 41$ is divisible by $41$, and certainly when $n = 41, 41^2 + 41 + 41$ is clearly divisible by $41$.</p>\n",
    "<p>The incredible formula $n^2 - 79n + 1601$ was discovered, which produces $80$ primes for the consecutive values $0 \\le n \\le 79$. The product of the coefficients, $-79$ and $1601$, is $-126479$.</p>\n",
    "<p>Considering quadratics of the form:</p>\n",
    "<blockquote>\n",
    "$n^2 + an + b$, where $|a| < 1000$ and $|b| \\le 1000$<br><br><div>where $|n|$ is the modulus/absolute value of $n$<br>e.g. $|11| = 11$ and $|-4| = 4$</div>\n",
    "</blockquote>\n",
    "<p>Find the product of the coefficients, $a$ and $b$, for the quadratic expression that produces the maximum number of primes for consecutive values of $n$, starting with $n = 0$.</p>"
   ]
  },
  {
   "cell_type": "code",
   "execution_count": 60,
   "id": "bd659074-bb6d-4d80-9d4f-5157f0e97e9b",
   "metadata": {},
   "outputs": [],
   "source": [
    "import math\n",
    "import time"
   ]
  },
  {
   "cell_type": "code",
   "execution_count": 19,
   "id": "c0120bec-4365-4513-a319-7fbe50a08359",
   "metadata": {},
   "outputs": [],
   "source": [
    "def sieve(n):\n",
    "    p = 2\n",
    "    primes = [True]*(n+1)\n",
    "    res = []\n",
    "    while (p*p < n):\n",
    "        \n",
    "        if primes[p] == True:\n",
    "            for i in range(p*p, n+1,p):\n",
    "                primes[i] = False\n",
    "\n",
    "        p += 1\n",
    "\n",
    "    res = [i for i,x in enumerate(primes) if i > 1 and x==True]\n",
    "    \n",
    "    return res"
   ]
  },
  {
   "cell_type": "code",
   "execution_count": 48,
   "id": "6a8d255c-10d1-4e23-bfb4-956513348e87",
   "metadata": {},
   "outputs": [],
   "source": [
    "def quadFunc(n,a,b):\n",
    "    r = n**2 + a*n + b\n",
    "    return r\n",
    "\n",
    "def maxAB(a,b):\n",
    "    n = 1\n",
    "    count = 1\n",
    "    while True:\n",
    "        if quadFunc(n,a,b) in primes:\n",
    "            count += 1\n",
    "            n += 1\n",
    "        \n",
    "        elif quadFunc(n,a,b) > max(primes):\n",
    "            print('Primes list too small')\n",
    "            return count\n",
    "        \n",
    "        else:\n",
    "            return count"
   ]
  },
  {
   "cell_type": "code",
   "execution_count": 59,
   "id": "de9e2458-3235-46a2-aa92-5e3d5f9582a0",
   "metadata": {},
   "outputs": [],
   "source": [
    "def pe_27():\n",
    "    primes = sieve(1_000_000)\n",
    "    candidates = sieve(1000) + [-x for x in sieve(1000)]\n",
    "    runningMax = 0\n",
    "    aMax = 0\n",
    "    bMax = 0\n",
    "    for b in candidates:\n",
    "        for a in [x for x in [-1, 1]+candidates if abs(x*abs(x**0.5)) < abs(b)]:\n",
    "            k = maxAB(a,b)\n",
    "            if k > runningMax:\n",
    "                aMax, bMax = a, b\n",
    "                runningMax = k\n",
    "\n",
    "    return aMax,bMax, aMax*bMax, runningMax"
   ]
  },
  {
   "cell_type": "code",
   "execution_count": 61,
   "id": "d5e8a5f4-b12c-4445-9fab-c3519028ecfc",
   "metadata": {},
   "outputs": [
    {
     "name": "stdout",
     "output_type": "stream",
     "text": [
      "The answer is -59231, given by: a = -61 and b = 971 for a total run of 71\n",
      "Time taken : 12.70495s\n"
     ]
    }
   ],
   "source": [
    "time_start = time.perf_counter()\n",
    "aMax, bMax, res, count = pe_27()\n",
    "time_end = time.perf_counter()\n",
    "time_taken = time_end - time_start\n",
    "print(f'The answer is {res}, given by: a = {aMax} and b = {bMax} for a total run of {count}\\nTime taken : {time_taken:.5f}s')"
   ]
  }
 ],
 "metadata": {
  "kernelspec": {
   "display_name": "Python 3 (ipykernel)",
   "language": "python",
   "name": "python3"
  },
  "language_info": {
   "codemirror_mode": {
    "name": "ipython",
    "version": 3
   },
   "file_extension": ".py",
   "mimetype": "text/x-python",
   "name": "python",
   "nbconvert_exporter": "python",
   "pygments_lexer": "ipython3",
   "version": "3.9.13"
  }
 },
 "nbformat": 4,
 "nbformat_minor": 5
}
