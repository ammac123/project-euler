{
 "cells": [
  {
   "cell_type": "markdown",
   "id": "acb1f211-b567-4134-bf07-ccba62fc394a",
   "metadata": {},
   "source": [
    "### Problem 7: 10001st Prime\n",
    "<p>By listing the first six prime numbers: $2, 3, 5, 7, 11$, and $13$, we can see that the $6$th prime is $13$.</p>\n",
    "<p>What is the $10\\,001$st prime number?</p>\n"
   ]
  },
  {
   "cell_type": "code",
   "execution_count": 91,
   "id": "e88d0001-87a7-4eb6-96d7-37271ea3c508",
   "metadata": {},
   "outputs": [],
   "source": [
    "import time"
   ]
  },
  {
   "cell_type": "code",
   "execution_count": 92,
   "id": "d73e613c-c8b2-4dfc-bbbb-cc863f9e9bf1",
   "metadata": {},
   "outputs": [],
   "source": [
    "def sieve(num,lim):\n",
    "    res = []\n",
    "    prime = [True for i in range(lim+1)]\n",
    "    p = 2\n",
    "    while (p**2 < lim):\n",
    "        if prime[p] == True:\n",
    "            for i in range(p**2, lim+1, p):\n",
    "                prime[i] = False\n",
    "        p += 1\n",
    "    primeList = [i for i,x in enumerate(prime) if x==True and i>1]\n",
    "    if len(primeList) > lim+1: print(f'{num}th prime greater than {lim}'); return None\n",
    "    return primeList[num-1]"
   ]
  },
  {
   "cell_type": "code",
   "execution_count": 93,
   "id": "de76de31-77f5-4710-ac2d-f0c2ffec9245",
   "metadata": {},
   "outputs": [],
   "source": [
    "def pe_07():\n",
    "    return sieve(10001,150000)"
   ]
  },
  {
   "cell_type": "code",
   "execution_count": 94,
   "id": "2d771f30-781b-442d-ba4d-b2c3676db9c6",
   "metadata": {},
   "outputs": [
    {
     "name": "stdout",
     "output_type": "stream",
     "text": [
      "The answer is : 104,743\n",
      "Time taken : 0.080969s\n"
     ]
    }
   ],
   "source": [
    "time_start = time.perf_counter()\n",
    "res = pe_07()\n",
    "time_end = time.perf_counter()\n",
    "time_taken = time_end - time_start\n",
    "print(f'The answer is : {res:,}\\nTime taken : {time_taken:6f}s')"
   ]
  }
 ],
 "metadata": {
  "kernelspec": {
   "display_name": "Python 3 (ipykernel)",
   "language": "python",
   "name": "python3"
  },
  "language_info": {
   "codemirror_mode": {
    "name": "ipython",
    "version": 3
   },
   "file_extension": ".py",
   "mimetype": "text/x-python",
   "name": "python",
   "nbconvert_exporter": "python",
   "pygments_lexer": "ipython3",
   "version": "3.9.13"
  }
 },
 "nbformat": 4,
 "nbformat_minor": 5
}
