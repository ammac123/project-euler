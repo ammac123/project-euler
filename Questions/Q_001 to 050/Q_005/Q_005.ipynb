{
 "cells": [
  {
   "cell_type": "markdown",
   "id": "62948ff9-e298-4427-9efc-7de5a0d2afa6",
   "metadata": {},
   "source": [
    "### Problem 5: Smallest Multiple\n",
    "<p>$2520$ is the smallest number that can be divided by each of the numbers from $1$ to $10$ without any remainder.</p>\n",
    "<p>What is the smallest positive number that is <dfn class=\"tooltip\">evenly divisible<span class=\"tooltiptext\">divisible with no remainder</span></dfn> by all of the numbers from $1$ to $20$?</p>\n"
   ]
  },
  {
   "cell_type": "code",
   "execution_count": 20,
   "id": "363f2f75-d3a3-4f8f-ad62-c28b773fbcba",
   "metadata": {},
   "outputs": [],
   "source": [
    "import math\n",
    "import time"
   ]
  },
  {
   "cell_type": "code",
   "execution_count": 21,
   "id": "71e4a7ba-6fd2-40a4-a59d-f02b588ad481",
   "metadata": {},
   "outputs": [],
   "source": [
    "def pe_05():\n",
    "    numList = [11,12,13,14,15,16,17,18,19,20]\n",
    "    i = 20\n",
    "    k = 20\n",
    "    while True:\n",
    "        if len(numList)==0:\n",
    "            return i\n",
    "            break\n",
    "\n",
    "        if any([i%x==0 for x in numList]):\n",
    "            tmp = numList\n",
    "            for ind,val in enumerate([i%x for x in numList]):\n",
    "                if val == 0:\n",
    "                    tmp.remove(numList[ind])\n",
    "\n",
    "            k = i\n",
    "\n",
    "        numList = tmp\n",
    "        i += k"
   ]
  },
  {
   "cell_type": "code",
   "execution_count": 24,
   "id": "e3dfb9f1-b74b-4970-bf0d-791c6b91e79b",
   "metadata": {},
   "outputs": [
    {
     "name": "stdout",
     "output_type": "stream",
     "text": [
      "The answer is : 232,792,560\n",
      "Time taken : 0.000220s\n"
     ]
    }
   ],
   "source": [
    "time_start = time.perf_counter()\n",
    "res = pe_05()\n",
    "time_end = time.perf_counter()\n",
    "time_taken = time_end - time_start\n",
    "print(f'The answer is : {res:,}\\nTime taken : {time_taken:6f}s')"
   ]
  }
 ],
 "metadata": {
  "kernelspec": {
   "display_name": "Python 3 (ipykernel)",
   "language": "python",
   "name": "python3"
  },
  "language_info": {
   "codemirror_mode": {
    "name": "ipython",
    "version": 3
   },
   "file_extension": ".py",
   "mimetype": "text/x-python",
   "name": "python",
   "nbconvert_exporter": "python",
   "pygments_lexer": "ipython3",
   "version": "3.9.13"
  }
 },
 "nbformat": 4,
 "nbformat_minor": 5
}
