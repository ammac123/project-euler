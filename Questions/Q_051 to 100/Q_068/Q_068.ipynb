{
 "cells": [
  {
   "cell_type": "markdown",
   "id": "fef66840-1309-4c4b-9541-572d219f46cb",
   "metadata": {},
   "source": [
    "### Problem 68: Magic 5-gon Ring\n",
    "<p>Consider the following \"magic\" 3-gon ring, filled with the numbers 1 to 6, and each line adding to nine.</p>\n",
    "<div class=\"center\" style=\"text-align: center\">\n",
    "<img src=\"https://projecteuler.net/resources/images/0068_1.png?1678992052\" class=\"dark_img\" alt=\"\"><br></div>\n",
    "<p>Working <b>clockwise</b>, and starting from the group of three with the numerically lowest external node (4,3,2 in this example), each solution can be described uniquely. For example, the above solution can be described by the set: 4,3,2; 6,2,1; 5,1,3.</p>\n",
    "<p>It is possible to complete the ring with four different totals: 9, 10, 11, and 12. There are eight solutions in total.</p>\n",
    "<div class=\"center\">\n",
    "<table width=\"400\" cellspacing=\"0\" cellpadding=\"0\"><tr><td width=\"100\"><b>Total</b></td><td width=\"300\"><b>Solution Set</b></td>\n",
    "</tr><tr><td>9</td><td>4,2,3; 5,3,1; 6,1,2</td>\n",
    "</tr><tr><td>9</td><td>4,3,2; 6,2,1; 5,1,3</td>\n",
    "</tr><tr><td>10</td><td>2,3,5; 4,5,1; 6,1,3</td>\n",
    "</tr><tr><td>10</td><td>2,5,3; 6,3,1; 4,1,5</td>\n",
    "</tr><tr><td>11</td><td>1,4,6; 3,6,2; 5,2,4</td>\n",
    "</tr><tr><td>11</td><td>1,6,4; 5,4,2; 3,2,6</td>\n",
    "</tr><tr><td>12</td><td>1,5,6; 2,6,4; 3,4,5</td>\n",
    "</tr><tr><td>12</td><td>1,6,5; 3,5,4; 2,4,6</td>\n",
    "</tr></table></div>\n",
    "<p>By concatenating each group it is possible to form 9-digit strings; the maximum string for a 3-gon ring is 432621513.</p>\n",
    "<p>Using the numbers 1 to 10, and depending on arrangements, it is possible to form 16- and 17-digit strings. What is the maximum <b>16-digit</b> string for a \"magic\" 5-gon ring?</p>\n",
    "<div class=\"center\" style=\"text-align: center\">\n",
    "<img src=\"https://projecteuler.net/resources/images/0068_2.png?1678992052\" class=\"dark_img\" alt=\"\"><br></div>\n"
   ]
  },
  {
   "cell_type": "code",
   "execution_count": 7,
   "id": "61f826d9-c75a-4d9f-b4b8-bdfaaaf0c632",
   "metadata": {},
   "outputs": [],
   "source": [
    "import numpy as np\n",
    "from itertools import permutations\n",
    "from itertools import combinations"
   ]
  },
  {
   "cell_type": "code",
   "execution_count": 53,
   "id": "0428992b-630a-4815-989f-a1a2ec57afac",
   "metadata": {},
   "outputs": [],
   "source": [
    "cells = range(1,10)\n",
    "record = []\n",
    "inner_cells = [comb for comb in combinations(cells,5)]"
   ]
  },
  {
   "cell_type": "code",
   "execution_count": 51,
   "id": "159d4d35-d3fa-4db9-aadd-051ccd03e838",
   "metadata": {},
   "outputs": [],
   "source": [
    "def minCouple(array):\n",
    "    answer = array[0]+array[1]\n",
    "    for i in range(len(array)-1):\n",
    "        coupleSum = array[i] + array[i+1]\n",
    "        if coupleSum < answer:\n",
    "            answer = coupleSum\n",
    "    return answer\n",
    "\n",
    "def maxCouple(array):\n",
    "    answer = array[0]+array[1]\n",
    "    for i in range(len(array)-1):\n",
    "        coupleSum = array[i] + array[i+1]\n",
    "        if coupleSum > answer:\n",
    "            answer = coupleSum\n",
    "    return answer"
   ]
  },
  {
   "cell_type": "code",
   "execution_count": 62,
   "id": "88efa522-19ef-44e3-8789-180c4b22657e",
   "metadata": {},
   "outputs": [
    {
     "name": "stdout",
     "output_type": "stream",
     "text": [
      "6531031914842725\n"
     ]
    }
   ],
   "source": [
    "for array in inner_cells:\n",
    "    pivot = array[0]\n",
    "    perm_array = array[1:]\n",
    "    inner_perms = [map(int,perm) for perm in permutations(perm_array,4)]\n",
    "    for perm in inner_perms:\n",
    "        checkArray = [*perm,]\n",
    "        checkArray.insert(0,pivot)\n",
    "        outerCells = [l for l in range(1,11) if l not in checkArray]\n",
    "        ringMax = minCouple(checkArray) + max(outerCells)\n",
    "        ringMin = maxCouple(checkArray) + min(outerCells)\n",
    "        if ringMax >= ringMin:\n",
    "            for x in range(ringMin,ringMax+1):\n",
    "                a = checkArray[0]\n",
    "                b = checkArray[1]\n",
    "                c = checkArray[2]\n",
    "                d = checkArray[3]\n",
    "                e = checkArray[4]\n",
    "            \n",
    "                i = x - a - b\n",
    "                j = x - b - c\n",
    "                k = x - c - d\n",
    "                l = x - d - e\n",
    "                m = x - e - a\n",
    "                \n",
    "                outerRingDiffs = [i,j,k,l,m]\n",
    "                if sorted(outerRingDiffs) == sorted(outerCells):\n",
    "                    a1 = [i, a, b]\n",
    "                    a2 = [j, b, c]\n",
    "                    a3 = [k, c, d]\n",
    "                    a4 = [l, d, e]\n",
    "                    a5 = [m, e, a]\n",
    "                    min_outer_val = min([i,j,k,l,m])\n",
    "                    if min_outer_val == i:\n",
    "                        string = a1+a2+a3+a4+a5\n",
    "                    elif min_outer_val == j:\n",
    "                        string = a2+a3+a4+a5+a1\n",
    "                    elif min_outer_val == k:\n",
    "                        string = a3+a4+a5+a1+a2\n",
    "                    elif min_outer_val == l:\n",
    "                        string = a4+a5+a1+a2+a3\n",
    "                    elif min_outer_val == m:\n",
    "                        string = a5+a1+a2+a3+a4\n",
    "                    num = [str(i) for i in string]\n",
    "                    int_list = int(''.join(num))\n",
    "                    record.append(int_list)\n",
    "                    \n",
    "print(max(record))"
   ]
  }
 ],
 "metadata": {
  "kernelspec": {
   "display_name": "Python 3 (ipykernel)",
   "language": "python",
   "name": "python3"
  },
  "language_info": {
   "codemirror_mode": {
    "name": "ipython",
    "version": 3
   },
   "file_extension": ".py",
   "mimetype": "text/x-python",
   "name": "python",
   "nbconvert_exporter": "python",
   "pygments_lexer": "ipython3",
   "version": "3.9.13"
  }
 },
 "nbformat": 4,
 "nbformat_minor": 5
}
