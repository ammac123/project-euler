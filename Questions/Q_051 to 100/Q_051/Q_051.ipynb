{
 "cells": [
  {
   "cell_type": "markdown",
   "id": "79843a95-3a04-48b1-8665-1d086383eddd",
   "metadata": {},
   "source": [
    "### Problem 51: Prime Digit Replacements\n",
    "<p>By replacing the 1<sup>st</sup> digit of the 2-digit number *3, it turns out that six of the nine possible values: 13, 23, 43, 53, 73, and 83, are all prime.</p>\n",
    "<p>By replacing the 3<sup>rd</sup> and 4<sup>th</sup> digits of 56**3 with the same digit, this 5-digit number is the first example having seven primes among the ten generated numbers, yielding the family: 56003, 56113, 56333, 56443, 56663, 56773, and 56993. Consequently 56003, being the first member of this family, is the smallest prime with this property.</p>\n",
    "<p>Find the smallest prime which, by replacing part of the number (not necessarily adjacent digits) with the same digit, is part of an eight prime value family.</p>\n"
   ]
  },
  {
   "cell_type": "code",
   "execution_count": 2,
   "id": "63531662-5e99-4fb7-8abb-dc9abd934a56",
   "metadata": {},
   "outputs": [],
   "source": [
    "import math\n",
    "from sympy import ntheory\n",
    "from itertools import combinations, permutations, product\n",
    "import regex as re\n",
    "import collections"
   ]
  },
  {
   "cell_type": "code",
   "execution_count": 3,
   "id": "9c5a98c9-21aa-47d2-ae28-74bea1bef842",
   "metadata": {},
   "outputs": [],
   "source": [
    "primelist = [x for x in ntheory.primerange(10_000_000)]"
   ]
  },
  {
   "cell_type": "code",
   "execution_count": 4,
   "id": "1601c6b6-b218-40b1-b508-64f4d8c71000",
   "metadata": {},
   "outputs": [],
   "source": [
    "primedict = {}\n",
    "for x in primelist:\n",
    "    if len(str(x)) < 5: continue\n",
    "    if len(str(x)) not in primedict: primedict[len(str(x))] = []\n",
    "    primedict[len(str(x))].append(x)"
   ]
  },
  {
   "cell_type": "code",
   "execution_count": 5,
   "id": "13d977bc-8c52-43a1-9fa4-bb0b78c72900",
   "metadata": {},
   "outputs": [],
   "source": [
    "def replace_digits(x,digits=[0],primes = primelist):\n",
    "    number_list = []\n",
    "    min_len = len(str(x))\n",
    "    x = str(x)\n",
    "    for i in range(10):\n",
    "        for y in digits:\n",
    "            x = x[:y] + str(i) + x[y+1:]\n",
    "        number_list.append(int(x))\n",
    "    number_list = [y for y in number_list if y>10**(min_len-1) and y in primes]\n",
    "    return number_list"
   ]
  },
  {
   "cell_type": "code",
   "execution_count": 6,
   "id": "73c39d5c-9a98-464b-b05a-43df6fc428ec",
   "metadata": {},
   "outputs": [],
   "source": [
    "def replace_digit_with_0(x,digitInd):\n",
    "    x = [int(i) for i in str(x)]\n",
    "    if len(set([x[i] for i in digitInd])) > 1: return None\n",
    "    for i in digitInd:\n",
    "           x[i] = 0\n",
    "    x = int(''.join([str(i) for i in x]))\n",
    "    return x"
   ]
  },
  {
   "cell_type": "code",
   "execution_count": 30,
   "id": "f4f98594-8906-4a38-b349-5fa4fd9ce568",
   "metadata": {},
   "outputs": [],
   "source": [
    "def create_regex_string(int_len, rep_val):\n",
    "    for comb in combinations([x for x in range(int_len-1)],rep_val):\n",
    "        digits = [x for x in range(int_len) if x not in comb]\n",
    "        regex_str = ['']*(int_len)\n",
    "        for digit_rep in comb:\n",
    "            regex_str[digit_rep] = '.'\n",
    "        for digit_keep in digits:\n",
    "            regex_str[digit_keep] = '0'\n",
    "        regex_str = r''.join(regex_str)\n",
    "        yield regex_str, comb"
   ]
  },
  {
   "cell_type": "code",
   "execution_count": 31,
   "id": "d3628483-7db9-4914-b033-57720f74f2ad",
   "metadata": {},
   "outputs": [],
   "source": [
    "def prime_filter(prime, digit_rep):\n",
    "    prime = str(prime)\n",
    "    return len(set([prime[i] for i in digit_rep])) == 1"
   ]
  },
  {
   "cell_type": "code",
   "execution_count": 47,
   "id": "7c782c9f-8603-4875-8bbd-c4732aefb499",
   "metadata": {},
   "outputs": [],
   "source": [
    "def prime_to_string(prime, replace, repInt='0'):\n",
    "    prime = str(prime)\n",
    "    prime_str = ['']*10\n",
    "    for x,val in enumerate(replace):\n",
    "        if val == '.': prime_str[x] = repInt\n",
    "        else: prime_str[x] = prime[x]\n",
    "    return ''.join(prime_str)"
   ]
  },
  {
   "cell_type": "code",
   "execution_count": 59,
   "id": "947e121d-1e7c-4cce-93c5-e437891661f1",
   "metadata": {},
   "outputs": [],
   "source": [
    "def pe_51():\n",
    "    result = []\n",
    "    for key in primedict.keys():\n",
    "        for i in range(key):\n",
    "            for y in [(x,y) for x,y in create_regex_string(key,i)]:\n",
    "\n",
    "                primeCollect = collections.defaultdict(int)\n",
    "                for prime in primedict[key]:\n",
    "                    if prime_filter(prime,y[1]):\n",
    "                        primeCollect[prime_to_string(prime,y[0])] += 1\n",
    "                if len([(key,val) for key, val in primeCollect.items() if val > 7]) >0: \n",
    "                    # print([(key,val) for key, val in primeCollect.items() if val > 7],i)\n",
    "                    result = (([key for key, val in primeCollect.items() if val >7],y[0]))\n",
    "                    return(result)"
   ]
  },
  {
   "cell_type": "code",
   "execution_count": 60,
   "id": "ddc0c1e8-f7dc-4a4d-bda5-9ff220d76e85",
   "metadata": {},
   "outputs": [
    {
     "name": "stdout",
     "output_type": "stream",
     "text": [
      "The smallest prime in the smallest set of 8 is : 121313\n"
     ]
    }
   ],
   "source": [
    "result = pe_51()\n",
    "for i in range(10):\n",
    "    k = prime_to_string(result[0][0],result[1],str(i))\n",
    "    if int(k) in primelist:\n",
    "        print(f'The smallest prime in the smallest set of 8 is : {k}')\n",
    "        break"
   ]
  }
 ],
 "metadata": {
  "kernelspec": {
   "display_name": "Python 3 (ipykernel)",
   "language": "python",
   "name": "python3"
  },
  "language_info": {
   "codemirror_mode": {
    "name": "ipython",
    "version": 3
   },
   "file_extension": ".py",
   "mimetype": "text/x-python",
   "name": "python",
   "nbconvert_exporter": "python",
   "pygments_lexer": "ipython3",
   "version": "3.9.13"
  }
 },
 "nbformat": 4,
 "nbformat_minor": 5
}
