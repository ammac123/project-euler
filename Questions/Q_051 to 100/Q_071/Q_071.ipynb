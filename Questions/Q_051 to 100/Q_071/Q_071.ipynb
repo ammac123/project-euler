{
 "cells": [
  {
   "cell_type": "markdown",
   "id": "81753ec8-0611-43a0-9421-7ed9e8cffbf4",
   "metadata": {},
   "source": [
    "### Problem 71: Ordered Fractions\n",
    "<p>Consider the fraction, $\\dfrac n d$, where $n$ and $d$ are positive integers. If $n \\lt d$ and $\\operatorname{HCF}(n,d)=1$, it is called a reduced proper fraction.</p>\n",
    "<p>If we list the set of reduced proper fractions for $d \\le 8$ in ascending order of size, we get:\n",
    "$$\\frac 1 8, \\frac 1 7, \\frac 1 6, \\frac 1 5, \\frac 1 4, \\frac 2 7, \\frac 1 3, \\frac 3 8, \\mathbf{\\frac 2 5}, \\frac 3 7, \\frac 1 2, \\frac 4 7, \\frac 3 5, \\frac 5 8, \\frac 2 3, \\frac 5 7, \\frac 3 4, \\frac 4 5, \\frac 5 6, \\frac 6 7, \\frac 7 8$$</p>\n",
    "<p>It can be seen that $\\dfrac 2 5$ is the fraction immediately to the left of $\\dfrac 3 7$.</p>\n",
    "<p>By listing the set of reduced proper fractions for $d \\le 1\\,000\\,000$ in ascending order of size, find the numerator of the fraction immediately to the left of $\\dfrac 3 7$.</p>\n"
   ]
  },
  {
   "cell_type": "code",
   "execution_count": 21,
   "id": "84ab4107-68eb-45e5-8151-37c0234c128a",
   "metadata": {},
   "outputs": [],
   "source": [
    "from fractions import Fraction\n",
    "import math\n",
    "import time"
   ]
  },
  {
   "cell_type": "code",
   "execution_count": 24,
   "id": "cbf33f13-c264-4edf-b3dd-e9d35e1279fb",
   "metadata": {},
   "outputs": [
    {
     "name": "stdout",
     "output_type": "stream",
     "text": [
      "The fraction immediately to the left of 3/7 is 428570/999997 (for n/d; d <= 1,000,000)  \n",
      "The answer to Problem 71 is: 428570 \n",
      "Time taken: 1.74948s\n"
     ]
    }
   ],
   "source": [
    "limit = 1_000_000\n",
    "result = 0\n",
    "start_time = time.perf_counter()\n",
    "for d in range(limit,10,-1):\n",
    "    n = d*3//7\n",
    "    while True:\n",
    "        if result > Fraction(n,d): break\n",
    "        if math.gcd(n,d) == 1:\n",
    "            result = Fraction(n,d)\n",
    "            break\n",
    "        n -= 1\n",
    "end_time = time.perf_counter()\n",
    "time_taken = end_time -start_time\n",
    "print(f'The fraction immediately to the left of {Fraction(3,7)} is {result} (for n/d; d <= {limit:,.0f})  \\nThe answer to Problem 71 is: {result.numerator} \\nTime taken: {time_taken:.5f}s')"
   ]
  }
 ],
 "metadata": {
  "kernelspec": {
   "display_name": "Python 3 (ipykernel)",
   "language": "python",
   "name": "python3"
  },
  "language_info": {
   "codemirror_mode": {
    "name": "ipython",
    "version": 3
   },
   "file_extension": ".py",
   "mimetype": "text/x-python",
   "name": "python",
   "nbconvert_exporter": "python",
   "pygments_lexer": "ipython3",
   "version": "3.9.13"
  }
 },
 "nbformat": 4,
 "nbformat_minor": 5
}
