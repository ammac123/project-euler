{
 "cells": [
  {
   "cell_type": "markdown",
   "id": "a1cab150-910e-4bce-8957-65cf863e9557",
   "metadata": {},
   "source": [
    "### Problem 67 : Maximum Path Sum II\n",
    "<p>By starting at the top of the triangle below and moving to adjacent numbers on the row below, the maximum total from top to bottom is 23.</p>\n",
    "<p style=\"font-family:monospace; text-align:center\"><span class=\"red\"><b>3</b></span><br><span class=\"red\"><b>7</b></span> 4<br>\n",
    "2 <span class=\"red\"><b>4</b></span> 6<br>\n",
    "8 5 <span class=\"red\"><b>9</b></span> 3</p>\n",
    "<p>That is, 3 + 7 + 4 + 9 = 23.</p>\n",
    "<p>Find the maximum total from top to bottom in <a href=\"https://projecteuler.net/resources/documents/0067_triangle.txt\">triangle.txt</a> (right click and 'Save Link/Target As...'), a 15K text file containing a triangle with one-hundred rows.</p>\n",
    "<p class=\"smaller\"><b>NOTE:</b> This is a much more difficult version of <a href=\"problem=18\">Problem 18</a>. It is not possible to try every route to solve this problem, as there are 2<sup>99</sup> altogether! If you could check one trillion (10<sup>12</sup>) routes every second it would take over twenty billion years to check them all. There is an efficient algorithm to solve it. ;o)</p>\n"
   ]
  },
  {
   "cell_type": "code",
   "execution_count": 25,
   "id": "b55f30c3-dedc-4cd6-8874-0cd6e4dffe29",
   "metadata": {},
   "outputs": [],
   "source": [
    "import os\n",
    "import time\n",
    "path = os.path.join(os.path.dirname(os.getcwd()),'xxx_ProjectEulerData','0067_triangle.txt')\n",
    "with open(path,\"r\") as file:\n",
    "    triangleList = file.read().split()\n",
    "    \n",
    "with open(os.path.join(os.path.dirname(os.getcwd()),'xxx_ProjectEulerData','0067_triangle.txt'), 'r') as file:\n",
    "    array = [[int(y) for y in x.split()] for x in file.read().split('\\n') if x != '']"
   ]
  },
  {
   "cell_type": "code",
   "execution_count": 26,
   "id": "fb4bfe35-7700-476f-b482-ab1d22c39063",
   "metadata": {},
   "outputs": [],
   "source": [
    "def pe_67():\n",
    "    c = len(array)\n",
    "    totalCost = [0]*c\n",
    "    for x,val in enumerate(array):\n",
    "        totalCost[x] = [0]*len(val)\n",
    "\n",
    "    totalCost[0][0] = array[0][0]\n",
    "    for i in range(1,c):\n",
    "        totalCost[i][0] = array[i][0] + totalCost[i-1][0]\n",
    "        totalCost[i][i] = array[i][i] + totalCost[i-1][i-1]\n",
    "\n",
    "    for i in range(1,c):\n",
    "        for j in range(1,i):\n",
    "            minCost = max(totalCost[i-1][j-1],totalCost[i-1][j])\n",
    "            totalCost[i][j] = minCost + array[i][j]\n",
    "    return max(totalCost[-1])"
   ]
  },
  {
   "cell_type": "code",
   "execution_count": 27,
   "id": "4558ec5b-8b1d-48fe-b5b2-92500da841ff",
   "metadata": {},
   "outputs": [
    {
     "name": "stdout",
     "output_type": "stream",
     "text": [
      "The max value in this triangle is : 7273\n",
      "Time taken : 0.010053s\n"
     ]
    }
   ],
   "source": [
    "time_start = time.perf_counter()\n",
    "result = pe_67()\n",
    "time_end = time.perf_counter()\n",
    "time_taken = time_end - time_start\n",
    "print(f'The max value in this triangle is : {result}\\nTime taken : {time_taken:.6f}s')"
   ]
  },
  {
   "cell_type": "code",
   "execution_count": null,
   "id": "33089b6c-f65d-4b93-9f35-1f5e6a4b32bf",
   "metadata": {},
   "outputs": [],
   "source": []
  }
 ],
 "metadata": {
  "kernelspec": {
   "display_name": "Python 3 (ipykernel)",
   "language": "python",
   "name": "python3"
  },
  "language_info": {
   "codemirror_mode": {
    "name": "ipython",
    "version": 3
   },
   "file_extension": ".py",
   "mimetype": "text/x-python",
   "name": "python",
   "nbconvert_exporter": "python",
   "pygments_lexer": "ipython3",
   "version": "3.9.13"
  }
 },
 "nbformat": 4,
 "nbformat_minor": 5
}
