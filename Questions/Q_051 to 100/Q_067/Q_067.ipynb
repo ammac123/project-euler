{
 "cells": [
  {
   "cell_type": "markdown",
   "id": "e7ed00c9-6635-46a5-a90f-75bbbafd9532",
   "metadata": {},
   "source": [
    "### Problem 67: Maximum Path Sum II\n",
    "<p>By starting at the top of the triangle below and moving to adjacent numbers on the row below, the maximum total from top to bottom is 23.</p>\n",
    "<p class=\"monospace center\"><span class=\"red\"><b>3</b></span><br><span class=\"red\"><b>7</b></span> 4<br>\n",
    "2 <span class=\"red\"><b>4</b></span> 6<br>\n",
    "8 5 <span class=\"red\"><b>9</b></span> 3</p>\n",
    "<p>That is, 3 + 7 + 4 + 9 = 23.</p>\n",
    "<p>Find the maximum total from top to bottom in <a href=\"resources/documents/0067_triangle.txt\">triangle.txt</a> (right click and 'Save Link/Target As...'), a 15K text file containing a triangle with one-hundred rows.</p>\n",
    "<p class=\"smaller\"><b>NOTE:</b> This is a much more difficult version of <a href=\"problem=18\">Problem 18</a>. It is not possible to try every route to solve this problem, as there are 2<sup>99</sup> altogether! If you could check one trillion (10<sup>12</sup>) routes every second it would take over twenty billion years to check them all. There is an efficient algorithm to solve it. ;o)</p>"
   ]
  },
  {
   "cell_type": "code",
   "execution_count": 31,
   "id": "80ff7ad3-9dae-4309-b6d9-eb76b433c2d1",
   "metadata": {},
   "outputs": [],
   "source": [
    "import os\n",
    "import numpy as np"
   ]
  },
  {
   "cell_type": "code",
   "execution_count": 84,
   "id": "9e894f3d-be94-4b85-921a-7904e7a7410d",
   "metadata": {},
   "outputs": [],
   "source": [
    "with open(os.path.join(os.path.dirname(os.getcwd()),'xxx_ProjectEulerData','0067_triangle.txt'), 'r') as file:\n",
    "    file_content = file.read()\n",
    "#print(file_content)"
   ]
  },
  {
   "cell_type": "code",
   "execution_count": 93,
   "id": "51c8d66a-ee7f-4778-b217-7ffe44d42d98",
   "metadata": {},
   "outputs": [],
   "source": [
    "arr = np.zeros((100,100))\n",
    "\n",
    "with open(os.path.join(os.path.dirname(os.getcwd()),'xxx_ProjectEulerData','0067_triangle.txt'), 'r') as file:\n",
    "    # Read the content of the file\n",
    "    \n",
    "    for i,x in enumerate(file):\n",
    "        for j,y in enumerate(x.split()):\n",
    "            arr[i,j] = int(y)\n",
    "            #print(y,j,i)\n"
   ]
  },
  {
   "cell_type": "code",
   "execution_count": 94,
   "id": "6707c676-3ff8-4084-bbad-76de5c646960",
   "metadata": {},
   "outputs": [
    {
     "data": {
      "text/plain": [
       "array([[59.,  0.,  0., ...,  0.,  0.,  0.],\n",
       "       [73., 41.,  0., ...,  0.,  0.,  0.],\n",
       "       [52., 40.,  9., ...,  0.,  0.,  0.],\n",
       "       ...,\n",
       "       [64., 66., 84., ..., 15.,  0.,  0.],\n",
       "       [30., 11., 85., ..., 67., 68.,  0.],\n",
       "       [23., 33., 44., ..., 59., 63., 35.]])"
      ]
     },
     "execution_count": 94,
     "metadata": {},
     "output_type": "execute_result"
    }
   ],
   "source": [
    "arr"
   ]
  },
  {
   "cell_type": "code",
   "execution_count": 106,
   "id": "f9a69e8a-e177-4465-b91b-a2605692906b",
   "metadata": {},
   "outputs": [
    {
     "data": {
      "text/plain": [
       "7273.0"
      ]
     },
     "execution_count": 106,
     "metadata": {},
     "output_type": "execute_result"
    }
   ],
   "source": [
    "tc = np.zeros((100,100))\n",
    "tc[0,0] = arr[0,0]\n",
    "for i in range(1,len(arr)):\n",
    "    tc[i,0] = tc[i-1,0] + arr[i,0]\n",
    "    tc[i,i] = tc[i-1,i-1] + arr[i,i]\n",
    "    \n",
    "for i in range(1,len(arr)):\n",
    "    for j in range(1,i+1):\n",
    "        tc[i,j] = max(tc[i-1,j],tc[i-1,j-1]) + arr[i,j]\n",
    "        \n",
    "max(tc[99,:])"
   ]
  },
  {
   "cell_type": "code",
   "execution_count": 105,
   "id": "902a487b-f2bf-42ab-8602-2353d0e92df4",
   "metadata": {},
   "outputs": [
    {
     "data": {
      "text/plain": [
       "array([[  59.,    0.,    0., ...,    0.,    0.,    0.],\n",
       "       [ 132.,  100.,    0., ...,    0.,    0.,    0.],\n",
       "       [ 184.,  172.,  109., ...,    0.,    0.,    0.],\n",
       "       ...,\n",
       "       [5086., 5318., 5336., ..., 4742.,    0.,    0.],\n",
       "       [5116., 5329., 5421., ..., 5015., 4810.,    0.],\n",
       "       [5139., 5362., 5465., ..., 5137., 5078., 4845.]])"
      ]
     },
     "execution_count": 105,
     "metadata": {},
     "output_type": "execute_result"
    }
   ],
   "source": [
    "tc"
   ]
  }
 ],
 "metadata": {
  "kernelspec": {
   "display_name": "Python 3 (ipykernel)",
   "language": "python",
   "name": "python3"
  },
  "language_info": {
   "codemirror_mode": {
    "name": "ipython",
    "version": 3
   },
   "file_extension": ".py",
   "mimetype": "text/x-python",
   "name": "python",
   "nbconvert_exporter": "python",
   "pygments_lexer": "ipython3",
   "version": "3.9.13"
  }
 },
 "nbformat": 4,
 "nbformat_minor": 5
}
