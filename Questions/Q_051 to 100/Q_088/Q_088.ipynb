{
 "cells": [
  {
   "cell_type": "markdown",
   "id": "9eae01ac-754c-4d34-9cea-e4ddf81f2d0c",
   "metadata": {},
   "source": [
    "### Problem 88: Product-sum Numbers\n",
    "<p>A natural number, $N$, that can be written as the sum and product of a given set of at least two natural numbers, $\\{a_1, a_2, \\dots, a_k\\}$ is called a product-sum number: $N = a_1 + a_2 + \\cdots + a_k = a_1 \\times a_2 \\times \\cdots \\times a_k$.</p>\n",
    "<p>For example, $6 = 1 + 2 + 3 = 1 \\times 2 \\times 3$.</p>\n",
    "<p>For a given set of size, $k$, we shall call the smallest $N$ with this property a minimal product-sum number. The minimal product-sum numbers for sets of size, $k = 2, 3, 4, 5$, and $6$ are as follows.</p>\n",
    "<ul style=\"list-style-type:none;\">\n",
    "<li>$k=2$: $4 = 2 \\times 2 = 2 + 2$</li>\n",
    "<li>$k=3$: $6 = 1 \\times 2 \\times 3 = 1 + 2 + 3$</li>\n",
    "<li>$k=4$: $8 = 1 \\times 1 \\times 2 \\times 4 = 1 + 1 + 2 + 4$</li>\n",
    "<li>$k=5$: $8 = 1 \\times 1 \\times 2 \\times 2 \\times 2 = 1 + 1 + 2 + 2 + 2$</li><li>$k=6$: $12 = 1 \\times 1 \\times 1 \\times 1 \\times 2 \\times 6 = 1 + 1 + 1 + 1 + 2 + 6$</li></ul>\n",
    "<p>Hence for $2 \\le k \\le 6$, the sum of all the minimal product-sum numbers is $4+6+8+12 = 30$; note that $8$ is only counted once in the sum.</p>\n",
    "<p>In fact, as the complete set of minimal product-sum numbers for $2 \\le k \\le 12$ is $\\{4, 6, 8, 12, 15, 16\\}$, the sum is $61$.</p>\n",
    "<p>What is the sum of all the minimal product-sum numbers for $2 \\le k \\le 12000$?</p>\n"
   ]
  },
  {
   "cell_type": "code",
   "execution_count": 166,
   "id": "773486d3-e4fd-423d-bde1-a802684a9158",
   "metadata": {},
   "outputs": [],
   "source": [
    "import time\n",
    "import numpy as np\n",
    "import math\n",
    "import collections\n",
    "import itertools\n",
    "from itertools import permutations\n",
    "from itertools import combinations\n",
    "from sympy import *\n",
    "from sympy import primefactors"
   ]
  },
  {
   "cell_type": "code",
   "execution_count": 37,
   "id": "e1fb670b-33ac-4353-8417-83270bd77da6",
   "metadata": {},
   "outputs": [],
   "source": [
    "def factorize(num, primes, cache):\n",
    "    \n",
    "    if num in primes:\n",
    "        cache[num] = {(num,)}\n",
    "        return cache[num]\n",
    "    ways = cache.get(num, set())\n",
    "    if len(ways):\n",
    "        return ways\n",
    "    for i in range(2, int(np.sqrt(num))+1):\n",
    "        q, r = divmod(num, i)\n",
    "        if r == 0:\n",
    "            part1 = factorize(i, primes, cache)\n",
    "            part2 = factorize(q, primes, cache)\n",
    "            for p1 in part1:\n",
    "                for p2 in part2:\n",
    "                    tmp = list(p1+p2)\n",
    "                    tmp.sort()\n",
    "                    ways.add(tuple(tmp))\n",
    "    ways.add((num,))\n",
    "    cache[num] = ways\n",
    "    return ways"
   ]
  },
  {
   "cell_type": "code",
   "execution_count": 150,
   "id": "bfcc0ef5-c51e-45b9-8d5c-be05457f8be6",
   "metadata": {},
   "outputs": [],
   "source": [
    "def worker_function(kmax):\n",
    "    \n",
    "    k_len = {}\n",
    "\n",
    "    for i in range(2*kmax+1,1,-1):\n",
    "        factorize(i,primeSet,cache)\n",
    "\n",
    "    for k in range(2,kmax+1):\n",
    "        for num in range(k,2*k+1):\n",
    "            if k in k_len: break\n",
    "            for lst in cache[num]:\n",
    "                if num == sum(lst) + k - len(lst):\n",
    "                    k_len[k] = num\n",
    "                    break\n",
    "    \n",
    "    \n",
    "    return k_len.values()"
   ]
  },
  {
   "cell_type": "code",
   "execution_count": 169,
   "id": "1f7023e3-c4af-4ca2-bb7f-42c9c6cd857d",
   "metadata": {},
   "outputs": [],
   "source": [
    "limit = int(12e3)\n",
    "primeSet = set([i for i in primerange(1,limit*2 +1)])\n",
    "cache = {}\n",
    "start_time = time.perf_counter()\n",
    "result = sum(set(worker_function(limit)))\n",
    "end_time = time.perf_counter()\n",
    "time_taken = end_time - start_time"
   ]
  },
  {
   "cell_type": "code",
   "execution_count": 180,
   "id": "6916ee68-cd34-48c8-8c75-918238cd1352",
   "metadata": {},
   "outputs": [
    {
     "name": "stdout",
     "output_type": "stream",
     "text": [
      "The total sum of minimal products between 2 and 12000 is: 7,587,457\n",
      "Time taken: 2.330s\n"
     ]
    }
   ],
   "source": [
    "print(f'The total sum of minimal products between 2 and {limit} is: {result:,.0f}')\n",
    "print(f'Time taken: {time_taken:.3f}s')"
   ]
  },
  {
   "cell_type": "code",
   "execution_count": 194,
   "id": "0156bccf-b1c1-4691-ba6b-f6f46b7a9194",
   "metadata": {},
   "outputs": [
    {
     "name": "stdout",
     "output_type": "stream",
     "text": [
      "Project Euler 88 Solution is: 7587457\n",
      "Time taken: 0.12695s\n"
     ]
    }
   ],
   "source": [
    "def prodsum(p, s, c, start):\n",
    "    k = p - s + c     # product - sum + number of factors\n",
    "    if k < kmax:\n",
    "        if p < n[k]: n[k] = p\n",
    "        for i in range(start, kmax//p*2 + 1):\n",
    "            prodsum(p*i, s+i, c+1, i)\n",
    "\n",
    "kmax = int(12e3)\n",
    "if kmax > 12: kmax+= 1\n",
    "n = [2*kmax] * kmax\n",
    "start_time = time.perf_counter()\n",
    "prodsum(1, 1, 1, 2)\n",
    "end_time = time.perf_counter()\n",
    "time_taken = end_time - start_time\n",
    "print(f\"Project Euler 88 Solution is: {sum(set(n[2:]))}\")\n",
    "print(f\"Time taken: {time_taken:.5f}s\")"
   ]
  },
  {
   "cell_type": "code",
   "execution_count": null,
   "id": "0076aeb1-9b82-4a16-b2dd-5f829eb93b39",
   "metadata": {},
   "outputs": [],
   "source": []
  }
 ],
 "metadata": {
  "kernelspec": {
   "display_name": "Python 3 (ipykernel)",
   "language": "python",
   "name": "python3"
  },
  "language_info": {
   "codemirror_mode": {
    "name": "ipython",
    "version": 3
   },
   "file_extension": ".py",
   "mimetype": "text/x-python",
   "name": "python",
   "nbconvert_exporter": "python",
   "pygments_lexer": "ipython3",
   "version": "3.9.13"
  }
 },
 "nbformat": 4,
 "nbformat_minor": 5
}
