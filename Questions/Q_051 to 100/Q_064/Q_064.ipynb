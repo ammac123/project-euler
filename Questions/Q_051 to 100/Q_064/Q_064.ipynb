{
 "cells": [
  {
   "cell_type": "markdown",
   "id": "3d91f59e-ea69-406f-a273-60d8db1d1815",
   "metadata": {},
   "source": [
    "### Problem 64: Odd Period Square Roots\n",
    "<p>All square roots are periodic when written as continued fractions and can be written in the form:</p>\n",
    "\n",
    "$\\displaystyle \\quad \\quad \\sqrt{N}=a_0+\\frac 1 {a_1+\\frac 1 {a_2+ \\frac 1 {a3+ \\dots}}}$\n",
    "\n",
    "<p>For example, let us consider $\\sqrt{23}:$</p>\n",
    "$\\quad \\quad \\sqrt{23}=4+\\sqrt{23}-4=4+\\frac 1 {\\frac 1 {\\sqrt{23}-4}}=4+\\frac 1  {1+\\frac{\\sqrt{23}-3}7}$\n",
    "\n",
    "<p>If we continue we would get the following expansion:</p>\n",
    "\n",
    "$\\displaystyle \\quad \\quad \\sqrt{23}=4+\\frac 1 {1+\\frac 1 {3+ \\frac 1 {1+\\frac 1 {8+ \\dots}}}}$\n",
    "\n",
    "<p>The process can be summarised as follows:</p>\n",
    "<p>\n",
    "$\\quad \\quad a_0=4, \\frac 1 {\\sqrt{23}-4}=\\frac {\\sqrt{23}+4} 7=1+\\frac {\\sqrt{23}-3} 7$<br>\n",
    "$\\quad \\quad a_1=1, \\frac 7 {\\sqrt{23}-3}=\\frac {7(\\sqrt{23}+3)} {14}=3+\\frac {\\sqrt{23}-3} 2$<br>\n",
    "$\\quad \\quad a_2=3, \\frac 2 {\\sqrt{23}-3}=\\frac {2(\\sqrt{23}+3)} {14}=1+\\frac {\\sqrt{23}-4} 7$<br>\n",
    "$\\quad \\quad a_3=1, \\frac 7 {\\sqrt{23}-4}=\\frac {7(\\sqrt{23}+4)} 7=8+\\sqrt{23}-4$<br>\n",
    "$\\quad \\quad a_4=8, \\frac 1 {\\sqrt{23}-4}=\\frac {\\sqrt{23}+4} 7=1+\\frac {\\sqrt{23}-3} 7$<br>\n",
    "$\\quad \\quad a_5=1, \\frac 7 {\\sqrt{23}-3}=\\frac {7 (\\sqrt{23}+3)} {14}=3+\\frac {\\sqrt{23}-3} 2$<br>\n",
    "\n",
    "$\\quad \\quad a_6=3, \\frac 2 {\\sqrt{23}-3}=\\frac {2(\\sqrt{23}+3)} {14}=1+\\frac {\\sqrt{23}-4} 7$<br>\n",
    "$\\quad \\quad a_7=1, \\frac 7 {\\sqrt{23}-4}=\\frac {7(\\sqrt{23}+4)} {7}=8+\\sqrt{23}-4$<br>\n",
    "</p>\n",
    "\n",
    "<p>It can be seen that the sequence is repeating. For conciseness, we use the notation $\\sqrt{23}=[4;(1,3,1,8)]$, to indicate that the block (1,3,1,8) repeats indefinitely.</p>\n",
    "\n",
    "<p>The first ten continued fraction representations of (irrational) square roots are:</p>\n",
    "<p>\n",
    "$\\quad \\quad \\sqrt{2}=[1;(2)]$, period=$1$<br>\n",
    "$\\quad \\quad \\sqrt{3}=[1;(1,2)]$, period=$2$<br>\n",
    "$\\quad \\quad \\sqrt{5}=[2;(4)]$, period=$1$<br>\n",
    "$\\quad \\quad \\sqrt{6}=[2;(2,4)]$, period=$2$<br>\n",
    "$\\quad \\quad \\sqrt{7}=[2;(1,1,1,4)]$, period=$4$<br>\n",
    "$\\quad \\quad \\sqrt{8}=[2;(1,4)]$, period=$2$<br>\n",
    "$\\quad \\quad \\sqrt{10}=[3;(6)]$, period=$1$<br>\n",
    "$\\quad \\quad \\sqrt{11}=[3;(3,6)]$, period=$2$<br>\n",
    "$\\quad \\quad \\sqrt{12}=[3;(2,6)]$, period=$2$<br>\n",
    "$\\quad \\quad \\sqrt{13}=[3;(1,1,1,1,6)]$, period=$5$\n",
    "</p>\n",
    "<p>Exactly four continued fractions, for $N \\le 13$, have an odd period.</p>\n",
    "<p>How many continued fractions for $N \\le 10\\,000$ have an odd period?</p>\n",
    "\n"
   ]
  },
  {
   "cell_type": "code",
   "execution_count": 183,
   "id": "ce4c8f08-21e9-428f-969a-48e58f48030d",
   "metadata": {},
   "outputs": [],
   "source": [
    "from sympy import *\n",
    "from sympy.ntheory.primetest import is_square"
   ]
  },
  {
   "cell_type": "code",
   "execution_count": 196,
   "id": "2160df23-56d6-4d2a-a8dd-454643954fe4",
   "metadata": {},
   "outputs": [],
   "source": [
    "def p_64():\n",
    "    count = 0\n",
    "    limit = int(1e4)\n",
    "    for N in range(1,limit):\n",
    "        if is_square(N): pass\n",
    "        else:\n",
    "            root_floor = math.floor(sqrt(N))\n",
    "            a = [root_floor]\n",
    "            b = [math.floor(sqrt(N))]\n",
    "            n = [1]\n",
    "            r = [0]\n",
    "            l = [[a[0],r[0],b[0],n[0]]]\n",
    "            i = 0\n",
    "\n",
    "            while True:\n",
    "                i += 1 \n",
    "                a.append(int(n[i-1]*(root_floor + b[i-1])//(N - b[i-1]**2)))\n",
    "                r.append(int(n[i-1]*(root_floor + b[i-1])%(N - b[i-1]**2)))\n",
    "                b.append(int(root_floor - r[i]/n[i-1]))\n",
    "                n.append(int((N - b[i-1]**2)/n[i-1]))\n",
    "                if [a[i],r[i],b[i],n[i]] in l: count += len(l)%2 == 0; break\n",
    "                l.append([a[i],r[i],b[i],n[i]])\n",
    "\n",
    "    print(count)"
   ]
  },
  {
   "cell_type": "code",
   "execution_count": 198,
   "id": "8f534748-5330-4e6b-b860-c353358816ce",
   "metadata": {},
   "outputs": [
    {
     "name": "stdout",
     "output_type": "stream",
     "text": [
      "1322\n"
     ]
    }
   ],
   "source": [
    "p_64()"
   ]
  }
 ],
 "metadata": {
  "kernelspec": {
   "display_name": "Python 3 (ipykernel)",
   "language": "python",
   "name": "python3"
  },
  "language_info": {
   "codemirror_mode": {
    "name": "ipython",
    "version": 3
   },
   "file_extension": ".py",
   "mimetype": "text/x-python",
   "name": "python",
   "nbconvert_exporter": "python",
   "pygments_lexer": "ipython3",
   "version": "3.9.13"
  }
 },
 "nbformat": 4,
 "nbformat_minor": 5
}
