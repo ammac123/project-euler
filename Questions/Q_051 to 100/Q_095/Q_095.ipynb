{
 "cells": [
  {
   "cell_type": "markdown",
   "id": "6b5727d0-c7d7-40c8-89d3-31823808a807",
   "metadata": {},
   "source": [
    "### Problem 95: Amicable Chains\n",
    "<p>The proper divisors of a number are all the divisors excluding the number itself. For example, the proper divisors of $28$ are $1$, $2$, $4$, $7$, and $14$. As the sum of these divisors is equal to $28$, we call it a perfect number.</p>\n",
    "<p>Interestingly the sum of the proper divisors of $220$ is $284$ and the sum of the proper divisors of $284$ is $220$, forming a chain of two numbers. For this reason, $220$ and $284$ are called an amicable pair.</p>\n",
    "<p>Perhaps less well known are longer chains. For example, starting with $12496$, we form a chain of five numbers:\n",
    "$$12496 \\to 14288 \\to 15472 \\to 14536 \\to 14264 (\\to 12496 \\to \\cdots)$$</p>\n",
    "<p>Since this chain returns to its starting point, it is called an amicable chain.</p>\n",
    "<p>Find the smallest member of the longest amicable chain with no element exceeding one million.</p>\n"
   ]
  },
  {
   "cell_type": "code",
   "execution_count": 341,
   "id": "bce42116-e626-456d-bdff-9e032333b75b",
   "metadata": {},
   "outputs": [],
   "source": [
    "import time\n",
    "from sympy import divisors, ntheory"
   ]
  },
  {
   "cell_type": "code",
   "execution_count": 345,
   "id": "c8f575ac-3f33-4a18-85e3-635678621f1d",
   "metadata": {},
   "outputs": [],
   "source": [
    "limit = 1_000_000\n",
    "nocycleset = set([x for x in ntheory.primerange(limit)])"
   ]
  },
  {
   "cell_type": "code",
   "execution_count": 355,
   "id": "d2d4a86f-9da1-4ac6-913a-debd3367860f",
   "metadata": {},
   "outputs": [],
   "source": [
    "def amicable_chain(n,nocycleset,chain,limit,seen):\n",
    "    chain.append(n)\n",
    "    m = sum(divisors(n))-n\n",
    "    if m in seen:\n",
    "        for i in chain[:chain.index(n)]:\n",
    "            nocycleset.add(i)\n",
    "            chain.remove(i)\n",
    "    elif m in chain:\n",
    "        for i in chain[:chain.index(m)]:\n",
    "            nocycleset.add(i)\n",
    "            chain.remove(i)\n",
    "        return \n",
    "    elif m in nocycleset or m>limit or m<2:\n",
    "        chain.append(m)\n",
    "        for i in chain: \n",
    "            nocycleset.add(i)\n",
    "        return\n",
    "    else:\n",
    "        amicable_chain(m,nocycleset,chain,limit,seen)"
   ]
  },
  {
   "cell_type": "code",
   "execution_count": 356,
   "id": "c9abd563-e4fa-42ea-9d3d-625deb17b5ce",
   "metadata": {},
   "outputs": [],
   "source": [
    "def pe_95(limit):\n",
    "    chain_list = []\n",
    "    seen = set()\n",
    "    for i in range(1,limit):\n",
    "        if i in seen: continue\n",
    "        chain = []\n",
    "        amicable_chain(i,nocycleset,chain,limit,seen)\n",
    "        if chain[-1] not in nocycleset and chain not in chain_list: chain_list.append(chain)\n",
    "        for x in chain: seen.add(x)\n",
    "\n",
    "    result = chain_list[[(len(y)) for y in chain_list].index(max([(len(y)) for y in chain_list]))]\n",
    "    return result, min(result)"
   ]
  },
  {
   "cell_type": "code",
   "execution_count": 357,
   "id": "7eef8b38-4a76-412e-b72e-db6c6c2a4673",
   "metadata": {},
   "outputs": [
    {
     "name": "stdout",
     "output_type": "stream",
     "text": [
      "The smallest value of the longest chain is : 14316\n",
      "The longest chain is : [14316, 19116, 31704, 47616, 83328, 177792, 295488, 629072, 589786, 294896, 358336, 418904, 366556, 274924, 275444, 243760, 376736, 381028, 285778, 152990, 122410, 97946, 48976, 45946, 22976, 22744, 19916, 17716]\n",
      "Time taken : 19.856972s\n"
     ]
    }
   ],
   "source": [
    "time_start = time.perf_counter()\n",
    "res_chain, result = pe_95(limit)\n",
    "time_end = time.perf_counter()\n",
    "time_taken = time_end - time_start\n",
    "print(f'The smallest value of the longest chain is : {result}\\nThe longest chain is : {res_chain}\\nTime taken : {time_taken:.6f}s')"
   ]
  }
 ],
 "metadata": {
  "kernelspec": {
   "display_name": "Python 3 (ipykernel)",
   "language": "python",
   "name": "python3"
  },
  "language_info": {
   "codemirror_mode": {
    "name": "ipython",
    "version": 3
   },
   "file_extension": ".py",
   "mimetype": "text/x-python",
   "name": "python",
   "nbconvert_exporter": "python",
   "pygments_lexer": "ipython3",
   "version": "3.9.13"
  }
 },
 "nbformat": 4,
 "nbformat_minor": 5
}
