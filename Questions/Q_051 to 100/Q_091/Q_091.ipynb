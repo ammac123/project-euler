{
 "cells": [
  {
   "cell_type": "markdown",
   "id": "da645130-73c3-44a3-8957-42bf93523c2c",
   "metadata": {},
   "source": [
    "### Problem 91: Right Triangles with Integer Coordinates\n",
    "<p>The points $P(x_1, y_1)$ and $Q(x_2, y_2)$ are plotted at integer co-ordinates and are joined to the origin, $O(0,0)$, to form $\\triangle OPQ$.</p>\n",
    "\n",
    "<div style=\"text-align:center\">\n",
    "<img src=\"https://projecteuler.net/resources/images/0091_1.png?1678992052\" class=\"dark_img\" alt=\"\"><br></div>\n",
    "\n",
    "<p>There are exactly fourteen triangles containing a right angle that can be formed when each co-ordinate lies between $0$ and $2$ inclusive; that is, $0 \\le x_1, y_1, x_2, y_2 \\le 2$.</p>\n",
    "\n",
    "<div style=\"text-align:center\">\n",
    "<img src=\"https://projecteuler.net/resources/images/0091_2.png?1678992052\" alt=\"\"><br></div>\n",
    "\n",
    "<p>Given that $0 \\le x_1, y_1, x_2, y_2 \\le 50$, how many right triangles can be formed?</p>"
   ]
  },
  {
   "cell_type": "code",
   "execution_count": 255,
   "id": "b4cc2c96-a311-4bd7-a0dd-14d2c6dbebd6",
   "metadata": {},
   "outputs": [],
   "source": [
    "from itertools import permutations\n",
    "import math\n",
    "import time"
   ]
  },
  {
   "cell_type": "code",
   "execution_count": 256,
   "id": "9b1b650a-944b-4214-8c21-75e0577fa50d",
   "metadata": {},
   "outputs": [],
   "source": [
    "def coordinate_create(n):\n",
    "    p_set = []\n",
    "    for x in range(n+1):\n",
    "        for y in range(n+1):\n",
    "            p_set.append([x,y])\n",
    "\n",
    "    return p_set"
   ]
  },
  {
   "cell_type": "code",
   "execution_count": 257,
   "id": "9935aefd-4a24-4315-b4c5-d794338d560e",
   "metadata": {},
   "outputs": [],
   "source": [
    "def right_angle_check(p,q,floatlim=10**-8):\n",
    "    x = pow(np.linalg.norm(p-q),2)\n",
    "    y = pow(np.linalg.norm(q),2)\n",
    "    z = pow(np.linalg.norm(p),2)\n",
    "    if 0 in [x,y,z]: \n",
    "        return False\n",
    "    if abs(x+y+z - 2*max([x,y,z])) < floatlim:\n",
    "        return True\n",
    "    return False"
   ]
  },
  {
   "cell_type": "code",
   "execution_count": 258,
   "id": "3b81b52b-b033-49be-b811-6f3f1ffa01ea",
   "metadata": {},
   "outputs": [],
   "source": [
    "def right_angle_check(p,q,floatlim=10**-8):\n",
    "    x = pow(p[0],2) + pow(p[1],2)\n",
    "    y = pow(q[0],2) + pow(q[1],2)\n",
    "    z = pow(p[0]-q[0],2) + pow(p[1]-q[1],2)\n",
    "    if 0 in [x,y,z]: \n",
    "        return False\n",
    "    if abs(x+y+z - 2*max([x,y,z])) < floatlim:\n",
    "        return True\n",
    "    return False"
   ]
  },
  {
   "cell_type": "code",
   "execution_count": 259,
   "id": "cf319f3d-a294-452f-901d-148b34b1d699",
   "metadata": {},
   "outputs": [],
   "source": [
    "seen = set()\n",
    "\n",
    "def pe_91():\n",
    "    n=50\n",
    "    points = coordinate_create(n)\n",
    "    count = 0\n",
    "    for x,p in enumerate(points):\n",
    "        for y,q in enumerate(points):\n",
    "            if (x,y) in seen or (y,x) in seen: continue\n",
    "            count += right_angle_check(p,q)\n",
    "            seen.add((x,y))\n",
    "            \n",
    "    return count"
   ]
  },
  {
   "cell_type": "code",
   "execution_count": 260,
   "id": "b83352e3-d86c-49f6-8c31-150a4aaba0f3",
   "metadata": {},
   "outputs": [
    {
     "name": "stdout",
     "output_type": "stream",
     "text": [
      "The total number of right triangles able to be made is : 14234\n",
      "Time taken : 47.738444s\n"
     ]
    }
   ],
   "source": [
    "time_start = time.perf_counter()\n",
    "count = pe_91()\n",
    "time_end = time.perf_counter()\n",
    "time_taken = time_end - time_start\n",
    "print(f'The total number of right triangles able to be made is : {count}\\nTime taken : {time_taken:.6f}s')"
   ]
  }
 ],
 "metadata": {
  "kernelspec": {
   "display_name": "Python 3 (ipykernel)",
   "language": "python",
   "name": "python3"
  },
  "language_info": {
   "codemirror_mode": {
    "name": "ipython",
    "version": 3
   },
   "file_extension": ".py",
   "mimetype": "text/x-python",
   "name": "python",
   "nbconvert_exporter": "python",
   "pygments_lexer": "ipython3",
   "version": "3.9.13"
  }
 },
 "nbformat": 4,
 "nbformat_minor": 5
}
