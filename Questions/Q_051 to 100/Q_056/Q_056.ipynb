{
 "cells": [
  {
   "cell_type": "markdown",
   "id": "d03382d2-8337-4f68-9ae0-6203944a5eec",
   "metadata": {},
   "source": [
    "### Problem 56: Powerful Digit Sum\n",
    "<p>A googol ($10^{100}$) is a massive number: one followed by one-hundred zeros; $100^{100}$ is almost unimaginably large: one followed by two-hundred zeros. Despite their size, the sum of the digits in each number is only $1$.</p>\n",
    "<p>Considering natural numbers of the form, $a^b$, where $a, b \\lt 100$, what is the maximum digital sum?</p>"
   ]
  },
  {
   "cell_type": "code",
   "execution_count": 1,
   "id": "9ce7f35d-8dfd-4bf4-b2d1-ece2ce37aada",
   "metadata": {},
   "outputs": [],
   "source": [
    "import math"
   ]
  },
  {
   "cell_type": "code",
   "execution_count": 12,
   "id": "e3b34b0b-25ca-4840-9626-353ac29f679a",
   "metadata": {},
   "outputs": [],
   "source": [
    "def digital_sum(num):\n",
    "    return sum([int(x) for x in str(num)])"
   ]
  },
  {
   "cell_type": "code",
   "execution_count": 20,
   "id": "8019f4ca-fe51-473a-b14a-2b764ef0257e",
   "metadata": {},
   "outputs": [],
   "source": [
    "def pe_56():\n",
    "    running_max = 0\n",
    "    for k in range(1,100):\n",
    "        for j in range(1,100):\n",
    "            num = pow(100-k,100-j)\n",
    "            if digital_sum(num) > running_max:\n",
    "                running_max = digital_sum(num)\n",
    "    return running_max"
   ]
  },
  {
   "cell_type": "code",
   "execution_count": 21,
   "id": "d1a58f48-e160-4b07-9cb6-096d9f47ad02",
   "metadata": {},
   "outputs": [
    {
     "data": {
      "text/plain": [
       "972"
      ]
     },
     "execution_count": 21,
     "metadata": {},
     "output_type": "execute_result"
    }
   ],
   "source": [
    "pe_56()"
   ]
  }
 ],
 "metadata": {
  "kernelspec": {
   "display_name": "Python 3 (ipykernel)",
   "language": "python",
   "name": "python3"
  },
  "language_info": {
   "codemirror_mode": {
    "name": "ipython",
    "version": 3
   },
   "file_extension": ".py",
   "mimetype": "text/x-python",
   "name": "python",
   "nbconvert_exporter": "python",
   "pygments_lexer": "ipython3",
   "version": "3.9.13"
  }
 },
 "nbformat": 4,
 "nbformat_minor": 5
}
