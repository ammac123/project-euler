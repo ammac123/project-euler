{
 "cells": [
  {
   "cell_type": "markdown",
   "id": "d9715a56-c9f1-4e8a-b739-05ccfc3a872e",
   "metadata": {},
   "source": [
    "### Problem 79: Passcode Derivation\n",
    "<p>A common security method used for online banking is to ask the user for three random characters from a passcode. For example, if the passcode was 531278, they may ask for the 2nd, 3rd, and 5th characters; the expected reply would be: 317.</p>\n",
    "<p>The text file, <a href=\"resources/documents/0079_keylog.txt\">keylog.txt</a>, contains fifty successful login attempts.</p>\n",
    "<p>Given that the three characters are always asked for in order, analyse the file so as to determine the shortest possible secret passcode of unknown length.</p>\n"
   ]
  },
  {
   "cell_type": "code",
   "execution_count": 70,
   "id": "dc8b3b1e-8b1f-4a28-bdd5-41ea2794b495",
   "metadata": {},
   "outputs": [],
   "source": [
    "import math\n",
    "from collections import OrderedDict"
   ]
  },
  {
   "cell_type": "code",
   "execution_count": 46,
   "id": "48f277f3-1b13-433e-8d95-16864a3960c9",
   "metadata": {},
   "outputs": [],
   "source": [
    "keylog = [319,680,180,690,129,620,762,689,762,318,368,710,720,710,629,168,160,689,716,731,736,729,316,729,729,710,769,290,719,680,318,389,162,289,162,718,729,319,790,680,890,362,319,760,316,729,380,319,728,716]\n",
    "key_set_behind = {}"
   ]
  },
  {
   "cell_type": "code",
   "execution_count": 68,
   "id": "5694ff6c-2094-47d3-87b1-8a71b896646c",
   "metadata": {},
   "outputs": [],
   "source": [
    "for x,val in enumerate(keylog):\n",
    "    s = str(val)\n",
    "    for i in range(len(s)):\n",
    "        for j in range(i,len(s)):\n",
    "            if int(s[i]) not in key_set_behind:key_set_behind[int(s[i])] = set()\n",
    "            key_set_behind[int(s[i])].add(int(s[j]))\n",
    "            "
   ]
  },
  {
   "cell_type": "code",
   "execution_count": 84,
   "id": "82efcaf3-283f-4449-beff-e55d1e993648",
   "metadata": {},
   "outputs": [
    {
     "name": "stdout",
     "output_type": "stream",
     "text": [
      "The shortest number is: 73162890\n"
     ]
    }
   ],
   "source": [
    "result = int(''.join(str(x) for x in OrderedDict(sorted(key_set_behind.items(), key = lambda x : len(x[1]),reverse=True)).keys()))\n",
    "result_l = [x for x in str(result)]\n",
    "result_bool = True\n",
    "for s in keylog:\n",
    "    t0 = str(s)[0]\n",
    "    t1 = str(s)[1]\n",
    "    t2 = str(s)[2]\n",
    "    if result_l.index(t0) < result_l.index(t1) and result_l.index(t1) < result_l.index(t2): pass\n",
    "    else: result_bool = False; break\n",
    "\n",
    "if result_bool: print(f'The shortest number is: {result}')\n",
    "else: print('Error')"
   ]
  }
 ],
 "metadata": {
  "kernelspec": {
   "display_name": "Python 3 (ipykernel)",
   "language": "python",
   "name": "python3"
  },
  "language_info": {
   "codemirror_mode": {
    "name": "ipython",
    "version": 3
   },
   "file_extension": ".py",
   "mimetype": "text/x-python",
   "name": "python",
   "nbconvert_exporter": "python",
   "pygments_lexer": "ipython3",
   "version": "3.9.13"
  }
 },
 "nbformat": 4,
 "nbformat_minor": 5
}
