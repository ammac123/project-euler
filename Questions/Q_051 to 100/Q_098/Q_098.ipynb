{
 "cells": [
  {
   "cell_type": "markdown",
   "id": "cb8cf925-d7b8-401c-ac4b-95e4aac7580e",
   "metadata": {},
   "source": [
    "### Problem 98: Anagramic Squares\n",
    "<p>By replacing each of the letters in the word CARE with $1$, $2$, $9$, and $6$ respectively, we form a square number: $1296 = 36^2$. What is remarkable is that, by using the same digital substitutions, the anagram, RACE, also forms a square number: $9216 = 96^2$. We shall call CARE (and RACE) a square anagram word pair and specify further that leading zeroes are not permitted, neither may a different letter have the same digital value as another letter.</p>\n",
    "<p>Using <a href=\"https://projecteuler.net/resources/documents/0098_words.txt\">words.txt</a> (right click and 'Save Link/Target As...'), a 16K text file containing nearly two-thousand common English words, find all the square anagram word pairs (a palindromic word is NOT considered to be an anagram of itself).</p>\n",
    "<p>What is the largest square number formed by any member of such a pair?</p>\n",
    "<p class=\"smaller\">NOTE: All anagrams formed must be contained in the given text file.</p>\n"
   ]
  },
  {
   "cell_type": "code",
   "execution_count": 275,
   "id": "726cfa1e-5e98-4e41-b30f-bc451e3deb04",
   "metadata": {},
   "outputs": [],
   "source": [
    "import math\n",
    "import os\n",
    "path = os.path.join(os.path.dirname(os.getcwd()),'xxx_ProjectEulerData','0098_words.txt')\n",
    "with open(path,\"r\") as file:\n",
    "    wordList = [x.replace('\"','') for x in file.read().split(',')]\n",
    "wordList.sort(key=len,reverse=True)"
   ]
  },
  {
   "cell_type": "code",
   "execution_count": 276,
   "id": "41c9fda3-b562-4102-9998-b5d41fae5ece",
   "metadata": {},
   "outputs": [],
   "source": [
    "def create_squares(len=1e10):\n",
    "    i = 1\n",
    "    while i*i < len:\n",
    "        yield i*i\n",
    "        i += 1"
   ]
  },
  {
   "cell_type": "code",
   "execution_count": 277,
   "id": "d390bcc0-d3b0-4e78-b7de-1663b731f466",
   "metadata": {},
   "outputs": [],
   "source": [
    "def count_elements(ele):\n",
    "    return {e:str(ele).count(e) for e in str(ele)}"
   ]
  },
  {
   "cell_type": "code",
   "execution_count": 278,
   "id": "304bf590-cf18-4129-9501-342429d63ead",
   "metadata": {},
   "outputs": [],
   "source": [
    "def find_anagrams(wordList):\n",
    "    anagramDict = {} \n",
    "    letterCountDict = {x:count_elements(x) for x in wordList}\n",
    "    for key_1, value_1 in letterCountDict.items():\n",
    "        anagramList = []\n",
    "        for key_2, value_2 in letterCountDict.items():\n",
    "\n",
    "            if key_1 == key_2 or len(str(key_1))!=len(str(key_2)) or str(key_1)[::-1] == str(key_2) or set(value_1) != set(value_2):\n",
    "                continue\n",
    "            if all([value_2[key]==val for key,val in value_1.items()]):\n",
    "                anagramList.append(key_2)\n",
    "\n",
    "        if len(anagramList)>0:\n",
    "            anagramDict[key_1] = anagramList\n",
    "            \n",
    "    return anagramDict"
   ]
  },
  {
   "cell_type": "code",
   "execution_count": 279,
   "id": "c10e2574-b349-4dd9-bb17-d105b61b54f7",
   "metadata": {},
   "outputs": [],
   "source": [
    "anagramList = find_anagrams(wordList)"
   ]
  },
  {
   "cell_type": "code",
   "execution_count": 280,
   "id": "05a4b585-c469-49b3-a494-884fdf6b452e",
   "metadata": {},
   "outputs": [],
   "source": [
    "squaresLenDict = {}\n",
    "for i in create_squares():\n",
    "    if len(str(i)) not in squaresLenDict: squaresLenDict[len(str(i))] = set()\n",
    "    squaresLenDict[len(str(i))].add(i)"
   ]
  },
  {
   "cell_type": "code",
   "execution_count": 281,
   "id": "59c57939-f881-44db-a707-048a320c2ba2",
   "metadata": {},
   "outputs": [],
   "source": [
    "def mapping_from(base,ret_list=True):\n",
    "    x=str(base)\n",
    "    mapping_from = [0]*len(x)\n",
    "    k=1\n",
    "    for i in x:\n",
    "        if mapping_from[x.index(i)] != 0: continue\n",
    "        else:\n",
    "            for j in [index for index, element in enumerate(x) if element == i]:\n",
    "                mapping_from[j] = k\n",
    "            k += 1\n",
    "    if ret_list is False: mapping_from = int(''.join(str(x) for x in mapping_from))\n",
    "    return mapping_from"
   ]
  },
  {
   "cell_type": "code",
   "execution_count": 282,
   "id": "fbdeb4fc-cdab-481a-bfc3-ea481276c14c",
   "metadata": {},
   "outputs": [],
   "source": [
    "def mapping_to(base,target,ret_list=True):\n",
    "    x=str(base)\n",
    "    y=str(target)\n",
    "    mapping_to = [0]*len(x)\n",
    "    k=1\n",
    "    for i in x:\n",
    "        if mapping_to[y.index(i)] != 0: continue\n",
    "        else:\n",
    "            for j in [index for index, element in enumerate(y) if element == i]:\n",
    "                mapping_to[j] = k\n",
    "            k += 1\n",
    "    if ret_list is False: mapping_to = int(''.join(str(x) for x in mapping_to))\n",
    "    return mapping_to    "
   ]
  },
  {
   "cell_type": "code",
   "execution_count": 283,
   "id": "f06f9f00-58a9-43c2-9710-bd8235533c90",
   "metadata": {},
   "outputs": [],
   "source": [
    "seen = set()\n",
    "mappingDict = {}\n",
    "for key,value in anagramList.items():\n",
    "    mapping_list = []\n",
    "    mapping_key = mapping_from(key,ret_list=False)\n",
    "    for val in value:\n",
    "        mapping_list.append((val,mapping_to(key,val,ret_list=False)))\n",
    "    if mapping_key not in mappingDict:\n",
    "        mappingDict[mapping_key] = set()\n",
    "    for x in mapping_list:\n",
    "        mappingDict[mapping_key].add(x)"
   ]
  },
  {
   "cell_type": "code",
   "execution_count": 284,
   "id": "2a202c85-e083-4ae1-baa1-54b6204078c1",
   "metadata": {},
   "outputs": [],
   "source": [
    "def mapping_code(base,base_map,target_map,return_int=False):\n",
    "    base_map = str(base_map)\n",
    "    target_map = str(target_map)\n",
    "    result = ['']*len(str(base))\n",
    "    for i in base_map:\n",
    "        for j in [index for index, element in enumerate(target_map) if element == i]:\n",
    "            \n",
    "            result[j]= base[int(i)-1]\n",
    "            \n",
    "    if return_int is True: result = int(''.join(str(x) for x in result))\n",
    "    else: result=''.join(str(x) for x in result)\n",
    "    return result\n",
    "        "
   ]
  },
  {
   "cell_type": "code",
   "execution_count": 285,
   "id": "1f39e3cb-804b-4a80-8209-3f6a7108ac41",
   "metadata": {},
   "outputs": [],
   "source": [
    "for key,value in mappingDict.items():\n",
    "    l=list(squaresLenDict[len(str(key))])\n",
    "    l.sort(reverse=True)\n",
    "    check_l = [[x[1] for x in value],[x[0] for x in value]]"
   ]
  },
  {
   "cell_type": "code",
   "execution_count": 286,
   "id": "715d1957-2eb1-4d2a-99a9-53759456ca70",
   "metadata": {},
   "outputs": [
    {
     "name": "stdout",
     "output_type": "stream",
     "text": [
      "The answer is : 18769\n"
     ]
    }
   ],
   "source": [
    "stop = False\n",
    "for key,value in mappingDict.items():\n",
    "    l=list(squaresLenDict[len(str(key))])\n",
    "    l.sort(reverse=True)\n",
    "    check_l = [[x[1] for x in value],[x[0] for x in value]]\n",
    "    for x in l:\n",
    "        if stop == True: break\n",
    "        if key == mapping_from(x,ret_list=False):\n",
    "            for y in l:\n",
    "                if y != x and set(str(x)) == set(str(y)):\n",
    "                    if all([count_elements(y)[key]==val for key,val in count_elements(x).items()]):\n",
    "                        if mapping_to(x,y,ret_list=False) in check_l[0]:\n",
    "                            #print(max(x,y),key,value)\n",
    "                            result = max(x,y)\n",
    "                            res_value = (x,y)\n",
    "                            stop = True\n",
    "                if stop == True: break            \n",
    "    if stop == True: break\n",
    "    \n",
    "print(f'The answer is : {result}')"
   ]
  },
  {
   "cell_type": "code",
   "execution_count": null,
   "id": "54d695b7-8c90-46ef-94e0-2a5b519750ec",
   "metadata": {},
   "outputs": [],
   "source": []
  }
 ],
 "metadata": {
  "kernelspec": {
   "display_name": "Python 3 (ipykernel)",
   "language": "python",
   "name": "python3"
  },
  "language_info": {
   "codemirror_mode": {
    "name": "ipython",
    "version": 3
   },
   "file_extension": ".py",
   "mimetype": "text/x-python",
   "name": "python",
   "nbconvert_exporter": "python",
   "pygments_lexer": "ipython3",
   "version": "3.9.13"
  }
 },
 "nbformat": 4,
 "nbformat_minor": 5
}
