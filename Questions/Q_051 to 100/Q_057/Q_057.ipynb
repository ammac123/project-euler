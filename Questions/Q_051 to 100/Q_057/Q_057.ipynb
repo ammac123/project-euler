{
 "cells": [
  {
   "cell_type": "markdown",
   "id": "c7150b3b-924b-474c-83ed-a16350d3c0f1",
   "metadata": {},
   "source": [
    "### Problem 57: Square Root Convergents\n",
    "<p>It is possible to show that the square root of two can be expressed as an infinite continued fraction.</p>\n",
    "<p class=\"center\">$\\sqrt 2 =1+ \\frac 1 {2+ \\frac 1 {2 +\\frac 1 {2+ \\dots}}}$</p>\n",
    "<p>By expanding this for the first four iterations, we get:</p>\n",
    "<p>$1 + \\frac 1 2 = \\frac  32 = 1.5$<br>\n",
    "$1 + \\frac 1 {2 + \\frac 1 2} = \\frac 7 5 = 1.4$<br>\n",
    "$1 + \\frac 1 {2 + \\frac 1 {2+\\frac 1 2}} = \\frac {17}{12} = 1.41666 \\dots$<br>\n",
    "$1 + \\frac 1 {2 + \\frac 1 {2+\\frac 1 {2+\\frac 1 2}}} = \\frac {41}{29} = 1.41379 \\dots$<br></p>\n",
    "<p>The next three expansions are $\\frac {99}{70}$, $\\frac {239}{169}$, and $\\frac {577}{408}$, but the eighth expansion, $\\frac {1393}{985}$, is the first example where the number of digits in the numerator exceeds the number of digits in the denominator.</p>\n",
    "<p>In the first one-thousand expansions, how many fractions contain a numerator with more digits than the denominator?</p>\n"
   ]
  },
  {
   "cell_type": "code",
   "execution_count": 137,
   "id": "fac0ab61-16c2-4d2a-ba81-c7280e98a482",
   "metadata": {},
   "outputs": [],
   "source": [
    "from fractions import Fraction\n",
    "import math\n",
    "from decimal import Decimal, getcontext\n",
    "import time"
   ]
  },
  {
   "cell_type": "code",
   "execution_count": 151,
   "id": "544f7f9b-fd2c-4aa6-9174-a45be389131e",
   "metadata": {},
   "outputs": [],
   "source": [
    "def continued_fraction(coefficients,fraction_list):\n",
    "    if len(coefficients) == 1:\n",
    "        return coefficients[0]\n",
    "    else:\n",
    "        a0 = coefficients[0]\n",
    "        remaining_coefficients = coefficients[1:]\n",
    "        sub_fraction = continued_fraction(remaining_coefficients,fraction_list)\n",
    "        fraction_list.append(Fraction((a0+1/sub_fraction)-1))\n",
    "        return Decimal(a0 + 1 / sub_fraction)"
   ]
  },
  {
   "cell_type": "code",
   "execution_count": 154,
   "id": "99d606e4-1e9c-4f18-8b23-46d0befc2bb9",
   "metadata": {},
   "outputs": [],
   "source": [
    "def pe_57(n=1000):\n",
    "    getcontext().prec = n\n",
    "    coefficients = [2]*n\n",
    "    fraction_list = []\n",
    "    continued_fraction(coefficients,fraction_list) \n",
    "    return sum([len(str(y.numerator)) > len(str(y.denominator)) for y in [x.limit_denominator(10**((i+2)//2)) for i,x in enumerate(fraction_list)]])"
   ]
  },
  {
   "cell_type": "code",
   "execution_count": 157,
   "id": "db6c93df-2380-4ead-9197-18f25d9208a0",
   "metadata": {},
   "outputs": [
    {
     "name": "stdout",
     "output_type": "stream",
     "text": [
      "The answer is 153\n",
      "Time taken : 3.24549s\n"
     ]
    }
   ],
   "source": [
    "time_start = time.perf_counter()\n",
    "result = pe_57(1000)\n",
    "time_end = time.perf_counter()\n",
    "time_taken = time_end - time_start\n",
    "print(f'The answer is {result:,}\\nTime taken : {time_taken:.5f}s')"
   ]
  }
 ],
 "metadata": {
  "kernelspec": {
   "display_name": "Python 3 (ipykernel)",
   "language": "python",
   "name": "python3"
  },
  "language_info": {
   "codemirror_mode": {
    "name": "ipython",
    "version": 3
   },
   "file_extension": ".py",
   "mimetype": "text/x-python",
   "name": "python",
   "nbconvert_exporter": "python",
   "pygments_lexer": "ipython3",
   "version": "3.9.13"
  }
 },
 "nbformat": 4,
 "nbformat_minor": 5
}
