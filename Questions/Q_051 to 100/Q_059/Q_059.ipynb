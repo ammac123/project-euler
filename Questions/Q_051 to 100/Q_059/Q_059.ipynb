{
 "cells": [
  {
   "cell_type": "markdown",
   "id": "82237dc8-1bfc-415a-b709-cdf942e60af0",
   "metadata": {},
   "source": [
    "### Problem 59: XOR Decryption\n",
    "<p>Each character on a computer is assigned a unique code and the preferred standard is ASCII (American Standard Code for Information Interchange). For example, uppercase A = 65, asterisk (*) = 42, and lowercase k = 107.</p>\n",
    "<p>A modern encryption method is to take a text file, convert the bytes to ASCII, then XOR each byte with a given value, taken from a secret key. The advantage with the XOR function is that using the same encryption key on the cipher text, restores the plain text; for example, 65 XOR 42 = 107, then 107 XOR 42 = 65.</p>\n",
    "<p>For unbreakable encryption, the key is the same length as the plain text message, and the key is made up of random bytes. The user would keep the encrypted message and the encryption key in different locations, and without both \"halves\", it is impossible to decrypt the message.</p>\n",
    "<p>Unfortunately, this method is impractical for most users, so the modified method is to use a password as a key. If the password is shorter than the message, which is likely, the key is repeated cyclically throughout the message. The balance for this method is using a sufficiently long password key for security, but short enough to be memorable.</p>\n",
    "<p>Your task has been made easy, as the encryption key consists of three lower case characters. Using <a href=\"https://projecteuler.net/resources/documents/0059_cipher.txt\">0059_cipher.txt</a> (right click and 'Save Link/Target As...'), a file containing the encrypted ASCII codes, and the knowledge that the plain text must contain common English words, decrypt the message and find the sum of the ASCII values in the original text.</p>\n"
   ]
  },
  {
   "cell_type": "code",
   "execution_count": 92,
   "id": "a78c26e3-7a16-4b51-9f44-be503d1969ba",
   "metadata": {},
   "outputs": [],
   "source": [
    "import math\n",
    "import os\n",
    "import regex as re"
   ]
  },
  {
   "cell_type": "code",
   "execution_count": 27,
   "id": "bdcb6c6a-63f6-47e4-8568-7168d06dee9f",
   "metadata": {},
   "outputs": [],
   "source": [
    "with open(os.path.join(os.path.dirname(os.getcwd()),'xxx_ProjectEulerData','0059_cipher.txt'), 'r') as file:\n",
    "    file_content_parse = [int(x) for x in file.read().split(',')]\n",
    "    file_content = file.read()"
   ]
  },
  {
   "cell_type": "code",
   "execution_count": 48,
   "id": "2e507c64-04e8-4645-be15-7a5de4404c53",
   "metadata": {},
   "outputs": [],
   "source": [
    "def parse_file(file_content,key):\n",
    "    output = []\n",
    "    for i,val in enumerate(file_content):\n",
    "        output.append(chr(val^key[i%len(key)]))\n",
    "    return ''.join(output)"
   ]
  },
  {
   "cell_type": "code",
   "execution_count": 110,
   "id": "e720dc04-224b-444f-91e7-814d24db7769",
   "metadata": {},
   "outputs": [],
   "source": [
    "def decrypt_file(file_content,key):\n",
    "    output = []\n",
    "    for i,val in enumerate(file_content):\n",
    "        output.append((val^key[i%len(key)]))\n",
    "    return output"
   ]
  },
  {
   "cell_type": "code",
   "execution_count": 64,
   "id": "56e9c554-cd50-49be-8fbe-d2b1560923a5",
   "metadata": {},
   "outputs": [],
   "source": [
    "key_list = []\n",
    "for x in range(97,123):\n",
    "    for y in range(97,123):\n",
    "        for z in range(97,123):\n",
    "            key_list.append([x,y,z])"
   ]
  },
  {
   "cell_type": "code",
   "execution_count": 115,
   "id": "fa8cb39c-c8fa-4d32-ba20-04366e454d2b",
   "metadata": {},
   "outputs": [
    {
     "name": "stdout",
     "output_type": "stream",
     "text": [
      "##KEY##[101, 120, 112]\n",
      "An extract taken from the introduction of one of Euler's most celebrated papers, \"De summis serierum reciprocarum\" [On the sums of series of reciprocals]: I have recently found, quite unexpectedly, an elegant expression for the entire sum of this series 1 + 1/4 + 1/9 + 1/16 + etc., which depends on the quadrature of the circle, so that if the true sum of this series is obtained, from it at once the quadrature of the circle follows. Namely, I have found that the sum of this series is a sixth part of the square of the perimeter of the circle whose diameter is 1; or by putting the sum of this series equal to s, it has the ratio sqrt(6) multiplied by s to 1 of the perimeter to the diameter. I will soon show that the sum of this series to be approximately 1.644934066842264364; and from multiplying this number by six, and then taking the square root, the number 3.141592653589793238 is indeed produced, which expresses the perimeter of a circle whose diameter is 1. Following again the same steps by which I had arrived at this sum, I have discovered that the sum of the series 1 + 1/16 + 1/81 + 1/256 + 1/625 + etc. also depends on the quadrature of the circle. Namely, the sum of this multiplied by 90 gives the biquadrate (fourth power) of the circumference of the perimeter of a circle whose diameter is 1. And by similar reasoning I have likewise been able to determine the sums of the subsequent series in which the exponents are even numbers.\n"
     ]
    }
   ],
   "source": [
    "for key in key_list:\n",
    "    s = parse_file(file_content_parse,key)\n",
    "    if re.search('that',s):\n",
    "        if re.search('Euler',s):\n",
    "            print(f'##KEY##{key}\\n{s}')\n",
    "            result = key"
   ]
  },
  {
   "cell_type": "code",
   "execution_count": 113,
   "id": "529491fb-5068-4cb8-9e41-32e9d45b6aad",
   "metadata": {},
   "outputs": [
    {
     "data": {
      "text/plain": [
       "['e', 'x', 'p']"
      ]
     },
     "execution_count": 113,
     "metadata": {},
     "output_type": "execute_result"
    }
   ],
   "source": [
    "[chr(x) for x in [101, 120, 112]] "
   ]
  },
  {
   "cell_type": "code",
   "execution_count": 112,
   "id": "55d511ee-d59f-4566-8a3e-c7ded66c6bec",
   "metadata": {},
   "outputs": [
    {
     "data": {
      "text/plain": [
       "129448"
      ]
     },
     "execution_count": 112,
     "metadata": {},
     "output_type": "execute_result"
    }
   ],
   "source": [
    "sum(decrypt_file(file_content_parse,key))"
   ]
  }
 ],
 "metadata": {
  "kernelspec": {
   "display_name": "Python 3 (ipykernel)",
   "language": "python",
   "name": "python3"
  },
  "language_info": {
   "codemirror_mode": {
    "name": "ipython",
    "version": 3
   },
   "file_extension": ".py",
   "mimetype": "text/x-python",
   "name": "python",
   "nbconvert_exporter": "python",
   "pygments_lexer": "ipython3",
   "version": "3.9.13"
  }
 },
 "nbformat": 4,
 "nbformat_minor": 5
}
