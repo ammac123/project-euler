{
 "cells": [
  {
   "cell_type": "markdown",
   "id": "67ec64b8-1949-4893-b41c-c2a482f998f3",
   "metadata": {},
   "source": [
    "### Problem 92: Square Digit Chains\n",
    "<p>A number chain is created by continuously adding the square of the digits in a number to form a new number until it has been seen before.</p>\n",
    "<p>For example,\n",
    "\\begin{align}\n",
    "&44 \\to 32 \\to 13 \\to 10 \\to \\mathbf 1 \\to \\mathbf 1\\\\\n",
    "&85 \\to \\mathbf{89} \\to 145 \\to 42 \\to 20 \\to 4 \\to 16 \\to 37 \\to 58 \\to \\mathbf{89}\n",
    "\\end{align}\n",
    "</p><p>Therefore any chain that arrives at $1$ or $89$ will become stuck in an endless loop. What is most amazing is that EVERY starting number will eventually arrive at $1$ or $89$.</p>\n",
    "<p>How many starting numbers below ten million will arrive at $89$?</p>\n"
   ]
  },
  {
   "cell_type": "code",
   "execution_count": 56,
   "id": "7aebf98c-6d2a-4a0c-ae85-d6d80b157ae9",
   "metadata": {},
   "outputs": [],
   "source": [
    "import math"
   ]
  },
  {
   "cell_type": "code",
   "execution_count": 65,
   "id": "512b4cb0-37ff-498b-a6f8-119ad9b6d374",
   "metadata": {},
   "outputs": [],
   "source": [
    "def digit_square(n):\n",
    "    m = str(n)\n",
    "    Counter = 0\n",
    "    for a in range(0,len(m)):\n",
    "        Counter += (int(m[a])**2)\n",
    "    return(Counter)"
   ]
  },
  {
   "cell_type": "code",
   "execution_count": 57,
   "id": "a02fa6ba-8e20-4674-9fb6-205ff7086aea",
   "metadata": {},
   "outputs": [],
   "source": [
    "def digit_square(n):\n",
    "    return sum([int(x)**2 for x in str(n)])"
   ]
  },
  {
   "cell_type": "code",
   "execution_count": 66,
   "id": "3ee31d76-9248-4ce6-ac19-926b4935b7c1",
   "metadata": {},
   "outputs": [],
   "source": [
    "def looping_func(n,cache):\n",
    "    l = [n]\n",
    "    while n not in cache:\n",
    "        n = digit_square(n)\n",
    "        l.append(n)\n",
    "    for i in l:\n",
    "        cache[i] = cache[n]    "
   ]
  },
  {
   "cell_type": "code",
   "execution_count": 67,
   "id": "13fbb2d4-e1d6-4b8e-83ba-07814570a0ec",
   "metadata": {},
   "outputs": [],
   "source": [
    "# Setting up cache\n",
    "cache = {1:1,89:89}\n",
    "max_val = digit_square(9_999_999)\n",
    "for i in range(1,max_val):\n",
    "    looping_func(i,cache)"
   ]
  },
  {
   "cell_type": "code",
   "execution_count": 68,
   "id": "2f55950e-7375-489c-9de7-c4b608d33bd3",
   "metadata": {},
   "outputs": [
    {
     "ename": "KeyError",
     "evalue": "567",
     "output_type": "error",
     "traceback": [
      "\u001b[1;31m---------------------------------------------------------------------------\u001b[0m",
      "\u001b[1;31mKeyError\u001b[0m                                  Traceback (most recent call last)",
      "\u001b[1;32m~\\AppData\\Local\\Temp\\ipykernel_36816\\932435629.py\u001b[0m in \u001b[0;36m<module>\u001b[1;34m\u001b[0m\n\u001b[0;32m      2\u001b[0m \u001b[0mresult\u001b[0m \u001b[1;33m=\u001b[0m \u001b[1;36m0\u001b[0m\u001b[1;33m\u001b[0m\u001b[1;33m\u001b[0m\u001b[0m\n\u001b[0;32m      3\u001b[0m \u001b[1;32mfor\u001b[0m \u001b[0mi\u001b[0m \u001b[1;32min\u001b[0m \u001b[0mrange\u001b[0m\u001b[1;33m(\u001b[0m\u001b[0mmax_val\u001b[0m\u001b[1;33m+\u001b[0m\u001b[1;36m1\u001b[0m\u001b[1;33m,\u001b[0m\u001b[0mlim\u001b[0m\u001b[1;33m)\u001b[0m\u001b[1;33m:\u001b[0m\u001b[1;33m\u001b[0m\u001b[1;33m\u001b[0m\u001b[0m\n\u001b[1;32m----> 4\u001b[1;33m     \u001b[0mresult\u001b[0m \u001b[1;33m+=\u001b[0m \u001b[0mcache\u001b[0m\u001b[1;33m[\u001b[0m\u001b[0mdigit_square\u001b[0m\u001b[1;33m(\u001b[0m\u001b[0mi\u001b[0m\u001b[1;33m)\u001b[0m\u001b[1;33m]\u001b[0m \u001b[1;33m==\u001b[0m \u001b[1;36m89\u001b[0m\u001b[1;33m\u001b[0m\u001b[1;33m\u001b[0m\u001b[0m\n\u001b[0m",
      "\u001b[1;31mKeyError\u001b[0m: 567"
     ]
    }
   ],
   "source": [
    "lim = 10_000_000\n",
    "result = 0\n",
    "for i in range(max_val+1,lim):\n",
    "    result += cache[digit_square(i)] == 89"
   ]
  },
  {
   "cell_type": "code",
   "execution_count": null,
   "id": "acfa3b6c-4f2f-4b12-a146-7a1b72b889e8",
   "metadata": {},
   "outputs": [],
   "source": [
    "print(f'The answer is : {result:,.0f}')"
   ]
  }
 ],
 "metadata": {
  "kernelspec": {
   "display_name": "Python 3 (ipykernel)",
   "language": "python",
   "name": "python3"
  },
  "language_info": {
   "codemirror_mode": {
    "name": "ipython",
    "version": 3
   },
   "file_extension": ".py",
   "mimetype": "text/x-python",
   "name": "python",
   "nbconvert_exporter": "python",
   "pygments_lexer": "ipython3",
   "version": "3.9.13"
  }
 },
 "nbformat": 4,
 "nbformat_minor": 5
}
