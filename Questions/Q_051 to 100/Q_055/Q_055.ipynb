{
 "cells": [
  {
   "cell_type": "markdown",
   "id": "7bfe4b17-d34d-420a-90cd-9f1423fd1343",
   "metadata": {},
   "source": [
    "### Problem 55: Lychrel Numbers\n",
    "<p>If we take $47$, reverse and add, $47 + 74 = 121$, which is palindromic.</p>\n",
    "<p>Not all numbers produce palindromes so quickly. For example,</p>\n",
    "\\begin{align}\n",
    "349 + 943 &= 1292\\\\\n",
    "1292 + 2921 &= 4213\\\\\n",
    "4213 + 3124 &= 7337\n",
    "\\end{align}\n",
    "<p>That is, $349$ took three iterations to arrive at a palindrome.</p>\n",
    "<p>Although no one has proved it yet, it is thought that some numbers, like $196$, never produce a palindrome. A number that never forms a palindrome through the reverse and add process is called a Lychrel number. Due to the theoretical nature of these numbers, and for the purpose of this problem, we shall assume that a number is Lychrel until proven otherwise. In addition you are given that for every number below ten-thousand, it will either (i) become a palindrome in less than fifty iterations, or, (ii) no one, with all the computing power that exists, has managed so far to map it to a palindrome. In fact, $10677$ is the first number to be shown to require over fifty iterations before producing a palindrome: $4668731596684224866951378664$ ($53$ iterations, $28$-digits).</p>\n",
    "<p>Surprisingly, there are palindromic numbers that are themselves Lychrel numbers; the first example is $4994$.</p>\n",
    "<p>How many Lychrel numbers are there below ten-thousand?</p>\n",
    "<p class=\"smaller\">NOTE: Wording was modified slightly on 24 April 2007 to emphasise the theoretical nature of Lychrel numbers.</p>"
   ]
  },
  {
   "cell_type": "code",
   "execution_count": 1,
   "id": "e95bb2df-853b-4712-9322-2316a53e2e5c",
   "metadata": {},
   "outputs": [],
   "source": [
    "import math"
   ]
  },
  {
   "cell_type": "code",
   "execution_count": 7,
   "id": "4c76baf2-bd5a-4057-8545-d7dd40f42900",
   "metadata": {},
   "outputs": [],
   "source": [
    "def palindrome(num):\n",
    "    return num == int(''.join(reversed(str(num))))"
   ]
  },
  {
   "cell_type": "code",
   "execution_count": 33,
   "id": "fe01276a-6866-46ea-b8e2-069cd3f6114c",
   "metadata": {},
   "outputs": [],
   "source": [
    "def lychrel_number(x,iteration=0):\n",
    "    if iteration>=50:\n",
    "        return True\n",
    "    iteration += 1\n",
    "    \n",
    "    reverse_x = int(''.join(reversed(str(x))))\n",
    "    x += reverse_x\n",
    "    \n",
    "    if palindrome(x):\n",
    "        return False\n",
    "    else:\n",
    "        return lychrel_number(x,iteration)"
   ]
  },
  {
   "cell_type": "code",
   "execution_count": 34,
   "id": "ff163c84-bc30-4be0-9cec-d869c6cd451d",
   "metadata": {},
   "outputs": [
    {
     "name": "stdout",
     "output_type": "stream",
     "text": [
      "249\n"
     ]
    }
   ],
   "source": [
    "count = 0\n",
    "for i in range(10_000):\n",
    "    count += lychrel_number(i)\n",
    "print(count)"
   ]
  }
 ],
 "metadata": {
  "kernelspec": {
   "display_name": "Python 3 (ipykernel)",
   "language": "python",
   "name": "python3"
  },
  "language_info": {
   "codemirror_mode": {
    "name": "ipython",
    "version": 3
   },
   "file_extension": ".py",
   "mimetype": "text/x-python",
   "name": "python",
   "nbconvert_exporter": "python",
   "pygments_lexer": "ipython3",
   "version": "3.9.13"
  }
 },
 "nbformat": 4,
 "nbformat_minor": 5
}
