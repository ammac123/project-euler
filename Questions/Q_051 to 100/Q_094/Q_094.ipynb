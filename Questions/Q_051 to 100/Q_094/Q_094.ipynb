{
 "cells": [
  {
   "cell_type": "markdown",
   "id": "0b63e940-f359-4d35-a8ff-b0457d15d21a",
   "metadata": {},
   "source": [
    "### Problem 94: Almost Equilateral Triangles\n",
    "<p>It is easily proved that no equilateral triangle exists with integral length sides and integral area. However, the <dfn>almost equilateral triangle</dfn> $5$-$5$-$6$ has an area of $12$ square units.</p>\n",
    "<p>We shall define an <dfn>almost equilateral triangle</dfn> to be a triangle for which two sides are equal and the third differs by no more than one unit.</p>\n",
    "<p>Find the sum of the perimeters of all <dfn>almost equilateral triangles</dfn> with integral side lengths and area and whose perimeters do not exceed one billion ($1\\,000\\,000\\,000$).</p>\n"
   ]
  },
  {
   "cell_type": "code",
   "execution_count": 1,
   "id": "5f38b1e9-7d0a-4397-8630-6894596371ac",
   "metadata": {},
   "outputs": [],
   "source": [
    "import math\n",
    "import time"
   ]
  },
  {
   "cell_type": "code",
   "execution_count": 2,
   "id": "d9c55fb9-1398-45cd-8f41-8bffb6e60122",
   "metadata": {},
   "outputs": [],
   "source": [
    "def gen_triangle_triples(m,n,k):\n",
    "    a = m**2 - n**2\n",
    "    b = 2*m*n\n",
    "    c = m**2 + n**2\n",
    "    if k == 1:\n",
    "        return (c,2*b,2*b)\n",
    "    if k == 0:\n",
    "        return (c,2*a,2*a)"
   ]
  },
  {
   "cell_type": "code",
   "execution_count": 3,
   "id": "9efd9c5f-d2aa-4387-8ade-17df2d3c3395",
   "metadata": {},
   "outputs": [],
   "source": [
    "def generate_almost_equal_triangles(cache,m=7,n=4,r=1.467,lim=1_000_000):\n",
    "    cache.append((m,n,0))\n",
    "    m1 = round((math.sqrt(m)*r)**2)\n",
    "    n1 = n\n",
    "    cache.append((m1,n1,1))\n",
    "    r = math.sqrt(m1)/math.sqrt(m)\n",
    "    n_next = m1\n",
    "    m_next = 2*m1-n\n",
    "    if 3*(m**2 + n**2)-3 > lim: \n",
    "        return cache\n",
    "    else:\n",
    "        generate_almost_equal_triangles(cache,m_next,n_next,r,lim)"
   ]
  },
  {
   "cell_type": "code",
   "execution_count": 6,
   "id": "83c23c55-a051-4e59-b20a-beb4ed8d1c97",
   "metadata": {},
   "outputs": [],
   "source": [
    "def pe_94(lim=1_000_000_000):\n",
    "    m_cache = [(2,1,0),(4,1,1)]\n",
    "    generate_almost_equal_triangles(m_cache,lim=lim)\n",
    "    result = 0\n",
    "    for i in m_cache:\n",
    "        j = gen_triangle_triples(i[0],i[1],i[2])\n",
    "        if sum(j) > lim: break\n",
    "        else: result += sum(j)\n",
    "    return result"
   ]
  },
  {
   "cell_type": "code",
   "execution_count": 7,
   "id": "7204b382-5c3d-4b0b-ba3a-610a28c5aec3",
   "metadata": {},
   "outputs": [
    {
     "name": "stdout",
     "output_type": "stream",
     "text": [
      "The sum of perimiters of all almost equilateral triangles (under 1,000,000,000) is : 518,408,346\n",
      "Time taken : 0.000119s\n"
     ]
    }
   ],
   "source": [
    "lim = 1_000_000_000\n",
    "time_start = time.perf_counter()\n",
    "result = pe_94(lim)\n",
    "time_end = time.perf_counter()\n",
    "time_taken = time_end - time_start\n",
    "print(f'The sum of perimiters of all almost equilateral triangles (under {lim:,}) is : {result:,.0f}\\nTime taken : {time_taken:.6f}s')"
   ]
  }
 ],
 "metadata": {
  "kernelspec": {
   "display_name": "Python 3 (ipykernel)",
   "language": "python",
   "name": "python3"
  },
  "language_info": {
   "codemirror_mode": {
    "name": "ipython",
    "version": 3
   },
   "file_extension": ".py",
   "mimetype": "text/x-python",
   "name": "python",
   "nbconvert_exporter": "python",
   "pygments_lexer": "ipython3",
   "version": "3.9.13"
  }
 },
 "nbformat": 4,
 "nbformat_minor": 5
}
