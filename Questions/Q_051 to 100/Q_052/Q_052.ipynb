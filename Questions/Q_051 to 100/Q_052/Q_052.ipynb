{
 "cells": [
  {
   "cell_type": "markdown",
   "id": "0b121fcb-603a-4d2a-96b3-4eeb23255bdb",
   "metadata": {},
   "source": [
    "### Problem 52: Permuted Multiples\n",
    "<p>It can be seen that the number, $125874$, and its double, $251748$, contain exactly the same digits, but in a different order.</p>\n",
    "<p>Find the smallest positive integer, $x$, such that $2x$, $3x$, $4x$, $5x$, and $6x$, contain the same digits.</p>\n"
   ]
  },
  {
   "cell_type": "code",
   "execution_count": 51,
   "id": "6e06edf1-6d82-480d-832d-389be2f4aa70",
   "metadata": {},
   "outputs": [],
   "source": [
    "import math\n",
    "import time"
   ]
  },
  {
   "cell_type": "code",
   "execution_count": 52,
   "id": "6bf2e3f1-acf4-4efa-97de-27525fe4fe7a",
   "metadata": {},
   "outputs": [],
   "source": [
    "def digit_count(num, digit_dict={'0':0,'1':0,'2':0,'3':0,'4':0,'5':0,'6':0,'7':0,'8':0,'9':0}):\n",
    "    for i in str(num):\n",
    "        digit_dict[i] += 1\n",
    "    return digit_dict"
   ]
  },
  {
   "cell_type": "code",
   "execution_count": 53,
   "id": "4c317463-cc41-4a3c-a587-1b4d3d06935d",
   "metadata": {},
   "outputs": [],
   "source": [
    "def pe_52():\n",
    "    i = 0\n",
    "    while True:\n",
    "        i+=1\n",
    "        for j in range(10**(i-1),(10**(i)//6)+1):\n",
    "            number_list = [j*k for k in range(1,7)]\n",
    "            check_list = [set(str(x)) for x in number_list]\n",
    "            if all([check_list[0] == x for x in check_list]):\n",
    "                digit_list = [digit_count(j*k) for k in range(1,7)]\n",
    "                if all([digit_list[0] == x for x in digit_list]):\n",
    "                    return j"
   ]
  },
  {
   "cell_type": "code",
   "execution_count": 55,
   "id": "d55ef47b-fcb2-460d-959e-3bfd67718ce7",
   "metadata": {},
   "outputs": [
    {
     "name": "stdout",
     "output_type": "stream",
     "text": [
      "The smallest positive integer x is : 142,857\n",
      "Time taken : 0.18961s\n"
     ]
    }
   ],
   "source": [
    "time_start = time.perf_counter()\n",
    "res = pe_52()\n",
    "time_end = time.perf_counter()\n",
    "time_taken = time_end - time_start\n",
    "print(f'The smallest positive integer x is : {res:,}\\nTime taken : {time_taken:.5f}s')"
   ]
  }
 ],
 "metadata": {
  "kernelspec": {
   "display_name": "Python 3 (ipykernel)",
   "language": "python",
   "name": "python3"
  },
  "language_info": {
   "codemirror_mode": {
    "name": "ipython",
    "version": 3
   },
   "file_extension": ".py",
   "mimetype": "text/x-python",
   "name": "python",
   "nbconvert_exporter": "python",
   "pygments_lexer": "ipython3",
   "version": "3.9.13"
  }
 },
 "nbformat": 4,
 "nbformat_minor": 5
}
