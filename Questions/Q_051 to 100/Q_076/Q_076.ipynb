{
 "cells": [
  {
   "cell_type": "markdown",
   "id": "1f6d22cc-ecb5-46fd-8db9-2663d46a979c",
   "metadata": {},
   "source": [
    "### Problem 76: Counting Summations\n",
    "<p>It is possible to write five as a sum in exactly six different ways:</p>\n",
    "\\begin{align}\n",
    "&4 + 1\\\\\n",
    "&3 + 2\\\\\n",
    "&3 + 1 + 1\\\\\n",
    "&2 + 2 + 1\\\\\n",
    "&2 + 1 + 1 + 1\\\\\n",
    "&1 + 1 + 1 + 1 + 1\n",
    "\\end{align}\n",
    "<p>How many different ways can one hundred be written as a sum of at least two positive integers?</p>"
   ]
  },
  {
   "cell_type": "code",
   "execution_count": 55,
   "id": "a2c8a750-6bd2-4a42-b268-e8430bbc1a91",
   "metadata": {},
   "outputs": [],
   "source": [
    "import math"
   ]
  },
  {
   "cell_type": "code",
   "execution_count": 76,
   "id": "61d27a16-c017-4136-b401-b771de02c224",
   "metadata": {},
   "outputs": [],
   "source": [
    "def accel_asc(n):\n",
    "    a = [0 for i in range(n + 1)]\n",
    "    k = 1\n",
    "    y = n - 1\n",
    "    while k != 0:\n",
    "        x = a[k - 1] + 1\n",
    "        k -= 1\n",
    "        while 2 * x <= y:\n",
    "            a[k] = x\n",
    "            y -= x\n",
    "            k += 1\n",
    "        l = k + 1\n",
    "        while x <= y:\n",
    "            a[k] = x\n",
    "            a[l] = y\n",
    "            yield 1\n",
    "            x += 1\n",
    "            y -= 1\n",
    "        a[k] = x + y\n",
    "        y = x + y - 1\n",
    "        yield 1"
   ]
  },
  {
   "cell_type": "code",
   "execution_count": 74,
   "id": "cf1131b1-87ef-41c3-88d0-428928c56b60",
   "metadata": {},
   "outputs": [],
   "source": [
    "def Count(Target):\n",
    "    if not j in Cache: Cache[j] = 0\n",
    "    for C in range(1,Target+1):\n",
    "        for j in range(C, Target+1):\n",
    "            Cache[j] += Cache[j-C]\n",
    "        print(f'{Cache}\\n')\n",
    "    return Cacher[Target]"
   ]
  },
  {
   "cell_type": "code",
   "execution_count": 75,
   "id": "0dd534cf-b196-46ba-8907-f5a524e9de47",
   "metadata": {},
   "outputs": [
    {
     "name": "stdout",
     "output_type": "stream",
     "text": [
      "{0: 1, 1: 1, 2: 1, 3: 1, 4: 1, 5: 1, 6: 1, 7: 1, 8: 1, 9: 1, 10: 1}\n",
      "\n",
      "{0: 1, 1: 1, 2: 2, 3: 2, 4: 3, 5: 3, 6: 4, 7: 4, 8: 5, 9: 5, 10: 6}\n",
      "\n",
      "{0: 1, 1: 1, 2: 2, 3: 3, 4: 4, 5: 5, 6: 7, 7: 8, 8: 10, 9: 12, 10: 14}\n",
      "\n",
      "{0: 1, 1: 1, 2: 2, 3: 3, 4: 5, 5: 6, 6: 9, 7: 11, 8: 15, 9: 18, 10: 23}\n",
      "\n",
      "{0: 1, 1: 1, 2: 2, 3: 3, 4: 5, 5: 7, 6: 10, 7: 13, 8: 18, 9: 23, 10: 30}\n",
      "\n",
      "{0: 1, 1: 1, 2: 2, 3: 3, 4: 5, 5: 7, 6: 11, 7: 14, 8: 20, 9: 26, 10: 35}\n",
      "\n",
      "{0: 1, 1: 1, 2: 2, 3: 3, 4: 5, 5: 7, 6: 11, 7: 15, 8: 21, 9: 28, 10: 38}\n",
      "\n",
      "{0: 1, 1: 1, 2: 2, 3: 3, 4: 5, 5: 7, 6: 11, 7: 15, 8: 22, 9: 29, 10: 40}\n",
      "\n",
      "{0: 1, 1: 1, 2: 2, 3: 3, 4: 5, 5: 7, 6: 11, 7: 15, 8: 22, 9: 30, 10: 41}\n",
      "\n",
      "{0: 1, 1: 1, 2: 2, 3: 3, 4: 5, 5: 7, 6: 11, 7: 15, 8: 22, 9: 30, 10: 42}\n",
      "\n",
      "42\n"
     ]
    }
   ],
   "source": [
    "Cacher={0:1}\n",
    "n=10\n",
    "k=Count(n)\n",
    "print(f'{k:,.0f}')"
   ]
  },
  {
   "cell_type": "code",
   "execution_count": 68,
   "id": "c9ad89a0-dada-4ba5-9085-063dfdefa1a4",
   "metadata": {},
   "outputs": [
    {
     "data": {
      "text/plain": [
       "{0: 1, 1: 1, 2: 2, 3: 3, 4: 5, 5: 7, 6: 11, 7: 15, 8: 22, 9: 30, 10: 42}"
      ]
     },
     "execution_count": 68,
     "metadata": {},
     "output_type": "execute_result"
    }
   ],
   "source": [
    "Cacher"
   ]
  }
 ],
 "metadata": {
  "kernelspec": {
   "display_name": "Python 3 (ipykernel)",
   "language": "python",
   "name": "python3"
  },
  "language_info": {
   "codemirror_mode": {
    "name": "ipython",
    "version": 3
   },
   "file_extension": ".py",
   "mimetype": "text/x-python",
   "name": "python",
   "nbconvert_exporter": "python",
   "pygments_lexer": "ipython3",
   "version": "3.9.13"
  }
 },
 "nbformat": 4,
 "nbformat_minor": 5
}
