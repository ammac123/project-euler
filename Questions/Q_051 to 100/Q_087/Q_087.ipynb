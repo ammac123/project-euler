{
 "cells": [
  {
   "cell_type": "markdown",
   "id": "dc1df145-5bec-4912-9ee8-f8f8ace34d78",
   "metadata": {},
   "source": [
    "### Problem 87: Prime Power Triples\n",
    "<p>The smallest number expressible as the sum of a prime square, prime cube, and prime fourth power is $28$. In fact, there are exactly four numbers below fifty that can be expressed in such a way:</p>\n",
    "\\begin{align}\n",
    "28 &= 2^2 + 2^3 + 2^4\\\\\n",
    "33 &= 3^2 + 2^3 + 2^4\\\\\n",
    "49 &= 5^2 + 2^3 + 2^4\\\\\n",
    "47 &= 2^2 + 3^3 + 2^4\n",
    "\\end{align}\n",
    "<p>How many numbers below fifty million can be expressed as the sum of a prime square, prime cube, and prime fourth power?</p>"
   ]
  },
  {
   "cell_type": "code",
   "execution_count": 25,
   "id": "d75e02fe-6b93-475c-b7f2-88c6bd2f4308",
   "metadata": {},
   "outputs": [],
   "source": [
    "import math\n",
    "from sympy.ntheory import primerange"
   ]
  },
  {
   "cell_type": "code",
   "execution_count": 34,
   "id": "958a8ef1-2f0b-4ca8-a741-fba92a400a8e",
   "metadata": {},
   "outputs": [],
   "source": [
    "lim = int(50e6)\n",
    "lim_sq = lim**(1/2)//1\n",
    "lim_cb = lim**(1/3)//1\n",
    "lim_fr = lim**(1/4)//1\n",
    "triplet_set = set()\n",
    "\n",
    "for sq in primerange(1,lim_sq):\n",
    "    for cb in primerange(1,lim_cb):\n",
    "        for fr in primerange(1,lim_fr):\n",
    "            prime_sum = sq**2 + cb**3 + fr**4\n",
    "            if prime_sum >= limit: break\n",
    "            triplet_set.add(prime_sum)"
   ]
  },
  {
   "cell_type": "code",
   "execution_count": 35,
   "id": "e8158c77-b36a-43ca-9b26-4e4a5512e03f",
   "metadata": {},
   "outputs": [
    {
     "data": {
      "text/plain": [
       "1097343"
      ]
     },
     "execution_count": 35,
     "metadata": {},
     "output_type": "execute_result"
    }
   ],
   "source": [
    "len(triplet_set)"
   ]
  }
 ],
 "metadata": {
  "kernelspec": {
   "display_name": "Python 3 (ipykernel)",
   "language": "python",
   "name": "python3"
  },
  "language_info": {
   "codemirror_mode": {
    "name": "ipython",
    "version": 3
   },
   "file_extension": ".py",
   "mimetype": "text/x-python",
   "name": "python",
   "nbconvert_exporter": "python",
   "pygments_lexer": "ipython3",
   "version": "3.9.13"
  }
 },
 "nbformat": 4,
 "nbformat_minor": 5
}
