{
 "cells": [
  {
   "cell_type": "markdown",
   "id": "0e4b877b-9acf-4d65-9d89-4863cdb8567a",
   "metadata": {},
   "source": [
    "### Problem 96: Su Doku\n",
    "<p>Su Doku (Japanese meaning <i>number place</i>) is the name given to a popular puzzle concept. Its origin is unclear, but credit must be attributed to Leonhard Euler who invented a similar, and much more difficult, puzzle idea called Latin Squares. The objective of Su Doku puzzles, however, is to replace the blanks (or zeros) in a 9 by 9 grid in such that each row, column, and 3 by 3 box contains each of the digits 1 to 9. Below is an example of a typical starting puzzle grid and its solution grid.</p>\n",
    "<div style=\"text-align:center\">\n",
    "<img src=\"https://projecteuler.net/project/images/p096_1.png\" alt=\"p096_1.png\" />     <img src=\"https://projecteuler.net/project/images/p096_2.png\" alt=\"p096_2.png\" /></div>\n",
    "<p>A well constructed Su Doku puzzle has a unique solution and can be solved by logic, although it may be necessary to employ \"guess and test\" methods in order to eliminate options (there is much contested opinion over this). The complexity of the search determines the difficulty of the puzzle; the example above is considered <i>easy</i> because it can be solved by straight forward direct deduction.</p>\n",
    "<p>The 6K text file, <a href=\"https://projecteuler.net/project/resources/p096_sudoku.txt\">sudoku.txt</a> (right click and 'Save Link/Target As...'), contains fifty different Su Doku puzzles ranging in difficulty, but all with unique solutions (the first puzzle in the file is the example above).</p>\n",
    "<p>By solving all fifty puzzles find the sum of the 3-digit numbers found in the top left corner of each solution grid; for example, 483 is the 3-digit number found in the top left corner of the solution grid above.</p>"
   ]
  },
  {
   "cell_type": "code",
   "execution_count": 100,
   "id": "cb964684-e47c-4379-8444-01da4557173e",
   "metadata": {},
   "outputs": [],
   "source": [
    "import os\n",
    "import time\n",
    "path = os.path.join(os.path.dirname(os.getcwd()),'xxx_ProjectEulerData','0096_sudoku.txt')\n",
    "with open(path,\"r\") as file:\n",
    "    sudokuList = file.read().split('Grid ')\n",
    "    sudokuList.remove('')\n",
    "sudokuDict = {int(y[0]):[[int(a) for a in z] for z in y[1:] if z if z != []] for y in [x.split('\\n') for x in sudokuList]}"
   ]
  },
  {
   "cell_type": "code",
   "execution_count": 101,
   "id": "e68c3694-bee5-42b4-bdd1-b830db50f81e",
   "metadata": {},
   "outputs": [],
   "source": [
    "N = 9\n",
    " \n",
    "def printing(arr):\n",
    "    for i in range(N):\n",
    "        for j in range(N):\n",
    "            print(arr[i][j], end=\" \")\n",
    "        print()\n",
    " \n",
    " \n",
    "def isSafe(grid, row, col, num):\n",
    " \n",
    "    for x in range(9):\n",
    "        if grid[row][x] == num:\n",
    "            return False\n",
    " \n",
    "    for x in range(9):\n",
    "        if grid[x][col] == num:\n",
    "            return False\n",
    " \n",
    "    startRow = row - row % 3\n",
    "    startCol = col - col % 3\n",
    "    for i in range(3):\n",
    "        for j in range(3):\n",
    "            if grid[i + startRow][j + startCol] == num:\n",
    "                return False\n",
    "    return True\n",
    " \n",
    "def solveSudoku(grid, row, col):\n",
    " \n",
    "    if (row == N - 1 and col == N):\n",
    "        return True\n",
    "\n",
    "    if col == N:\n",
    "        row += 1\n",
    "        col = 0\n",
    "    if grid[row][col] > 0:\n",
    "        return solveSudoku(grid, row, col + 1)\n",
    "    for num in range(1, N + 1, 1):\n",
    " \n",
    "        if isSafe(grid, row, col, num):\n",
    "            grid[row][col] = num\n",
    "\n",
    "            if solveSudoku(grid, row, col + 1):\n",
    "                return True\n",
    "        grid[row][col] = 0\n",
    "    return False"
   ]
  },
  {
   "cell_type": "code",
   "execution_count": 115,
   "id": "f38346bf-338d-496b-9780-499bbaae16d6",
   "metadata": {},
   "outputs": [],
   "source": [
    "solvedDict = sudokuDict\n",
    "running_sum = 0\n",
    "for key,grid in solvedDict.items():\n",
    "    if (solveSudoku(grid, 0, 0)):\n",
    "        running_sum += sum([y*10**(len(solvedDict[key][0][:3])-x-1) for x,y in enumerate(solvedDict[key][0][:3])])"
   ]
  },
  {
   "cell_type": "code",
   "execution_count": 116,
   "id": "bd55f4ff-c5ed-4bbb-8229-f340a9564d50",
   "metadata": {},
   "outputs": [
    {
     "data": {
      "text/plain": [
       "24702"
      ]
     },
     "execution_count": 116,
     "metadata": {},
     "output_type": "execute_result"
    }
   ],
   "source": [
    "running_sum"
   ]
  }
 ],
 "metadata": {
  "kernelspec": {
   "display_name": "Python 3 (ipykernel)",
   "language": "python",
   "name": "python3"
  },
  "language_info": {
   "codemirror_mode": {
    "name": "ipython",
    "version": 3
   },
   "file_extension": ".py",
   "mimetype": "text/x-python",
   "name": "python",
   "nbconvert_exporter": "python",
   "pygments_lexer": "ipython3",
   "version": "3.9.13"
  }
 },
 "nbformat": 4,
 "nbformat_minor": 5
}
