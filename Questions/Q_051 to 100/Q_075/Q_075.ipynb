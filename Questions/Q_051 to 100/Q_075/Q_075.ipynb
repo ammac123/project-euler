{
 "cells": [
  {
   "cell_type": "markdown",
   "id": "d6929392-dafa-4a19-b851-0eec5bda1501",
   "metadata": {},
   "source": [
    "### Problem 75: Singular Integer Right Triangles\n",
    "<p>It turns out that ${12 cm}$ is the smallest length of wire that can be bent to form an integer sided right angle triangle in exactly one way, but there are many more examples.</p>\n",
    "<ul style=\"list-style-type:none;\">\n",
    "<li>${\\mathbf{12} \\mathbf{cm}}$: $(3,4,5)$</li>\n",
    "<li>${\\mathbf{24} \\mathbf{cm}}$: $(6,8,10)$</li>\n",
    "<li>${\\mathbf{30} \\mathbf{cm}}$: $(5,12,13)$</li>\n",
    "<li>${\\mathbf{36} \\mathbf{cm}}$: $(9,12,15)$</li>\n",
    "<li>${\\mathbf{40} \\mathbf{cm}}$: $(8,15,17)$</li>\n",
    "<li>${\\mathbf{48} \\mathbf{cm}}$: $(12,16,20)$</li></ul>\n",
    "<p>In contrast, some lengths of wire, like ${20 cm}$, cannot be bent to form an integer sided right angle triangle, and other lengths allow more than one solution to be found; for example, using ${120 cm}$ it is possible to form exactly three different integer sided right angle triangles.</p>\n",
    "<ul style=\"list-style-type:none;\">\n",
    "<li>${\\mathbf{120} \\mathbf{cm}}$: $(30,40,50)$, $(20,48,52)$, $(24,45,51)$</li></ul>\n",
    "\n",
    "<p>Given that $L$ is the length of the wire, for how many values of $L \\le 1\\,500\\,000$ can exactly one integer sided right angle triangle be formed?</p>\n"
   ]
  },
  {
   "cell_type": "code",
   "execution_count": null,
   "id": "05ea915e-4216-44f4-8a50-340812306b4e",
   "metadata": {},
   "outputs": [],
   "source": [
    "import time"
   ]
  },
  {
   "cell_type": "code",
   "execution_count": null,
   "id": "bda71495-fb1e-4d19-833e-2c690dde5265",
   "metadata": {},
   "outputs": [],
   "source": [
    "time_start = time.perf_counter()\n",
    "\n",
    "seen = {}\n",
    "lim = 1_500_000\n",
    "maxIter = int(lim**0.5)\n",
    "t1_0 = time.perf_counter()\n",
    "x = {i:set() for i in range(lim+1)}\n",
    "t1_1 = time.perf_counter()\n",
    "\n",
    "for m in range(2,maxIter+1):\n",
    "    for n in range(1,m):\n",
    "        a = m**2 - n**2\n",
    "        b = 2*m*n\n",
    "        c = m**2 + n**2\n",
    "        abc = a+b+c\n",
    "        if abc > lim: continue\n",
    "        \n",
    "        seen_curr = tuple(sorted((a,b,c)))\n",
    "\n",
    "        if abc in x: \n",
    "            x[abc].add(seen_curr)\n",
    "        else: \n",
    "            x[abc] = seen_curr\n",
    "        #    seen[seen_curr] = 0\n",
    "            \n",
    "        for k in range(2,lim):\n",
    "            abc_k = a*k + b*k + c*k\n",
    "            if abc_k > lim: break\n",
    "            \n",
    "            seen_curr = tuple(sorted((a*k,b*k,c*k)))\n",
    "            \n",
    "            if abc_k in x:\n",
    "                x[abc_k].add(seen_curr)\n",
    "            else: \n",
    "                x[abc_k] = seen_curr\n",
    "                #seen[seen_curr] = 0\n",
    "\n",
    "x_1 = {key:val for key, val in x.items() if len(val) == 1}\n",
    "time_end = time.perf_counter()\n",
    "time_taken = time_end - time_start\n",
    "t1_2 = t1_1 - t1_0\n",
    "print(f'Total : {len(x_1)}\\n{time_taken:.5f}s\\n{t1_2:.5f}s')"
   ]
  }
 ],
 "metadata": {
  "kernelspec": {
   "display_name": "Python 3 (ipykernel)",
   "language": "python",
   "name": "python3"
  },
  "language_info": {
   "codemirror_mode": {
    "name": "ipython",
    "version": 3
   },
   "file_extension": ".py",
   "mimetype": "text/x-python",
   "name": "python",
   "nbconvert_exporter": "python",
   "pygments_lexer": "ipython3",
   "version": "3.9.13"
  }
 },
 "nbformat": 4,
 "nbformat_minor": 5
}
