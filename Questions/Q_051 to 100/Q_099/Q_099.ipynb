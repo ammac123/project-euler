{
 "cells": [
  {
   "cell_type": "markdown",
   "id": "8c3d38a3-644e-4f23-aab0-d8faed8337f1",
   "metadata": {},
   "source": [
    "### Problem 99: Largest Exponential\n",
    "<p>Comparing two numbers written in index form like $2^{11}$ and $3^7$ is not difficult, as any calculator would confirm that $2^{11} = 2048 \\lt 3^7 = 2187$.</p>\n",
    "<p>However, confirming that $632382^{518061} \\gt 519432^{525806}$ would be much more difficult, as both numbers contain over three million digits.</p>\n",
    "<p>Using <a href=\"https://projecteuler.net/resources/documents/0099_base_exp.txt\">base_exp.txt</a> (right click and 'Save Link/Target As...'), a 22K text file containing one thousand lines with a base/exponent pair on each line, determine which line number has the greatest numerical value.</p>\n",
    "<p class=\"smaller\">NOTE: The first two lines in the file represent the numbers in the example given above.</p>"
   ]
  },
  {
   "cell_type": "code",
   "execution_count": 31,
   "id": "f2ce69ff-f23a-4d75-905c-c29da2e240c2",
   "metadata": {},
   "outputs": [],
   "source": [
    "import math\n",
    "import os\n",
    "path = os.path.join(os.path.dirname(os.getcwd()),'xxx_ProjectEulerData','0099_base_exp.txt')\n",
    "with open(path,\"r\") as file:\n",
    "    baseExpList = [[int(y) for y in x.split(',')] for x in file.read().split('\\n')]"
   ]
  },
  {
   "cell_type": "code",
   "execution_count": 32,
   "id": "1abdbd2d-fc6b-476e-a3ef-7e8d923ada50",
   "metadata": {},
   "outputs": [],
   "source": [
    "logList = [0]*len(baseExpList)\n",
    "for i,x in enumerate(baseExpList):\n",
    "    logList[i] = x[1]*math.log(x[0])\n",
    "\n",
    "result = logList.index(max(logList))+1"
   ]
  },
  {
   "cell_type": "code",
   "execution_count": 33,
   "id": "b1f14d13-d59c-45d9-9b08-467206da8367",
   "metadata": {},
   "outputs": [
    {
     "name": "stdout",
     "output_type": "stream",
     "text": [
      "The line number with the largest BaseExp number is : 709\n",
      "This is : 895,447^(504,922)\n"
     ]
    }
   ],
   "source": [
    "print(f'The line number with the largest BaseExp number is : {result}\\nThis is : {baseExpList[result-1][0]:,}^({baseExpList[result-1][1]:,})')"
   ]
  }
 ],
 "metadata": {
  "kernelspec": {
   "display_name": "Python 3 (ipykernel)",
   "language": "python",
   "name": "python3"
  },
  "language_info": {
   "codemirror_mode": {
    "name": "ipython",
    "version": 3
   },
   "file_extension": ".py",
   "mimetype": "text/x-python",
   "name": "python",
   "nbconvert_exporter": "python",
   "pygments_lexer": "ipython3",
   "version": "3.9.13"
  }
 },
 "nbformat": 4,
 "nbformat_minor": 5
}
