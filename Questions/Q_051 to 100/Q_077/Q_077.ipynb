{
 "cells": [
  {
   "cell_type": "markdown",
   "id": "694bbb52-9b29-450c-ab06-447932031e8e",
   "metadata": {},
   "source": [
    "### Problem 77: Prime Summations\n",
    "<p>It is possible to write ten as the sum of primes in exactly five different ways:</p>\n",
    "\\begin{align}\n",
    "&7 + 3\\\\\n",
    "&5 + 5\\\\\n",
    "&5 + 3 + 2\\\\\n",
    "&3 + 3 + 2 + 2\\\\\n",
    "&2 + 2 + 2 + 2 + 2\n",
    "\\end{align}\n",
    "<p>What is the first value which can be written as the sum of primes in over five thousand different ways?</p>\n"
   ]
  },
  {
   "cell_type": "code",
   "execution_count": 25,
   "id": "e7b3d39a-4503-4a93-989e-01a323dde6c7",
   "metadata": {},
   "outputs": [],
   "source": [
    "import math\n",
    "from sympy import *"
   ]
  },
  {
   "cell_type": "code",
   "execution_count": 26,
   "id": "8b93e5ec-61f3-4ffd-86ce-3804540a0911",
   "metadata": {},
   "outputs": [],
   "source": [
    "def partitions(n, primes, I=1):\n",
    "    if n in primes: yield (n,)\n",
    "    for i in range(I, n//2 + 1):\n",
    "        for p in partitions(n-i,primes,i):\n",
    "            if i in primes:\n",
    "                yield (i,) + p"
   ]
  },
  {
   "cell_type": "code",
   "execution_count": 27,
   "id": "5f8980e4-0e19-43fe-a19b-2b9169281a68",
   "metadata": {},
   "outputs": [],
   "source": [
    "primeSet = [i for i in primerange(1e3)]"
   ]
  },
  {
   "cell_type": "code",
   "execution_count": 28,
   "id": "323c5b5b-9227-4723-b3e3-0932b008e2d6",
   "metadata": {},
   "outputs": [],
   "source": [
    "n = 1\n",
    "limit = 5_000\n",
    "while True:\n",
    "    k = 0\n",
    "    for i in partitions(n,primeSet):\n",
    "        if i[0] != n: k += 1\n",
    "        \n",
    "    if k > limit: break\n",
    "    n += 1"
   ]
  },
  {
   "cell_type": "code",
   "execution_count": 29,
   "id": "3a091d17-2e50-4329-9988-55978b77e9e3",
   "metadata": {},
   "outputs": [
    {
     "name": "stdout",
     "output_type": "stream",
     "text": [
      "71\n"
     ]
    }
   ],
   "source": [
    "print(n)"
   ]
  }
 ],
 "metadata": {
  "kernelspec": {
   "display_name": "Python 3 (ipykernel)",
   "language": "python",
   "name": "python3"
  },
  "language_info": {
   "codemirror_mode": {
    "name": "ipython",
    "version": 3
   },
   "file_extension": ".py",
   "mimetype": "text/x-python",
   "name": "python",
   "nbconvert_exporter": "python",
   "pygments_lexer": "ipython3",
   "version": "3.9.13"
  }
 },
 "nbformat": 4,
 "nbformat_minor": 5
}
