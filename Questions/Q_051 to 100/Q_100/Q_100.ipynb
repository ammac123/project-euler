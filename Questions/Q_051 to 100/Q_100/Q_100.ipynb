{
 "cells": [
  {
   "cell_type": "markdown",
   "id": "05bd39da-7d9c-4345-b463-9af8950815a1",
   "metadata": {},
   "source": [
    "### Problem 100: Arranged Probability\n",
    "<p>If a box contains twenty-one coloured discs, composed of fifteen blue discs and six red discs, and two discs were taken at random, it can be seen that the probability of taking two blue discs, $P(\\text{BB}) = (15/21) \\times (14/20) = 1/2$.</p>\n",
    "<p>The next such arrangement, for which there is exactly $50\\%$ chance of taking two blue discs at random, is a box containing eighty-five blue discs and thirty-five red discs.</p>\n",
    "<p>By finding the first arrangement to contain over $10^{12} = 1\\,000\\,000\\,000\\,000$ discs in total, determine the number of blue discs that the box would contain.</p>\n"
   ]
  },
  {
   "cell_type": "code",
   "execution_count": 11,
   "id": "bd353e9b-e8e0-4958-82ee-439c0a652409",
   "metadata": {},
   "outputs": [],
   "source": [
    "import math\n",
    "from decimal import Decimal, getcontext"
   ]
  },
  {
   "cell_type": "code",
   "execution_count": 130,
   "id": "c1492aff-b316-4bc2-a59b-7d28d10d1ba9",
   "metadata": {},
   "outputs": [],
   "source": [
    "getcontext().prec = 100\n",
    "sqrt5 = math.sqrt(0.5)"
   ]
  },
  {
   "cell_type": "code",
   "execution_count": 131,
   "id": "1f14a026-2ba3-4452-81b5-523c29dbdfb6",
   "metadata": {},
   "outputs": [],
   "source": [
    "def equality_check(total):\n",
    "    b1 = (total*sqrt5)//1\n",
    "    return  Decimal((total*(total-1)))== Decimal(2*(b1*(b1+1)))"
   ]
  },
  {
   "cell_type": "code",
   "execution_count": 138,
   "id": "0be117bb-93a2-4c61-b57b-f1568ca7c7a0",
   "metadata": {},
   "outputs": [
    {
     "name": "stdout",
     "output_type": "stream",
     "text": [
      "The largest value over 1,000,000,000,000 is :\n",
      "\t 756,872,327,473 blue balls, and \n",
      "\t 313,506,783,024 red balls\n"
     ]
    }
   ],
   "source": [
    "lim = 1e12\n",
    "i = 1\n",
    "res_list = []\n",
    "while True:\n",
    "    if equality_check(i): \n",
    "        res_list.append([int(i), int(((i*sqrt5)//1)+1)])\n",
    "        if i > lim: break\n",
    "        if len(res_list)>2:\n",
    "            i *= (res_list[-1][0])/(res_list[-2][0])\n",
    "            i //= 1\n",
    "    i += 1\n",
    "print(f'The largest value over {int(lim):,} is :\\n\\t {res_list[-1][1]:,} blue balls, and \\n\\t {(res_list[-1][0] - res_list[-1][1]):,} red balls')"
   ]
  }
 ],
 "metadata": {
  "kernelspec": {
   "display_name": "Python 3 (ipykernel)",
   "language": "python",
   "name": "python3"
  },
  "language_info": {
   "codemirror_mode": {
    "name": "ipython",
    "version": 3
   },
   "file_extension": ".py",
   "mimetype": "text/x-python",
   "name": "python",
   "nbconvert_exporter": "python",
   "pygments_lexer": "ipython3",
   "version": "3.9.13"
  }
 },
 "nbformat": 4,
 "nbformat_minor": 5
}
