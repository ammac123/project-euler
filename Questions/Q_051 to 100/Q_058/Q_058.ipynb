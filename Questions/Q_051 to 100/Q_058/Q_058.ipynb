{
 "cells": [
  {
   "cell_type": "markdown",
   "id": "f52acea3-10d4-4489-9c9a-ad1b4591ba5d",
   "metadata": {},
   "source": [
    "### Problem 58: Spiral Primes\n",
    "<p>Starting with 1 and spiralling anticlockwise in the following way, a square spiral with side length 7 is formed.</p>\n",
    "<p style=\"text-align:center; font-family:monospace\"><span class=\"red\"><b>37</b></span> 36 35 34 33 32 <span class=\"red\"><b>31</b></span><br>\n",
    "38 <span class=\"red\"><b>17</b></span> 16 15 14 <span class=\"red\"><b>13</b></span> 30<br>\n",
    "39 18 <span class=\"red\"> <b>5</b></span>  4 <span class=\"red\"> <b>3</b></span> 12 29<br>\n",
    "40 19  6  1  2 11 28<br>\n",
    "41 20 <span class=\"red\"> <b>7</b></span>  8  9 10 27<br>\n",
    "42 21 22 23 24 25 26<br><span class=\"red\"><b>43</b></span> 44 45 46 47 48 49</p>\n",
    "<p>It is interesting to note that the odd squares lie along the bottom right diagonal, but what is more interesting is that 8 out of the 13 numbers lying along both diagonals are prime; that is, a ratio of 8/13 ≈ 62%.</p>\n",
    "<p>If one complete new layer is wrapped around the spiral above, a square spiral with side length 9 will be formed. If this process is continued, what is the side length of the square spiral for which the ratio of primes along both diagonals first falls below 10%?</p>\n"
   ]
  },
  {
   "cell_type": "code",
   "execution_count": 64,
   "id": "7b0c58d0-5bb9-4ffd-82b8-971e859cf22c",
   "metadata": {},
   "outputs": [],
   "source": [
    "from sympy import ntheory\n",
    "import math\n",
    "import collections"
   ]
  },
  {
   "cell_type": "code",
   "execution_count": 65,
   "id": "885d5d60-2788-4f00-aa3d-dcc09c3b03f3",
   "metadata": {},
   "outputs": [],
   "source": [
    "def pe_58():\n",
    "    spiral_list = [1]\n",
    "    prime_spiral = []\n",
    "    side_length_dict = collections.defaultdict(list)\n",
    "    k = 1\n",
    "    i = 1\n",
    "    while True:\n",
    "        side_length = 2*i + 1\n",
    "        while k<(2*i+1)**2:\n",
    "            k += (2*i)\n",
    "            if ntheory.totient(k) == k-1: prime_spiral.append(k)\n",
    "            spiral_list.append(k)\n",
    "        ratio = (len(prime_spiral)/len(spiral_list))\n",
    "        side_length_dict[side_length] = ratio\n",
    "        if ratio < 0.1:\n",
    "            print(f'Side length: {side_length} - Ratio: {100*ratio:.10f}% - (Primes:{(len(prime_spiral))}|Total:{len(spiral_list)})')\n",
    "            break\n",
    "        i += 1"
   ]
  },
  {
   "cell_type": "code",
   "execution_count": 67,
   "id": "050deebf-152e-4135-842c-23bcc302459c",
   "metadata": {},
   "outputs": [
    {
     "name": "stdout",
     "output_type": "stream",
     "text": [
      "Side length: 26241 - Ratio: 9.9998094549% - (Primes:5248|Total:52481)\n"
     ]
    }
   ],
   "source": [
    "pe_58()"
   ]
  }
 ],
 "metadata": {
  "kernelspec": {
   "display_name": "Python 3 (ipykernel)",
   "language": "python",
   "name": "python3"
  },
  "language_info": {
   "codemirror_mode": {
    "name": "ipython",
    "version": 3
   },
   "file_extension": ".py",
   "mimetype": "text/x-python",
   "name": "python",
   "nbconvert_exporter": "python",
   "pygments_lexer": "ipython3",
   "version": "3.9.13"
  }
 },
 "nbformat": 4,
 "nbformat_minor": 5
}
