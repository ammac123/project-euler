{
 "cells": [
  {
   "cell_type": "markdown",
   "id": "6438326a-8f2f-41ce-a0d8-3ec9a941a73a",
   "metadata": {},
   "source": [
    "### Problem 97: Large Non-Mersenne Prime\n",
    "<p>The first known prime found to exceed one million digits was discovered in 1999, and is a Mersenne prime of the form $2^{6972593} - 1$; it contains exactly $2\\,098\\,960$ digits. Subsequently other Mersenne primes, of the form $2^p - 1$, have been found which contain more digits.</p>\n",
    "<p>However, in 2004 there was found a massive non-Mersenne prime which contains $2\\,357\\,207$ digits: $28433 \\times 2^{7830457} + 1$.</p>\n",
    "<p>Find the last ten digits of this prime number.</p>\n"
   ]
  },
  {
   "cell_type": "code",
   "execution_count": 14,
   "id": "d2d9484d-373b-42ff-93b5-f2e30b6e17dd",
   "metadata": {},
   "outputs": [
    {
     "name": "stdout",
     "output_type": "stream",
     "text": [
      "The last 10 digits is : 8,739,992,577\n"
     ]
    }
   ],
   "source": [
    "k = 1\n",
    "for i in range(1,7830458):\n",
    "    k *= 2\n",
    "    k %= 1e10\n",
    "k = (k * 28433 + 1)%1e10\n",
    "print(f'The last 10 digits is : {int(k):,}')"
   ]
  }
 ],
 "metadata": {
  "kernelspec": {
   "display_name": "Python 3 (ipykernel)",
   "language": "python",
   "name": "python3"
  },
  "language_info": {
   "codemirror_mode": {
    "name": "ipython",
    "version": 3
   },
   "file_extension": ".py",
   "mimetype": "text/x-python",
   "name": "python",
   "nbconvert_exporter": "python",
   "pygments_lexer": "ipython3",
   "version": "3.9.13"
  }
 },
 "nbformat": 4,
 "nbformat_minor": 5
}
