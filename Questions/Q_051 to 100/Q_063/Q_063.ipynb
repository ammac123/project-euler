{
 "cells": [
  {
   "cell_type": "markdown",
   "id": "d6794368-2358-472d-8912-a834068c5bac",
   "metadata": {},
   "source": [
    "### Problem #63: Powerful digit counts\n",
    "<p>The $5$-digit number, $16807=7^5$, is also a fifth power. Similarly, the $9$-digit number, $134217728=8^9$, is a ninth power.</p>\n",
    "<p>How many $n$-digit positive integers exist which are also an $n$th power?</p>\n"
   ]
  },
  {
   "cell_type": "code",
   "execution_count": 101,
   "id": "92f04ef9-4a75-4af5-8325-82e1753db90f",
   "metadata": {},
   "outputs": [
    {
     "name": "stdout",
     "output_type": "stream",
     "text": [
      "49\n"
     ]
    }
   ],
   "source": [
    "def pe_63():\n",
    "    count = 0\n",
    "    for i in range(1,10):\n",
    "        m = 1\n",
    "        while True:\n",
    "            if len(str(i**m)) == m: count += 1\n",
    "            else: break\n",
    "            m += 1\n",
    "    print(count)\n",
    "    \n",
    "pe_63()"
   ]
  }
 ],
 "metadata": {
  "kernelspec": {
   "display_name": "Python 3 (ipykernel)",
   "language": "python",
   "name": "python3"
  },
  "language_info": {
   "codemirror_mode": {
    "name": "ipython",
    "version": 3
   },
   "file_extension": ".py",
   "mimetype": "text/x-python",
   "name": "python",
   "nbconvert_exporter": "python",
   "pygments_lexer": "ipython3",
   "version": "3.9.13"
  }
 },
 "nbformat": 4,
 "nbformat_minor": 5
}
