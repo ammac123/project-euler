{
 "cells": [
  {
   "cell_type": "markdown",
   "id": "ed7a2db2-b32d-4fce-afb9-24cc77094948",
   "metadata": {},
   "source": [
    "### Problem 93: Arithmetic Expressions\n",
    "<p>By using each of the digits from the set, $\\{1, 2, 3, 4\\}$, exactly once, and making use of the four arithmetic operations ($+, -, \\times, /$) and brackets/parentheses, it is possible to form different positive integer targets.</p>\n",
    "<p>For example,</p>\n",
    "\\begin{align}\n",
    "8 &= (4 \\times (1 + 3)) / 2\\\\\n",
    "14 &= 4 \\times (3 + 1 / 2)\\\\\n",
    "19 &= 4 \\times (2 + 3) - 1\\\\\n",
    "36 &= 3 \\times 4 \\times (2 + 1)\n",
    "\\end{align}\n",
    "<p>Note that concatenations of the digits, like $12 + 34$, are not allowed.</p>\n",
    "<p>Using the set, $\\{1, 2, 3, 4\\}$, it is possible to obtain thirty-one different target numbers of which $36$ is the maximum, and each of the numbers $1$ to $28$ can be obtained before encountering the first non-expressible number.</p>\n",
    "<p>Find the set of four distinct digits, $a \\lt b \\lt c \\lt d$, for which the longest set of consecutive positive integers, $1$ to $n$, can be obtained, giving your answer as a string: <i>abcd</i>.</p>\n"
   ]
  },
  {
   "cell_type": "code",
   "execution_count": 281,
   "id": "3b27ed25-b879-4e5d-b348-2397e57ab390",
   "metadata": {},
   "outputs": [],
   "source": [
    "import math\n",
    "import time\n",
    "from collections import OrderedDict\n",
    "from itertools import permutations, combinations, product"
   ]
  },
  {
   "cell_type": "code",
   "execution_count": 282,
   "id": "4713f458-5226-4bae-abc3-3d45c22f51d0",
   "metadata": {},
   "outputs": [],
   "source": [
    "def contains_elements_once(main_list, elements_to_check):\n",
    "    for element in elements_to_check:\n",
    "        if main_list.count(element) == 1:\n",
    "            pass\n",
    "        else:\n",
    "            return False\n",
    "    return True"
   ]
  },
  {
   "cell_type": "code",
   "execution_count": 283,
   "id": "204d8f26-c8f3-4f89-ad20-ddc003f454b5",
   "metadata": {},
   "outputs": [],
   "source": [
    "def sublist_gen(input_list):\n",
    "    all_sublists = []\n",
    "    for i in range(1, len(input_list) + 1):\n",
    "        sublist_combinations = combinations(input_list, i)\n",
    "        all_sublists.extend([list(comb) for comb in sublist_combinations])\n",
    "    return all_sublists"
   ]
  },
  {
   "cell_type": "code",
   "execution_count": 284,
   "id": "5eb33fd6-b928-4ab5-9093-b0af4481b2fc",
   "metadata": {},
   "outputs": [],
   "source": [
    "def generate_sublists(input_list):\n",
    "    result = sublist_gen(input_list)\n",
    "    possible_combs = []\n",
    "    for i in range(1,len(input_list)+1):\n",
    "        for comb in combinations(result,i):\n",
    "            l = []\n",
    "            for x in comb:\n",
    "                for y in x:\n",
    "                    l.append(y)\n",
    "            if contains_elements_once(l,input_list):\n",
    "                possible_combs.append(comb)\n",
    "                \n",
    "    return possible_combs"
   ]
  },
  {
   "cell_type": "code",
   "execution_count": 295,
   "id": "84cdb157-8878-4885-abf5-356b09a3188c",
   "metadata": {},
   "outputs": [],
   "source": [
    "def arithmetic_permutations(numbers, operators = ['+', '-', '*', '/','**'], whole_n = True):\n",
    "    result_list = []\n",
    "    combination_list = [x for x in range(len(numbers))]\n",
    "    combs = product(combination_list, repeat=len(combination_list) - 1)\n",
    "    for combo in combs:\n",
    "        expression = str(numbers[0])\n",
    "        result = numbers[0]\n",
    "        for i, operator in enumerate(combo):\n",
    "            expression += f\" {operators[operator]} {numbers[i + 1]}\"\n",
    "            if operators[operator] == '+':\n",
    "                result += numbers[i + 1]\n",
    "            elif operators[operator] == '-':\n",
    "                result -= numbers[i + 1]\n",
    "            elif operators[operator] == '*':\n",
    "                result *= numbers[i + 1]\n",
    "            elif operators[operator] == '**':\n",
    "                result **= numbers[i + 1]\n",
    "            elif operators[operator] == '/':\n",
    "                # Handle division by zero\n",
    "                if numbers[i + 1] == 0:\n",
    "                    continue\n",
    "                result /= numbers[i + 1]\n",
    "        if whole_n is False: result_list.append(result) #; print(f\"{expression} = {result}\") \n",
    "        elif result%1==0: result_list.append(int(result)) #; print(f\"{expression} = {result}\")\n",
    "        \n",
    "    return list(set(result_list))"
   ]
  },
  {
   "cell_type": "code",
   "execution_count": 296,
   "id": "c639af4e-bbfa-45eb-aa85-c7f6b9804076",
   "metadata": {},
   "outputs": [],
   "source": [
    "def loop_through_options(result_l):\n",
    "    result = []\n",
    "    result_dict = {x:[] for x in range(len(result_l))}\n",
    "    for i,x in enumerate(result_l):\n",
    "        result_dict[i] = arithmetic_permutations(x,whole_n=False)\n",
    "    \n",
    "    for j in product(*result_dict.values()):\n",
    "        result.extend(arithmetic_permutations(j,whole_n=True)) \n",
    "    result = [x for x in result if x>0]\n",
    "    result.sort()\n",
    "    return list(set(result))"
   ]
  },
  {
   "cell_type": "code",
   "execution_count": 297,
   "id": "925cecff-3a35-48c0-89f6-f1c31565dc3a",
   "metadata": {},
   "outputs": [],
   "source": [
    "def generate_all_attainable_nums(input_list):\n",
    "    result = []\n",
    "    result_l = []\n",
    "    for x in permutations(input_list):\n",
    "        result = generate_sublists(x)\n",
    "        for x in result:\n",
    "            if x not in result_l:\n",
    "                result_l.append(x)\n",
    "    result = result_l\n",
    "    integer_list = []\n",
    "    for i in result_l:\n",
    "        integer_list.extend(loop_through_options(i))\n",
    "    output = list(set(integer_list))\n",
    "    output.sort()\n",
    "    return output"
   ]
  },
  {
   "cell_type": "code",
   "execution_count": 298,
   "id": "b75c3e2d-0f58-4e6e-b01c-ed4f0a66f0cb",
   "metadata": {},
   "outputs": [],
   "source": [
    "def count_consecutive_values(lst):\n",
    "    i = 1\n",
    "    while True:\n",
    "        if i in lst:\n",
    "            i += 1\n",
    "        else:\n",
    "            return i-1\n",
    "            "
   ]
  },
  {
   "cell_type": "code",
   "execution_count": 299,
   "id": "b1c082b6-fecb-4545-8f7c-ef13b9f3d64b",
   "metadata": {},
   "outputs": [],
   "source": [
    "def pe_93(limit=11):\n",
    "    consec_count = {}\n",
    "    for a in range(1,limit-3):\n",
    "        for b in range(a+1,limit-2):\n",
    "            for c in range(b+1,limit-1):\n",
    "                for d in range(c+1,limit):\n",
    "                    i = count_consecutive_values(generate_all_attainable_nums([a,b,c,d]))\n",
    "                    if i not in consec_count: consec_count[i] = set()\n",
    "                    consec_count[i].add(tuple((a,b,c,d)))\n",
    "    ordered_dict = OrderedDict(sorted(consec_count.items()))\n",
    "    return dict(ordered_dict)"
   ]
  },
  {
   "cell_type": "code",
   "execution_count": 300,
   "id": "39656c2d-146e-440a-8063-535c4897fafc",
   "metadata": {},
   "outputs": [
    {
     "name": "stdout",
     "output_type": "stream",
     "text": [
      "The longest consecutive string of numbers that can be generated with digits under 10 is: \n",
      "\t51 using {(1, 2, 5, 8)}\n",
      "Time taken : 5.37247s\n"
     ]
    }
   ],
   "source": [
    "limit = 10\n",
    "time_start = time.perf_counter()\n",
    "result = pe_93(limit)\n",
    "time_end = time.perf_counter()\n",
    "time_taken = time_end - time_start\n",
    "print(f'The longest consecutive string of numbers that can be generated with digits under {limit} is: \\n\\t{max(result)} using {result[max(result)]}\\nTime taken : {time_taken:.5f}s')"
   ]
  },
  {
   "cell_type": "code",
   "execution_count": null,
   "id": "ad26ba01-a900-42a0-b651-55a41e362bbb",
   "metadata": {},
   "outputs": [],
   "source": []
  }
 ],
 "metadata": {
  "kernelspec": {
   "display_name": "Python 3 (ipykernel)",
   "language": "python",
   "name": "python3"
  },
  "language_info": {
   "codemirror_mode": {
    "name": "ipython",
    "version": 3
   },
   "file_extension": ".py",
   "mimetype": "text/x-python",
   "name": "python",
   "nbconvert_exporter": "python",
   "pygments_lexer": "ipython3",
   "version": "3.9.13"
  }
 },
 "nbformat": 4,
 "nbformat_minor": 5
}
