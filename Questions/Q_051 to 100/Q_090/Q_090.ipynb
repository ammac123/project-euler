{
 "cells": [
  {
   "cell_type": "markdown",
   "id": "da118706-add4-48d8-8f14-3343d5292b78",
   "metadata": {},
   "source": [
    "### Problem 90: Cube Digit Pairs\n",
    "<p>Each of the six faces on a cube has a different digit ($0$ to $9$) written on it; the same is done to a second cube. By placing the two cubes side-by-side in different positions we can form a variety of $2$-digit numbers.</p>\n",
    "\n",
    "<p>For example, the square number $64$ could be formed:</p>\n",
    "\n",
    "<div style=\"text-align:center\">\n",
    "<img src=\"https://projecteuler.net/resources/images/0090.png?1678992052\" class=\"dark_img\" alt=\"\"><br></div>\n",
    "\n",
    "<p>In fact, by carefully choosing the digits on both cubes it is possible to display all of the square numbers below one-hundred: $01$, $04$, $09$, $16$, $25$, $36$, $49$, $64$, and $81$.</p>\n",
    "\n",
    "<p>For example, one way this can be achieved is by placing $\\{0, 5, 6, 7, 8, 9\\}$ on one cube and $\\{1, 2, 3, 4, 8, 9\\}$ on the other cube.</p>\n",
    "\n",
    "<p>However, for this problem we shall allow the $6$ or $9$ to be turned upside-down so that an arrangement like $\\{0, 5, 6, 7, 8, 9\\}$ and $\\{1, 2, 3, 4, 6, 7\\}$ allows for all nine square numbers to be displayed; otherwise it would be impossible to obtain $09$.</p>\n",
    "\n",
    "<p>In determining a distinct arrangement we are interested in the digits on each cube, not the order.</p>\n",
    "\n",
    "<ul style=\"list-style-type:none;\"><li>$\\{1, 2, 3, 4, 5, 6\\}$ is equivalent to $\\{3, 6, 4, 1, 2, 5\\}$</li>\n",
    "<li>$\\{1, 2, 3, 4, 5, 6\\}$ is distinct from $\\{1, 2, 3, 4, 5, 9\\}$</li></ul>\n",
    "\n",
    "<p>But because we are allowing $6$ and $9$ to be reversed, the two distinct sets in the last example both represent the extended set $\\{1, 2, 3, 4, 5, 6, 9\\}$ for the purpose of forming $2$-digit numbers.</p>\n",
    "\n",
    "<p>How many distinct arrangements of the two cubes allow for all of the square numbers to be displayed?</p>"
   ]
  },
  {
   "cell_type": "code",
   "execution_count": 390,
   "id": "f3340f88-489c-449b-a2a8-26f1e1e79eb1",
   "metadata": {},
   "outputs": [],
   "source": [
    "from itertools import combinations\n",
    "import time\n",
    "import math"
   ]
  },
  {
   "cell_type": "code",
   "execution_count": 391,
   "id": "4d6a27cf-1c3c-4fc9-b93b-b6d7acd52913",
   "metadata": {},
   "outputs": [],
   "source": [
    "def dicegen():\n",
    "    return [comb for comb in combinations([x for x in range(10)],6)]"
   ]
  },
  {
   "cell_type": "code",
   "execution_count": 392,
   "id": "5ce77be2-09d8-4538-b777-28a7be7061c5",
   "metadata": {},
   "outputs": [],
   "source": [
    "def valid_pair(d1,d2,squares):\n",
    "    dice_set = set()\n",
    "    for x in d1:\n",
    "        for y in d2:\n",
    "            if x in [6,9] and y in [6,9]:\n",
    "                dice_set.add((6,9))\n",
    "                dice_set.add((6,6))\n",
    "                dice_set.add((9,6))\n",
    "                dice_set.add((9,9))\n",
    "            elif x in [6,9]:\n",
    "                dice_set.add((6,y))\n",
    "                dice_set.add((y,6))\n",
    "                dice_set.add((9,y))\n",
    "                dice_set.add((y,9))\n",
    "            elif y in [6,9]:\n",
    "                dice_set.add((6,x))\n",
    "                dice_set.add((x,6))\n",
    "                dice_set.add((9,x))\n",
    "                dice_set.add((x,9))\n",
    "                \n",
    "                \n",
    "            dice_set.add((x,y))\n",
    "            dice_set.add((y,x))\n",
    "            \n",
    "    return all(s in dice_set for s in squares)"
   ]
  },
  {
   "cell_type": "code",
   "execution_count": 393,
   "id": "4f5d6dc9-d3ed-41cd-9a92-3dc4ed771c25",
   "metadata": {},
   "outputs": [],
   "source": [
    "def pe_90():\n",
    "    time_start = time.perf_counter()\n",
    "    die_1_list = dicegen()\n",
    "    die_2_list = dicegen()\n",
    "    square_numbers = [(0,1),(0,4),(0,9),(1,6),(2,5),(3,6),(4,9),(6,4),(8,1)]\n",
    "    die_dict = {}\n",
    "    for die_1 in die_1_list:\n",
    "        for die_2 in die_2_list:\n",
    "            if valid_pair(die_1,die_2,square_numbers):\n",
    "                if die_1 + die_2 not in die_dict and die_2 + die_1 not in die_dict: die_dict[die_1 + die_2] = 1\n",
    "    \n",
    "    time_end = time.perf_counter()\n",
    "    time_taken = time_end - time_start\n",
    "    return len(die_dict), time_taken"
   ]
  },
  {
   "cell_type": "code",
   "execution_count": 394,
   "id": "b1e75e92-86a1-46bb-a209-7eff178a5b79",
   "metadata": {},
   "outputs": [
    {
     "name": "stdout",
     "output_type": "stream",
     "text": [
      "The total number of cube digit pairs is : 1217\n",
      "Total time taken: 3.39483s\n"
     ]
    }
   ],
   "source": [
    "result, time_taken = pe_90()\n",
    "print(f'The total number of cube digit pairs is : {result}\\nTotal time taken: {time_taken:.5f}s')"
   ]
  }
 ],
 "metadata": {
  "kernelspec": {
   "display_name": "Python 3 (ipykernel)",
   "language": "python",
   "name": "python3"
  },
  "language_info": {
   "codemirror_mode": {
    "name": "ipython",
    "version": 3
   },
   "file_extension": ".py",
   "mimetype": "text/x-python",
   "name": "python",
   "nbconvert_exporter": "python",
   "pygments_lexer": "ipython3",
   "version": "3.9.13"
  }
 },
 "nbformat": 4,
 "nbformat_minor": 5
}
