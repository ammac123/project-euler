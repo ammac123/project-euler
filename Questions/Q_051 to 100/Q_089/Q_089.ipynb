{
 "cells": [
  {
   "cell_type": "markdown",
   "id": "464a3479-b076-4145-b5f8-58a55f63bb83",
   "metadata": {},
   "source": [
    "### Problem 89: Roman Numerals\n",
    "<p>For a number written in Roman numerals to be considered valid there are basic rules which must be followed. Even though the rules allow some numbers to be expressed in more than one way there is always a \"best\" way of writing a particular number.</p>\n",
    "<p>For example, it would appear that there are at least six ways of writing the number sixteen:</p>\n",
    "<p style=\"margin-left: 100px; font-family: monospace\">IIIIIIIIIIIIIIII<br>\n",
    "VIIIIIIIIIII<br>\n",
    "VVIIIIII<br>\n",
    "XIIIIII<br>\n",
    "VVVI<br>\n",
    "XVI</p>\n",
    "<p>However, according to the rules only <span class=\"monospace\">XIIIIII</span> and <span class=\"monospace\">XVI</span> are valid, and the last example is considered to be the most efficient, as it uses the least number of numerals.</p>\n",
    "<p>The 11K text file, <a href=\"resources/documents/0089_roman.txt\">roman.txt</a> (right click and 'Save Link/Target As...'), contains one thousand numbers written in valid, but not necessarily minimal, Roman numerals; see <a href=\"about=roman_numerals\">About... Roman Numerals</a> for the definitive rules for this problem.</p>\n",
    "<p>Find the number of characters saved by writing each of these in their minimal form.</p>\n",
    "<p class=\"smaller\">Note: You can assume that all the Roman numerals in the file contain no more than four consecutive identical units.</p>\n"
   ]
  },
  {
   "cell_type": "code",
   "execution_count": 1,
   "id": "c6e20f43-55fd-469f-92bb-aae8a9bc8d15",
   "metadata": {},
   "outputs": [],
   "source": [
    "import math\n",
    "import os"
   ]
  },
  {
   "cell_type": "code",
   "execution_count": 139,
   "id": "a33fa005-752a-434b-a54f-002c215c0c53",
   "metadata": {},
   "outputs": [],
   "source": [
    "path = os.path.join(os.path.dirname(os.getcwd()),'xxx_ProjectEulerData','0089_roman.txt')\n",
    "with open(path,\"r\") as file:\n",
    "    romanList = file.read().split()"
   ]
  },
  {
   "cell_type": "code",
   "execution_count": 148,
   "id": "4d55fd02-3ea0-4383-8d7f-dc884cdc3bde",
   "metadata": {},
   "outputs": [],
   "source": [
    "romanCharDict={1:['I','V','X'],10:['X','L','C'],100:['C','D','M'],1000:['M']}\n",
    "romanCharLookup={'I':1,'V':5,'X':10,'L':50,'C':100,'D':500,'M':1000}"
   ]
  },
  {
   "cell_type": "code",
   "execution_count": 196,
   "id": "0fb63f23-f84d-46d1-9099-4a29acfdccf3",
   "metadata": {},
   "outputs": [],
   "source": [
    "def numberToRoman(num,romanCharDict=romanCharDict):\n",
    "    numBase10 = {10**(len(str(num))-(x+1)):int(val) for x,val in enumerate(str(num))}\n",
    "    romanString = ''\n",
    "    for key, value in numBase10.items():\n",
    "        if key >= 1000: \n",
    "            romanString += ''.join(romanCharDict[1000]*(key//1000)*value)\n",
    "        \n",
    "        else:\n",
    "            p,r = divmod(value,5)\n",
    "            q,r = divmod(r,4)\n",
    "            p += q\n",
    "            romanString += ''.join([romanCharDict[key][0]*q, romanCharDict[key][p]*(p!=0), romanCharDict[key][0]*r])\n",
    "        \n",
    "    return romanString"
   ]
  },
  {
   "cell_type": "code",
   "execution_count": 197,
   "id": "6f18cf99-52c8-4dc3-ae06-61d022346d68",
   "metadata": {},
   "outputs": [],
   "source": [
    "def romanStringToNumber(romanString,romanCharLookup=romanCharLookup):\n",
    "    number = romanCharLookup[romanString[-1]]\n",
    "    for x,s in enumerate(romanString[:-1]):\n",
    "        if romanCharLookup[s] < romanCharLookup[romanString[x+1]]: \n",
    "            number -= romanCharLookup[s]\n",
    "            continue\n",
    "        number += romanCharLookup[s]\n",
    "    return number"
   ]
  },
  {
   "cell_type": "code",
   "execution_count": 206,
   "id": "a9f96470-ffaf-453b-81d1-6fe7f23ef75b",
   "metadata": {},
   "outputs": [],
   "source": [
    "cleanedLists = [(x,y,z,(len(x)-len(y))) for x,y,z in [(x,numberToRoman(y),y) for x,y in [(x,romanStringToNumber(x,romanCharLookup)) for x in romanList]]]\n",
    "result = sum(s[3] for s in cleanedLists)"
   ]
  },
  {
   "cell_type": "code",
   "execution_count": 207,
   "id": "52dd2877-a589-4fd0-9422-6582d83573f4",
   "metadata": {},
   "outputs": [
    {
     "name": "stdout",
     "output_type": "stream",
     "text": [
      "Total number of characters saved by using minimal length is: 743\n"
     ]
    }
   ],
   "source": [
    "print(f'Total number of characters saved by using minimal length is: {result}')"
   ]
  }
 ],
 "metadata": {
  "kernelspec": {
   "display_name": "Python 3 (ipykernel)",
   "language": "python",
   "name": "python3"
  },
  "language_info": {
   "codemirror_mode": {
    "name": "ipython",
    "version": 3
   },
   "file_extension": ".py",
   "mimetype": "text/x-python",
   "name": "python",
   "nbconvert_exporter": "python",
   "pygments_lexer": "ipython3",
   "version": "3.9.13"
  }
 },
 "nbformat": 4,
 "nbformat_minor": 5
}
