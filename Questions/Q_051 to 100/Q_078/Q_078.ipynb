{
 "cells": [
  {
   "cell_type": "markdown",
   "id": "4b4c2ba4-0de2-49b8-aa69-6dd799f7afaf",
   "metadata": {},
   "source": [
    "### Problem 78 Coin Partitions\n",
    "<p>Let $p(n)$ represent the number of different ways in which $n$ coins can be separated into piles. For example, five coins can be separated into piles in exactly seven different ways, so $p(5)=7$.</p>\n",
    "<div class=\"margin_left\">\n",
    "OOOOO<br>\n",
    "OOOO   O<br>\n",
    "OOO   OO<br>\n",
    "OOO   O   O<br>\n",
    "OO   OO   O<br>\n",
    "OO   O   O   O<br>\n",
    "O   O   O   O   O\n",
    "</div>\n",
    "<p>Find the least value of $n$ for which $p(n)$ is divisible by one million.</p>"
   ]
  },
  {
   "cell_type": "code",
   "execution_count": 1,
   "id": "61e89091-7e5b-42d9-b452-fd085af42f6e",
   "metadata": {},
   "outputs": [],
   "source": [
    "import math\n",
    "import time"
   ]
  },
  {
   "cell_type": "code",
   "execution_count": 2,
   "id": "9ec4dc91-784c-478a-acc1-ffc09b2fb17e",
   "metadata": {},
   "outputs": [],
   "source": [
    "def pentagonal_numbers_dict(n):\n",
    "    for k in range(1,n+1):\n",
    "        yield k*(3*k-1)/2 , (-1)**(k-1)\n",
    "        yield k*(3*k+1)/2 , (-1)**(k-1)\n",
    "        \n",
    "def pentagonal_numbers(n):\n",
    "    for k in range(1,n+1):\n",
    "        yield int(k*(3*k-1)/2)\n",
    "        yield int(k*(3*k+1)/2)"
   ]
  },
  {
   "cell_type": "code",
   "execution_count": 6,
   "id": "de1dce81-3f30-4ba5-a502-617cb0d1e84d",
   "metadata": {},
   "outputs": [],
   "source": [
    "pent_list = [i for i in pentagonal_numbers(1000)]"
   ]
  },
  {
   "cell_type": "code",
   "execution_count": 7,
   "id": "288dbc10-5c30-4c44-8e2c-5a54d2988d02",
   "metadata": {},
   "outputs": [],
   "source": [
    "def count_partitions(n, cache, pent_list):\n",
    "    if n in cache: return cache[n]\n",
    "    else: cache[n] = 0\n",
    "    for x,i in enumerate(pent_list):\n",
    "        if n-i < 0: break\n",
    "        if n-i not in cache: count_partitions(n-i,cache,pent_list)\n",
    "        cache[n] += cache[n-i]*(-1)**(x//2)"
   ]
  },
  {
   "cell_type": "code",
   "execution_count": 8,
   "id": "f9e70749-cec1-4efc-9411-dc152dab10b2",
   "metadata": {},
   "outputs": [],
   "source": [
    "cache = {0:1}"
   ]
  },
  {
   "cell_type": "code",
   "execution_count": 12,
   "id": "c305ab60-ad09-4446-a001-de24ecb6bdf4",
   "metadata": {},
   "outputs": [
    {
     "data": {
      "text/plain": [
       "{0: 1, 1: 1, 2: 2, 3: 3, 4: 5, 5: 7}"
      ]
     },
     "execution_count": 12,
     "metadata": {},
     "output_type": "execute_result"
    }
   ],
   "source": [
    "for k in range(0,6):\n",
    "    count_partitions(k,cache,pent_list)\n",
    "cache"
   ]
  },
  {
   "cell_type": "code",
   "execution_count": 76,
   "id": "7acd83d1-5478-43bf-a7f1-49e0280d9db3",
   "metadata": {},
   "outputs": [
    {
     "name": "stdout",
     "output_type": "stream",
     "text": [
      "The answer is n = 55374\n",
      "Time taken: 10.15000s \n",
      "With total combinations: 36325300925435785930832331577396761646715836173633893227071086460709268608053489541731404543537668438991170680745272159154493740615385823202158167635276250554555342115855424598920159035413044811245082197335097953570911884252410730174907784762924663654000000\n"
     ]
    }
   ],
   "source": [
    "start_time = time.perf_counter()\n",
    "k = 0\n",
    "l = 0\n",
    "while True:\n",
    "    k += 1\n",
    "    count_partitions(k,cache,pent_list)\n",
    "    if cache[k] % 1_000_000 == 0: break\n",
    "    if k > 100000: break\n",
    "    \n",
    "end_time = time.perf_counter()\n",
    "time_taken = end_time - start_time\n",
    "print(f'The answer is n = {k}\\nTime taken: {time_taken:.5f}s \\nWith total combinations: {cache[k]}')"
   ]
  }
 ],
 "metadata": {
  "kernelspec": {
   "display_name": "Python 3 (ipykernel)",
   "language": "python",
   "name": "python3"
  },
  "language_info": {
   "codemirror_mode": {
    "name": "ipython",
    "version": 3
   },
   "file_extension": ".py",
   "mimetype": "text/x-python",
   "name": "python",
   "nbconvert_exporter": "python",
   "pygments_lexer": "ipython3",
   "version": "3.9.13"
  }
 },
 "nbformat": 4,
 "nbformat_minor": 5
}
