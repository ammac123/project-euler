{
 "cells": [
  {
   "cell_type": "code",
   "execution_count": null,
   "metadata": {},
   "outputs": [],
   "source": [
    "# Function to find all primes that can be made using all of the digits in a given string\n",
    "from itertools import permutations, combinations\n",
    "from sympy.ntheory import isprime\n",
    "\n",
    "def find_all_prime_permutations(digits):\n",
    "    primes = set()\n",
    "    for perm in permutations(digits):\n",
    "        num = int(''.join(perm))\n",
    "        if isprime(num):\n",
    "            primes.add(num)\n",
    "    return primes\n",
    "\n",
    "# Example usage\n",
    "digits = '131'\n",
    "primes = find_all_prime_permutations(digits)\n",
    "print(f'Primes that can be made from the digits {digits}: {sorted(primes)}')\n"
   ]
  },
  {
   "cell_type": "code",
   "execution_count": null,
   "metadata": {},
   "outputs": [],
   "source": [
    "def find_combinations(target, start=1, current=[], results=[]):\n",
    "    if target == 0:\n",
    "        if current.count(1) < 10:\n",
    "            results.append(current)  # Add the current combination to the results list\n",
    "        return\n",
    "    for i in range(target, start-1, -1):\n",
    "        find_combinations(target - i, i, current + [i], results)\n",
    "\n",
    "    return results  # Return the results once all combinations are found\n",
    "\n",
    "# Call the function for the target sum of 10 and store the results\n",
    "number_combinations = find_combinations(9)\n",
    "\n",
    "# Print the list of combinations\n",
    "print(number_combinations)\n"
   ]
  },
  {
   "cell_type": "code",
   "execution_count": 17,
   "metadata": {},
   "outputs": [],
   "source": [
    "def count_prime_sets(digits, list_struct):\n",
    "    def helper(digits, list_struct, current_set, all_sets):\n",
    "        if not list_struct:\n",
    "            if not digits:\n",
    "                all_sets.add(frozenset(current_set))\n",
    "            return\n",
    "        for comb in combinations(digits, list_struct[0]):\n",
    "            prime_permutations = find_all_prime_permutations(comb)\n",
    "            if prime_permutations:\n",
    "                remaining_digits = digits - set(comb)\n",
    "                for prime in prime_permutations:\n",
    "                    helper(remaining_digits, list_struct[1:], current_set | {prime}, all_sets)\n",
    "\n",
    "    all_sets = set()\n",
    "    helper(digits, list_struct, set(), all_sets)\n",
    "    return len(all_sets)\n"
   ]
  },
  {
   "cell_type": "code",
   "execution_count": 20,
   "metadata": {},
   "outputs": [
    {
     "name": "stdout",
     "output_type": "stream",
     "text": [
      "The number of distinct prime sets that can be made is 44680\n"
     ]
    }
   ],
   "source": [
    "result = 0\n",
    "digits = set('123456789')\n",
    "for num in number_combinations:\n",
    "    result += count_prime_sets(digits, num)\n",
    "\n",
    "print(f'The number of distinct prime sets that can be made is {result}')\n"
   ]
  }
 ],
 "metadata": {
  "kernelspec": {
   "display_name": "Python 3",
   "language": "python",
   "name": "python3"
  },
  "language_info": {
   "codemirror_mode": {
    "name": "ipython",
    "version": 3
   },
   "file_extension": ".py",
   "mimetype": "text/x-python",
   "name": "python",
   "nbconvert_exporter": "python",
   "pygments_lexer": "ipython3",
   "version": "3.13.1"
  }
 },
 "nbformat": 4,
 "nbformat_minor": 2
}
