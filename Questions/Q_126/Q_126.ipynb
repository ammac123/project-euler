{
 "cells": [
  {
   "cell_type": "code",
   "execution_count": 2,
   "metadata": {},
   "outputs": [],
   "source": [
    "class Cuboid():\n",
    "    def __init__(self, width, height, depth, layer):\n",
    "        self.width = width\n",
    "        self.height = height\n",
    "        self.depth = depth\n",
    "        self.layer = layer\n",
    "        self.volume = self.calculate()\n",
    "\n",
    "    def calculate(self):\n",
    "        result = 2 * (self.height*self.width + self.width*self.depth + self.depth*self.height)\n",
    "        if self.layer == 1:\n",
    "            return result\n",
    "        \n",
    "        increment = 4 * (self.height + self.width + self.depth)\n",
    "        for _ in range(2, self.layer + 1):\n",
    "            result += increment\n",
    "            increment += 8\n",
    "\n",
    "        return result\n",
    "    \n",
    "    def __repr__(self):\n",
    "            cls = self.__class__.__name__\n",
    "            return f'{cls}(width={self.width!r}, height={self.height!r}, depth={self.depth!r}, layer={self.layer!r})'\n",
    "\n",
    "    def __lt__(self, other):\n",
    "        if (self.volume < other.volume): return True\n",
    "        if (self.volume > other.volume): return False\n",
    "        \n",
    "        if (self.width < other.width): return True\n",
    "        if (self.width > other.width): return False\n",
    "        if (self.height < other.height): return True\n",
    "        if (self.height > other.height): return False\n",
    "        if (self.depth < other.depth): return True\n",
    "        if (self.depth > other.depth): return False\n",
    "\n",
    "        return (self.layer < other.layer)\n",
    "    \n",
    "def fast_enumerate(stopIf: int, maxVolume: int, count:list):\n",
    "    x = 1\n",
    "    while Cuboid(x,1,1,1).volume <= maxVolume:\n",
    "        y = 1\n",
    "        while (Cuboid(x,y,1,1).volume <= maxVolume) and (y <= x):\n",
    "            z = 1\n",
    "            while (Cuboid(x,y,z,1).volume <= maxVolume) and (z <= y):\n",
    "                layer = 1\n",
    "                while True:\n",
    "                    current_vol = Cuboid(x,y,z,layer).volume\n",
    "                    \n",
    "                    if (current_vol > maxVolume):\n",
    "                        break\n",
    "                    count[current_vol] += 1\n",
    "                    layer += 1\n",
    "                    \n",
    "                z += 1\n",
    "            y += 1\n",
    "        x += 1\n",
    "\n",
    "    for idx, i in enumerate(count):\n",
    "        if i == stopIf:\n",
    "            return idx\n",
    "        \n",
    "    return 0\n",
    "\n",
    "def main(stopIf, stepSize):\n",
    "    maxVolume = stepSize\n",
    "    count = [0]*(maxVolume+1)\n",
    "    while True:    \n",
    "        res = fast_enumerate(stopIf=stopIf, maxVolume=maxVolume, count=count)\n",
    "        \n",
    "        if res != 0:\n",
    "            return res\n",
    "        maxVolume += stepSize\n",
    "        count = [0]*(maxVolume+1)"
   ]
  },
  {
   "cell_type": "code",
   "execution_count": 6,
   "metadata": {},
   "outputs": [
    {
     "name": "stdout",
     "output_type": "stream",
     "text": [
      "The least value of n for which C(n) = 1000 is: 18,522\n"
     ]
    }
   ],
   "source": [
    "n_to_find = 1000\n",
    "step_size = 10_000\n",
    "result = main(n_to_find, step_size)\n",
    "\n",
    "print(f'The least value of n for which C(n) = {n_to_find} is: {result:,}')"
   ]
  }
 ],
 "metadata": {
  "kernelspec": {
   "display_name": "Python 3",
   "language": "python",
   "name": "python3"
  },
  "language_info": {
   "codemirror_mode": {
    "name": "ipython",
    "version": 3
   },
   "file_extension": ".py",
   "mimetype": "text/x-python",
   "name": "python",
   "nbconvert_exporter": "python",
   "pygments_lexer": "ipython3",
   "version": "3.13.1"
  }
 },
 "nbformat": 4,
 "nbformat_minor": 2
}
