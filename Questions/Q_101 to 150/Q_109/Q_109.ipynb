{
 "cells": [
  {
   "cell_type": "markdown",
   "id": "5ad7c924-6f0f-40e8-904b-83502e355dfd",
   "metadata": {},
   "source": [
    "### Problem 109: Darts\n",
    "<p>In the game of darts a player throws three darts at a target board which is split into twenty equal sized sections numbered one to twenty.</p>\r\n",
    "<div class=\"center\">\r\n",
    "<img srchttps://projecteuler.net/=\"project/images/p109.png\" class=\"dark_img\" alt=\"\" /><br /></div>\r\n",
    "<p>The score of a dart is determined by the number of the region that the dart lands in. A dart landing outside the red/green outer ring scores zero. The black and cream regions inside this ring represent single scores. However, the red/green outer ring and middle ring score double and treble scores respectively.</p>\r\n",
    "<p>At the centre of the board are two concentric circles called the bull region, or bulls-eye. The outer bull is worth 25 points and the inner bull is a double, worth 50 points.</p>\r\n",
    "<p>There are many variations of rules but in the most popular game the players will begin with a score 301 or 501 and the first player to reduce their running total to zero is a winner. However, it is normal to play a \"doubles out\" system, which means that the player must land a double (including the double bulls-eye at the centre of the board) on their final dart to win; any other dart that would reduce their running total to one or lower means the score for that set of three darts is \"bust\".</p>\r\n",
    "<p>When a player is able to finish  on their current score it is called a \"checkout\" and the highest checkout is 170: T20 T20 D25 (two treble 20s and double bull).</p>\r\n",
    "<p>There are exactly eleven distinct ways to checkout on a score of 6:</p>\r\n",
    "<div class=\"center monospace\">\r\n",
    "<table class=\"center\"><tr><td>     </td>\r\n",
    "<td>     </td>\r\n",
    "<td>     </td>\r\n",
    "</tr><tr><td>D3</td><td></td><td></td></tr><tr><td>D1</td><td>D2</td><td></td></tr><tr><td>S2</td><td>D2</td><td></td></tr><tr><td>D2</td><td>D1</td><td></td></tr><tr><td>S4</td><td>D1</td><td></td></tr><tr><td>S1</td><td>S1</td><td>D2</td></tr><tr><td>S1</td><td>T1</td><td>D1</td></tr><tr><td>S1</td><td>S3</td><td>D1</td></tr><tr><td>D1</td><td>D1</td><td>D1</td></tr><tr><td>D1</td><td>S2</td><td>D1</td></tr><tr><td>S2</td><td>S2</td><td>D1</td></tr></table></div>\r\n",
    "<p>Note that D1 D2 is considered <b>different</b> to D2 D1 as they finish on different doubles. However, the combination S1 T1 D1 is considered the <b>same</b> as T1 S1 D1.</p>\r\n",
    "<p>In addition we shall not include misses in considering combinations; for example, D3 is the <b>same</b> as 0 D3 and 0 0 D3.</p>\r\n",
    "<p>Incredibly there are 42336 distinct ways of checking out in total.</p>\r\n",
    "<p>How many distinct ways can a player checkout with a score less than 100?</p>\r\n"
   ]
  },
  {
   "cell_type": "code",
   "execution_count": 1,
   "id": "278819dd-59cb-4fba-9315-7701fae338d2",
   "metadata": {},
   "outputs": [],
   "source": [
    "from itertools import combinations_with_replacement"
   ]
  },
  {
   "cell_type": "code",
   "execution_count": 17,
   "id": "931b3429-46af-4f0b-baa3-22077f81ee9b",
   "metadata": {},
   "outputs": [],
   "source": [
    "singles = ['S'+str(x) for x in range(1,21)] + ['S25']\n",
    "doubles = ['D'+str(x) for x in range(1,21)] + ['D25']\n",
    "triples = ['T'+str(x) for x in range(1,21)]\n",
    "full = singles+doubles+triples"
   ]
  },
  {
   "cell_type": "code",
   "execution_count": 9,
   "id": "0822ecea-abf2-46d8-ae42-c564b7901ef9",
   "metadata": {},
   "outputs": [],
   "source": [
    "def convert_dart_to_number(s):\n",
    "    multi = s[0]\n",
    "    number = int(s[1:])\n",
    "    if multi == 'D':\n",
    "        return number*2\n",
    "    elif multi == 'T':\n",
    "        return number*3\n",
    "    else:\n",
    "        return number"
   ]
  },
  {
   "cell_type": "code",
   "execution_count": 71,
   "id": "4b16d0ca-b728-40d2-b971-9759760ba4e5",
   "metadata": {},
   "outputs": [],
   "source": [
    "base_case = {convert_dart_to_number(s):s for s in doubles}"
   ]
  },
  {
   "cell_type": "code",
   "execution_count": 72,
   "id": "ae366597-5eff-4c05-b3c3-7ce4adc5fb94",
   "metadata": {},
   "outputs": [],
   "source": [
    "second_case = {}\n",
    "for key, value in base_case.items():\n",
    "    for x in full:\n",
    "        val = convert_dart_to_number(x) + key\n",
    "        if val not in second_case:\n",
    "            second_case[val] = [[value,x]]\n",
    "        else:\n",
    "            second_case[val] += [[value,x]]"
   ]
  },
  {
   "cell_type": "code",
   "execution_count": 73,
   "id": "174cff97-68b0-4f6f-8031-3c4551543226",
   "metadata": {},
   "outputs": [],
   "source": [
    "third_case = {}\n",
    "for key, value in base_case.items():\n",
    "    for x in full:\n",
    "        for y in full:\n",
    "            val = convert_dart_to_number(x) + convert_dart_to_number(y) + key\n",
    "            if val not in third_case:\n",
    "                third_case[val] = [[value,x,y]]\n",
    "            elif [value,y,x] not in third_case[val]:\n",
    "                third_case[val] += [[value,x,y]]"
   ]
  },
  {
   "cell_type": "code",
   "execution_count": 113,
   "id": "31760e39-8d2c-4775-9b22-5ab8c163aacd",
   "metadata": {},
   "outputs": [],
   "source": [
    "count = 0\n",
    "for value in base_case.values():\n",
    "    count += len([value])\n",
    "for value in second_case.values():\n",
    "    count += len(value)\n",
    "for value in third_case.values():\n",
    "    count += len(value)"
   ]
  },
  {
   "cell_type": "code",
   "execution_count": 119,
   "id": "8aa896ff-6fd5-4ca6-bd59-3b2830782f1c",
   "metadata": {},
   "outputs": [],
   "source": [
    "def finishes_from_x(x):\n",
    "    if x in base_case:\n",
    "        s1 = [[base_case[x]]]\n",
    "    else:\n",
    "        s1 = list()\n",
    "    if x in second_case:\n",
    "        s2 = list(second_case[x])\n",
    "    else:\n",
    "        s2 = list()\n",
    "    if x in third_case:\n",
    "        s3 = list(third_case[x])\n",
    "    else:\n",
    "        s3 = list()\n",
    "    res = list(s1 + s2 + s3)\n",
    "    return len(res)"
   ]
  },
  {
   "cell_type": "code",
   "execution_count": 122,
   "id": "fd39bfc3-0fd8-48e3-a55f-28012c3800e8",
   "metadata": {},
   "outputs": [
    {
     "name": "stdout",
     "output_type": "stream",
     "text": [
      "38182\n"
     ]
    }
   ],
   "source": [
    "count = 0\n",
    "for i in range(100):\n",
    "    count += finishes_from_x(i)\n",
    "print(count)"
   ]
  }
 ],
 "metadata": {
  "kernelspec": {
   "display_name": "Python 3 (ipykernel)",
   "language": "python",
   "name": "python3"
  },
  "language_info": {
   "codemirror_mode": {
    "name": "ipython",
    "version": 3
   },
   "file_extension": ".py",
   "mimetype": "text/x-python",
   "name": "python",
   "nbconvert_exporter": "python",
   "pygments_lexer": "ipython3",
   "version": "3.11.6"
  }
 },
 "nbformat": 4,
 "nbformat_minor": 5
}
