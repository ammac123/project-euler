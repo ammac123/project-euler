{
 "cells": [
  {
   "cell_type": "code",
   "execution_count": 27,
   "metadata": {},
   "outputs": [
    {
     "data": {
      "text/plain": [
       "1000000000.0"
      ]
     },
     "execution_count": 27,
     "metadata": {},
     "output_type": "execute_result"
    }
   ],
   "source": [
    "10e8"
   ]
  },
  {
   "cell_type": "code",
   "execution_count": 48,
   "metadata": {},
   "outputs": [
    {
     "name": "stdout",
     "output_type": "stream",
     "text": [
      "2906969179\n"
     ]
    }
   ],
   "source": [
    "from sympy import ntheory\n",
    "\n",
    "n = int(10**8)\n",
    "\n",
    "n_len = int((n)**(1/2))\n",
    "\n",
    "square_list = [x**2 for x in range(1,n_len)]\n",
    "\n",
    "palindrome_set = set()\n",
    "\n",
    "\n",
    "for i in range(2, len(square_list)):\n",
    "    for j in range(0,len(square_list)+1 - i):\n",
    "        potential = sum(square_list[j:j+i])\n",
    "        if potential >= n:\n",
    "            break\n",
    "        if ntheory.is_palindromic(potential):\n",
    "            palindrome_set.add(potential)\n",
    "\n",
    "result = sum(palindrome_set)\n",
    "print(f'{result}')"
   ]
  }
 ],
 "metadata": {
  "kernelspec": {
   "display_name": "Python 3",
   "language": "python",
   "name": "python3"
  },
  "language_info": {
   "codemirror_mode": {
    "name": "ipython",
    "version": 3
   },
   "file_extension": ".py",
   "mimetype": "text/x-python",
   "name": "python",
   "nbconvert_exporter": "python",
   "pygments_lexer": "ipython3",
   "version": "3.13.1"
  }
 },
 "nbformat": 4,
 "nbformat_minor": 2
}
