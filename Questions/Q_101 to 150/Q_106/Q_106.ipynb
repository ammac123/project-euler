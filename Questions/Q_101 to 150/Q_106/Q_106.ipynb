{
 "cells": [
  {
   "cell_type": "markdown",
   "id": "1daca128-a5e2-4f0e-b272-9442da224fcf",
   "metadata": {},
   "source": [
    "### Problem 106: Special Subset Sums: Meta-testing\n",
    "<p>Let $S(A)$ represent the sum of elements in set $A$ of size $n$. We shall call it a special sum set if for any two non-empty disjoint subsets, $B$ and $C$, the following properties are true:</p>\n",
    "<ol><li>$S(B) \\ne S(C)$; that is, sums of subsets cannot be equal.</li>\n",
    "<li>If $B$ contains more elements than $C$ then $S(B) \\gt S(C)$.</li>\n",
    "</ol><p>For this problem we shall assume that a given set contains $n$ strictly increasing elements and it already satisfies the second rule.</p>\n",
    "<p>Surprisingly, out of the $25$ possible subset pairs that can be obtained from a set for which $n = 4$, only $1$ of these pairs need to be tested for equality (first rule). Similarly, when $n = 7$, only $70$ out of the $966$ subset pairs need to be tested.</p>\n",
    "<p>For $n = 12$, how many of the $261625$ subset pairs that can be obtained need to be tested for equality?</p>\n",
    "<p class=\"smaller\">NOTE: This problem is related to <a href=\"problem=103\">Problem 103</a> and <a href=\"problem=105\">Problem 105</a>.</p>"
   ]
  },
  {
   "cell_type": "code",
   "execution_count": 144,
   "id": "1cb2b225-fd2b-4700-b892-bf004391fb7b",
   "metadata": {},
   "outputs": [],
   "source": [
    "import os\n",
    "import time\n",
    "from itertools import combinations\n",
    "from collections import Counter"
   ]
  },
  {
   "cell_type": "code",
   "execution_count": 239,
   "id": "4330f59b-a03b-4baf-a2ad-7136f735eb42",
   "metadata": {},
   "outputs": [],
   "source": [
    "def are_all_elements_less(list1, list2):\n",
    "    # Use nested loops to compare each element in list1 with all values in list2\n",
    "    for element1 in list1:\n",
    "        for element2 in list2:\n",
    "            if element1 >= element2:\n",
    "                return False\n",
    "    return True"
   ]
  },
  {
   "cell_type": "code",
   "execution_count": 240,
   "id": "e9580afd-c268-443e-a347-c2d884db949a",
   "metadata": {},
   "outputs": [],
   "source": [
    "def check_lists(list2,list1):\n",
    "    collection1 = [x for x in list1]\n",
    "    \n",
    "    collection2 = [x for x in list2]\n",
    "    \n",
    "    # Initialize Counters for each collection\n",
    "    counter1 = Counter()\n",
    "    counter2 = Counter()\n",
    "    \n",
    "    # Count the occurrences in the first collection\n",
    "    for sublist in collection1:\n",
    "        counter1.update(sublist)\n",
    "\n",
    "    # Count the occurrences in the second collection\n",
    "    for sublist in collection2:\n",
    "        counter2.update(sublist)\n",
    "        \n",
    "    # Calculate the difference in counts\n",
    "    difference_counts = {}\n",
    "    \n",
    "    # Calculate the difference for elements in collection1\n",
    "    for element, count in counter1.items():\n",
    "        difference_counts[element] = count - counter2[element]\n",
    "\n",
    "    # Calculate the difference for elements in collection2\n",
    "    for element, count in counter2.items():\n",
    "        if element not in difference_counts:\n",
    "            difference_counts[element] = -count\n",
    "\n",
    "    \n",
    "    # print(difference_counts)\n",
    "    # Print the difference in counts\n",
    "    list1_empty = all([difference_counts[ele]<=0 for ele in counter1.keys()])\n",
    "    list2_empty = all([difference_counts[ele]>=0 for ele in counter2.keys()])\n",
    "    \n",
    "    \n",
    "    if list1_empty or list2_empty:\n",
    "        return False\n",
    "    else:\n",
    "        return True"
   ]
  },
  {
   "cell_type": "code",
   "execution_count": 260,
   "id": "f5efaf89-57fb-4eb1-83ec-313f77b38f99",
   "metadata": {},
   "outputs": [],
   "source": [
    "def check_lists(number1,number2):\n",
    "    # Ensure the numbers have the same length by padding with leading zeros if needed\n",
    "    max_len = max(len(number1), len(number2))\n",
    "    number1 = number1.zfill(max_len)\n",
    "    number2 = number2.zfill(max_len)\n",
    "\n",
    "    # Initialize an empty list to store the results of pairwise subtraction\n",
    "    result1 = []\n",
    "    result2 = []\n",
    "\n",
    "    # Perform pairwise subtraction and append the results to the list\n",
    "    for digit1, digit2 in zip(number1, number2):\n",
    "        result_digit = max(int(digit1) - int(digit2),0)\n",
    "        result1.append(result_digit)\n",
    "\n",
    "    # Perform pairwise subtraction and append the results to the list\n",
    "    for digit2, digit1 in zip(number1, number2):\n",
    "        result_digit = max(int(digit1) - int(digit2),0)\n",
    "        result2.append(result_digit)\n",
    "\n",
    "    # Convert the result list back to a string\n",
    "    result_str1 = int(\"\".join(map(str, result1)))\n",
    "    result_str2 = int(\"\".join(map(str, result2)))\n",
    "\n",
    "    # Print the result\n",
    "    if result_str1 == 0 or result_str2 == 0:\n",
    "        return False\n",
    "    return True"
   ]
  },
  {
   "cell_type": "code",
   "execution_count": 261,
   "id": "67ab5313-2d3c-40bb-b19e-465800cd6d49",
   "metadata": {},
   "outputs": [],
   "source": [
    "def special_set_sum(A):\n",
    "    specialSetList = []\n",
    "    for i in range(1,(len(A)//2)+1):\n",
    "        print(i)\n",
    "        B = combinations(A,i)\n",
    "        for combsB in B:\n",
    "            if len(combsB)==1: continue\n",
    "            subA = [a for a in A if a not in combsB]\n",
    "            C = combinations(subA,len(combsB))\n",
    "            for combsC in C:\n",
    "                if are_all_elements_less(combsB,combsC) or are_all_elements_less(combsC,combsB): continue\n",
    "                if (combsC,combsB) in specialSetList: continue\n",
    "                if (combsB,combsC) in specialSetList: continue\n",
    "                combsIncrementsC = str(sum([incrementMap[i] for i in combsC])).zfill(12)\n",
    "                combsIncrementsB = str(sum([incrementMap[i] for i in combsB])).zfill(12)\n",
    "                if check_lists(combsIncrementsC,combsIncrementsB): \n",
    "                    specialSetList.append((combsB,combsC))\n",
    "    \n",
    "    return specialSetList"
   ]
  },
  {
   "cell_type": "code",
   "execution_count": 267,
   "id": "c5a52660-3d24-4d03-9602-298623681039",
   "metadata": {},
   "outputs": [],
   "source": [
    "incrementList = [1, 10, 100, 1000 , 10000, 100000, 1000000, 10000000, 100000000, 1000000000, 10000000000, 100000000000, 1000000000000]\n",
    "\n",
    "n = 12\n",
    "incrementMap = [sum(incrementList[0:i+1]) for i in range(n)]\n",
    "test = [i for i in range(n)]\n"
   ]
  },
  {
   "cell_type": "code",
   "execution_count": 268,
   "id": "addb4f14-362c-4dc2-9685-ea67e7bd6917",
   "metadata": {},
   "outputs": [
    {
     "name": "stdout",
     "output_type": "stream",
     "text": [
      "1\n",
      "2\n",
      "3\n",
      "4\n",
      "5\n",
      "6\n",
      "21384\n"
     ]
    }
   ],
   "source": [
    "setList = special_set_sum(test)\n",
    "print(len(setList))"
   ]
  },
  {
   "cell_type": "code",
   "execution_count": null,
   "id": "447ba659-d5c8-4cda-880d-9972f3453bb5",
   "metadata": {},
   "outputs": [],
   "source": []
  }
 ],
 "metadata": {
  "kernelspec": {
   "display_name": "Python 3 (ipykernel)",
   "language": "python",
   "name": "python3"
  },
  "language_info": {
   "codemirror_mode": {
    "name": "ipython",
    "version": 3
   },
   "file_extension": ".py",
   "mimetype": "text/x-python",
   "name": "python",
   "nbconvert_exporter": "python",
   "pygments_lexer": "ipython3",
   "version": "3.9.13"
  }
 },
 "nbformat": 4,
 "nbformat_minor": 5
}
