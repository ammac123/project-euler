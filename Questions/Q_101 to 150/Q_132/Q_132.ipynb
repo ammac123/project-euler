{
 "cells": [
  {
   "cell_type": "code",
   "execution_count": 63,
   "metadata": {},
   "outputs": [],
   "source": [
    "def sieve(n):\n",
    "    prime = [True for i in range(n+1)]\n",
    "    p = 2\n",
    "    while (p*p <= n):\n",
    "        \n",
    "        if (prime[p] == True):\n",
    "\n",
    "            for i in range(p * p, n+1, p):\n",
    "                prime[i] = False\n",
    "\n",
    "        p += 1\n",
    "    \n",
    "    res = [idx for idx, _ in enumerate(prime) if _]\n",
    "    return res[2:]"
   ]
  },
  {
   "cell_type": "code",
   "execution_count": 75,
   "metadata": {},
   "outputs": [],
   "source": [
    "def find_sum_prime_factors(n, repUnit, sieveMax=500_000):\n",
    "    prime_potentials = sieve(sieveMax)\n",
    "    count = []\n",
    "    for prime in prime_potentials:\n",
    "        if pow(10, repUnit, 9*prime) == 1:\n",
    "            count += [prime]\n",
    "        if len(count) >= n:\n",
    "            return sum(count)\n",
    "    \n",
    "    if len(count) < n:\n",
    "        print(f'Only the first {len(count)} prime factors exist below {sieveMax}. Try a larger number.')\n",
    "    return None\n",
    "    "
   ]
  },
  {
   "cell_type": "code",
   "execution_count": 84,
   "metadata": {},
   "outputs": [
    {
     "name": "stdout",
     "output_type": "stream",
     "text": [
      "The sum of the first 40 prime factors of R(10^9) is 843296\n"
     ]
    }
   ],
   "source": [
    "res = find_sum_prime_factors(40, 10**9)\n",
    "print(f'The sum of the first 40 prime factors of R(10^9) is {res}')"
   ]
  }
 ],
 "metadata": {
  "kernelspec": {
   "display_name": "Python 3",
   "language": "python",
   "name": "python3"
  },
  "language_info": {
   "codemirror_mode": {
    "name": "ipython",
    "version": 3
   },
   "file_extension": ".py",
   "mimetype": "text/x-python",
   "name": "python",
   "nbconvert_exporter": "python",
   "pygments_lexer": "ipython3",
   "version": "3.13.1"
  }
 },
 "nbformat": 4,
 "nbformat_minor": 2
}
