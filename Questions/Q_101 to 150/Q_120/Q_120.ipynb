{
 "cells": [
  {
   "cell_type": "code",
   "execution_count": 54,
   "metadata": {},
   "outputs": [
    {
     "name": "stdout",
     "output_type": "stream",
     "text": [
      "333082500\n"
     ]
    }
   ],
   "source": [
    "count = 0\n",
    "for i in range(3,1001):\n",
    "    if i % 2 == 0:\n",
    "        count += (i**2) - (i*2)\n",
    "    if i % 2 == 1:\n",
    "        count += (i**2) - (i*1)\n",
    "\n",
    "print(count)"
   ]
  }
 ],
 "metadata": {
  "kernelspec": {
   "display_name": "Python 3",
   "language": "python",
   "name": "python3"
  },
  "language_info": {
   "codemirror_mode": {
    "name": "ipython",
    "version": 3
   },
   "file_extension": ".py",
   "mimetype": "text/x-python",
   "name": "python",
   "nbconvert_exporter": "python",
   "pygments_lexer": "ipython3",
   "version": "3.13.1"
  }
 },
 "nbformat": 4,
 "nbformat_minor": 2
}
