{
 "cells": [
  {
   "cell_type": "code",
   "execution_count": 167,
   "metadata": {},
   "outputs": [],
   "source": [
    "import itertools\n",
    "def digital_sum(string):\n",
    "    if isinstance(string, int):\n",
    "        string = str(string)\n",
    "    return sum(int(x) for x in string)\n"
   ]
  },
  {
   "cell_type": "code",
   "execution_count": 175,
   "metadata": {},
   "outputs": [
    {
     "name": "stdout",
     "output_type": "stream",
     "text": [
      "The 30th digital sum power is 248,155,780,267,521\n"
     ]
    }
   ],
   "source": [
    "n = 100\n",
    "digital_prime_sums = set()\n",
    "\n",
    "for base in range(2, n):\n",
    "    value = base * base\n",
    "    while value < 2**n:\n",
    "        if digital_sum(value) == base:\n",
    "            digital_prime_sums.add(value)\n",
    "        value *= base\n",
    "\n",
    "digital_prime_sums = sorted(digital_prime_sums)\n",
    "print(f'The 30th digital sum power is {digital_prime_sums[29]:,}')\n"
   ]
  }
 ],
 "metadata": {
  "kernelspec": {
   "display_name": "Python 3",
   "language": "python",
   "name": "python3"
  },
  "language_info": {
   "codemirror_mode": {
    "name": "ipython",
    "version": 3
   },
   "file_extension": ".py",
   "mimetype": "text/x-python",
   "name": "python",
   "nbconvert_exporter": "python",
   "pygments_lexer": "ipython3",
   "version": "3.13.1"
  }
 },
 "nbformat": 4,
 "nbformat_minor": 2
}
