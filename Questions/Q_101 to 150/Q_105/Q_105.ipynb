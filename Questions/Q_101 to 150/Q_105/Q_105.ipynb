{
 "cells": [
  {
   "cell_type": "markdown",
   "id": "cbc36861-a194-494f-9f91-73afedce35f1",
   "metadata": {},
   "source": [
    "### Problem 105: Special Subset Sums: Testing\n",
    "<p>Let $S(A)$ represent the sum of elements in set $A$ of size $n$. We shall call it a special sum set if for any two non-empty disjoint subsets, $B$ and $C$, the following properties are true:</p>\n",
    "<ol><li>$S(B) \\ne S(C)$; that is, sums of subsets cannot be equal.</li>\n",
    "<li>If $B$ contains more elements than $C$ then $S(B) \\gt S(C)$.</li>\n",
    "</ol><p>For example, $\\{81, 88, 75, 42, 87, 84, 86, 65\\}$ is not a special sum set because $65 + 87 + 88 = 75 + 81 + 84$, whereas $\\{157, 150, 164, 119, 79, 159, 161, 139, 158\\}$ satisfies both rules for all possible subset pair combinations and $S(A) = 1286$.</p>\n",
    "<p>Using <a href=\"resources/documents/0105_sets.txt\">sets.txt</a> (right click and \"Save Link/Target As...\"), a 4K text file with one-hundred sets containing seven to twelve elements (the two examples given above are the first two sets in the file), identify all the special sum sets, $A_1, A_2, \\dots, A_k$, and find the value of $S(A_1) + S(A_2) + \\cdots + S(A_k)$.</p>\n",
    "<p class=\"smaller\">NOTE: This problem is related to <a href=\"problem=103\">Problem 103</a> and <a href=\"problem=106\">Problem 106</a>.</p>"
   ]
  },
  {
   "cell_type": "code",
   "execution_count": 14,
   "id": "05e74971-34c0-46e9-ae04-a6e7a62a0297",
   "metadata": {},
   "outputs": [],
   "source": [
    "import os\n",
    "import time\n",
    "from itertools import combinations"
   ]
  },
  {
   "cell_type": "code",
   "execution_count": 15,
   "id": "60c5fd56-881f-40e9-af3c-7e464981f5b9",
   "metadata": {},
   "outputs": [],
   "source": [
    "with open(os.path.join(os.path.dirname(os.getcwd()),'xxx_ProjectEulerData','0105_sets.txt')) as file:\n",
    "    file_contents = [[int(e) for e in pointList.split(',') if e] for pointList in file.read().split('\\n') if pointList.strip()]"
   ]
  },
  {
   "cell_type": "code",
   "execution_count": 25,
   "id": "8eb7ef6d-3e6b-4e03-a118-df6d36aad93f",
   "metadata": {},
   "outputs": [],
   "source": [
    "def special_set_sum(A):\n",
    "    for i in range(1,len(A)):\n",
    "        B = combinations(A,i)\n",
    "        for combsB in B:\n",
    "            subA = [a for a in A if a not in combsB]\n",
    "            for j in range(1,len(subA)+1):\n",
    "                C = combinations(subA,j)\n",
    "                for combsC in C:\n",
    "                    sumB = sum(combsB)\n",
    "                    sumC = sum(combsC)\n",
    "                    if sumB == sumC: return 0\n",
    "                    if (len(combsB) > len(combsC)) and (sumB < sumC): return 0\n",
    "                    if (len(combsB) < len(combsC)) and (sumB > sumC): return 0\n",
    "\n",
    "    return sum(A)"
   ]
  },
  {
   "cell_type": "code",
   "execution_count": 26,
   "id": "0826dd0b-8ec7-4872-906e-09bd961cdc0b",
   "metadata": {},
   "outputs": [],
   "source": [
    "def pe_105():\n",
    "    running_sum = 0\n",
    "    for A in file_contents:\n",
    "        running_sum += special_set_sum(A)\n",
    "    return running_sum"
   ]
  },
  {
   "cell_type": "code",
   "execution_count": 29,
   "id": "e235808b-aab4-4a3e-9b9f-2d9937d26b85",
   "metadata": {},
   "outputs": [
    {
     "name": "stdout",
     "output_type": "stream",
     "text": [
      "The sum of all special subsets A is : 73,702\n",
      "Time taken 2.87947s\n"
     ]
    }
   ],
   "source": [
    "time_start = time.perf_counter()\n",
    "result = pe_105()\n",
    "time_end = time.perf_counter()\n",
    "time_taken = time_end - time_start\n",
    "print(f'The sum of all special subsets A is : {result:,}\\nTime taken {time_taken:.5f}s')"
   ]
  }
 ],
 "metadata": {
  "kernelspec": {
   "display_name": "Python 3 (ipykernel)",
   "language": "python",
   "name": "python3"
  },
  "language_info": {
   "codemirror_mode": {
    "name": "ipython",
    "version": 3
   },
   "file_extension": ".py",
   "mimetype": "text/x-python",
   "name": "python",
   "nbconvert_exporter": "python",
   "pygments_lexer": "ipython3",
   "version": "3.9.13"
  }
 },
 "nbformat": 4,
 "nbformat_minor": 5
}
