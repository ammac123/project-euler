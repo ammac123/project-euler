{
 "cells": [
  {
   "cell_type": "code",
   "execution_count": 17,
   "metadata": {},
   "outputs": [
    {
     "name": "stdout",
     "output_type": "stream",
     "text": [
      "The first row length to exceed 1,000,000 for a min block length of 50 is 168 with a value of 1,053,389\n"
     ]
    }
   ],
   "source": [
    "# Function to count the number of ways a row of blocks of length n can be filled by blocks with a minimum length of x, while being separated by at least one blank square\n",
    "\n",
    "def count_block_threshold_function(min_block_len, threshold):\n",
    "    ways = [1] * min_block_len + [0]\n",
    "    i = min_block_len\n",
    "    while True:\n",
    "        ways[i] = ways[i-1] + sum(ways[:i - min_block_len]) + 1\n",
    "        if ways[i] > threshold:\n",
    "            return i, ways[i]\n",
    "        i += 1\n",
    "        ways += [0]\n",
    "\n",
    "min_block_len = 50\n",
    "threshold = 1_000_000\n",
    "result = count_block_threshold_function(min_block_len, threshold)\n",
    "print(f'The first row length to exceed {threshold:,} for a min block length of {min_block_len} is {result[0]} with a value of {result[1]:,}')"
   ]
  }
 ],
 "metadata": {
  "kernelspec": {
   "display_name": "Python 3",
   "language": "python",
   "name": "python3"
  },
  "language_info": {
   "codemirror_mode": {
    "name": "ipython",
    "version": 3
   },
   "file_extension": ".py",
   "mimetype": "text/x-python",
   "name": "python",
   "nbconvert_exporter": "python",
   "pygments_lexer": "ipython3",
   "version": "3.13.1"
  }
 },
 "nbformat": 4,
 "nbformat_minor": 2
}
