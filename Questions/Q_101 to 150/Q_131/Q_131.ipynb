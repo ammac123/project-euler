{
 "cells": [
  {
   "cell_type": "code",
   "execution_count": 145,
   "metadata": {},
   "outputs": [],
   "source": [
    "from sympy import ntheory\n",
    "import math"
   ]
  },
  {
   "cell_type": "markdown",
   "metadata": {},
   "source": [
    "There exist some primes, $p$, for which there is a positive integer, $n$, such that:\n",
    "    $$n^3 + n^2 p = k^3$$\n",
    "    $$where:\\quad k\\mod1 = 1$$\n",
    "\n",
    "$$ n^{3} + 2^{2} p = k^3 \\\\\n",
    "    n^2(n + p) = k^3 \\\\\n",
    "    (n + p) = \\frac{k^3}{n^2}\n",
    "$$"
   ]
  },
  {
   "cell_type": "code",
   "execution_count": 198,
   "metadata": {},
   "outputs": [],
   "source": [
    "def count_prime_partnerships(maxValue):\n",
    "    limit = maxValue\n",
    "    n = 1\n",
    "    count = 0\n",
    "    while n <= limit:\n",
    "        k = n\n",
    "        while True:\n",
    "            p = k**3 - n**3\n",
    "            if p > limit:\n",
    "                break\n",
    "            if ntheory.isprime(p):\n",
    "                count += 1\n",
    "                break\n",
    "            k += 1\n",
    "        n += 1\n",
    "    return count"
   ]
  },
  {
   "cell_type": "code",
   "execution_count": 201,
   "metadata": {},
   "outputs": [
    {
     "name": "stdout",
     "output_type": "stream",
     "text": [
      "The number of primes below 1,000,000 with this prime cube partnership is: 173\n"
     ]
    }
   ],
   "source": [
    "limit = 1_000_000\n",
    "res = count_prime_partnerships(limit)\n",
    "print(f'The number of primes below {limit:,} with this prime cube partnership is: {res}')"
   ]
  }
 ],
 "metadata": {
  "kernelspec": {
   "display_name": "Python 3",
   "language": "python",
   "name": "python3"
  },
  "language_info": {
   "codemirror_mode": {
    "name": "ipython",
    "version": 3
   },
   "file_extension": ".py",
   "mimetype": "text/x-python",
   "name": "python",
   "nbconvert_exporter": "python",
   "pygments_lexer": "ipython3",
   "version": "3.13.1"
  }
 },
 "nbformat": 4,
 "nbformat_minor": 2
}
