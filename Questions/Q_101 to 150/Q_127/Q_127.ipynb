{
 "cells": [
  {
   "cell_type": "code",
   "execution_count": 1,
   "metadata": {},
   "outputs": [],
   "source": [
    "from sympy import ntheory\n",
    "import math"
   ]
  },
  {
   "cell_type": "code",
   "execution_count": 13,
   "metadata": {},
   "outputs": [],
   "source": [
    "def rad(n):\n",
    "    if isinstance(n, list) | isinstance(n, tuple):\n",
    "        res = math.prod(ntheory.primefactors(math.prod(n)))\n",
    "\n",
    "    if isinstance(n, int):\n",
    "        res = math.prod(ntheory.primefactors(n))\n",
    "    return res\n",
    "\n",
    "def check_gcd(a,b,c):\n",
    "    return math.gcd(a,b) == math.gcd(b,c) == math.gcd(a,c) == 1\n",
    "\n",
    "def check_rad(a,b,c):\n",
    "    return max((a,b,c)) > rad((a,b,c))\n",
    "\n",
    "def combined_check(a,b,c):\n",
    "    return check_rad(a,b,c) and check_gcd(a,b,c)\n",
    "\n",
    "def create_candidate_list(maxValue):\n",
    "    candidates=[]\n",
    "    for x in range(maxValue):\n",
    "        if rad(x) <= math.sqrt(x):\n",
    "            candidates.append(x)\n",
    "\n",
    "    candidates += [p for p in range(int(maxValue**(2/(1 + math.sqrt(5))))) if p not in candidates]\n",
    "    return sorted(candidates)\n"
   ]
  },
  {
   "cell_type": "code",
   "execution_count": 14,
   "metadata": {},
   "outputs": [],
   "source": [
    "def find_abc_pairs(maxValue):\n",
    "    candidates = create_candidate_list(maxValue)\n",
    "    abc_list = set()\n",
    "    for idx, c in enumerate(candidates):\n",
    "        for b in candidates[:idx]:\n",
    "            # Check c + b\n",
    "            a_big = c + b\n",
    "            if a_big < maxValue:\n",
    "                if combined_check(a_big, c, b):\n",
    "                    abc_list.add((a_big, c, b))\n",
    "\n",
    "            # Check c - b\n",
    "            a_small = c - b\n",
    "            if combined_check(a_small, c, b):\n",
    "                # Need to sort the list\n",
    "                abc_list.add(tuple(sorted([c, b, a_small], reverse=True)))\n",
    "                \n",
    "    return abc_list\n"
   ]
  },
  {
   "cell_type": "code",
   "execution_count": 15,
   "metadata": {},
   "outputs": [
    {
     "name": "stdout",
     "output_type": "stream",
     "text": [
      "The sum of c from 0 < c < 120000 is: 18407904\n"
     ]
    }
   ],
   "source": [
    "limit = 120_000\n",
    "abc_pairs = find_abc_pairs(limit)\n",
    "res = sum([x[0] for x in abc_pairs])\n",
    "print(f'The sum of c from 0 < c < {limit} is: {res}')"
   ]
  }
 ],
 "metadata": {
  "kernelspec": {
   "display_name": "Python 3",
   "language": "python",
   "name": "python3"
  },
  "language_info": {
   "codemirror_mode": {
    "name": "ipython",
    "version": 3
   },
   "file_extension": ".py",
   "mimetype": "text/x-python",
   "name": "python",
   "nbconvert_exporter": "python",
   "pygments_lexer": "ipython3",
   "version": "3.13.1"
  }
 },
 "nbformat": 4,
 "nbformat_minor": 2
}
