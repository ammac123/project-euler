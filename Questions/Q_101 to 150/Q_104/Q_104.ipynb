{
 "cells": [
  {
   "cell_type": "markdown",
   "id": "60e88bdb-8ad6-48ad-9c2a-d6c68d9d8a05",
   "metadata": {},
   "source": [
    "### Problem 104: Pandigital Fibonacci Ends\n",
    "<p>The Fibonacci sequence is defined by the recurrence relation:</p>\n",
    "<blockquote>$F_n = F_{n - 1} + F_{n - 2}$, where $F_1 = 1$ and $F_2 = 1$.</blockquote>\n",
    "<p>It turns out that $F_{541}$, which contains $113$ digits, is the first Fibonacci number for which the last nine digits are $1$-$9$ pandigital (contain all the digits $1$ to $9$, but not necessarily in order). And $F_{2749}$, which contains $575$ digits, is the first Fibonacci number for which the first nine digits are $1$-$9$ pandigital.</p>\n",
    "<p>Given that $F_k$ is the first Fibonacci number for which the first nine digits AND the last nine digits are $1$-$9$ pandigital, find $k$.</p>\n"
   ]
  },
  {
   "cell_type": "code",
   "execution_count": 152,
   "id": "38be16fa-ffe3-4ea5-aab0-4c2461015900",
   "metadata": {},
   "outputs": [],
   "source": [
    "import math\n",
    "import collections\n",
    "import time\n",
    "import decimal"
   ]
  },
  {
   "cell_type": "code",
   "execution_count": 106,
   "id": "314247b8-c3d9-406c-92f5-3b7bd4a1ffd4",
   "metadata": {},
   "outputs": [],
   "source": []
  },
  {
   "cell_type": "code",
   "execution_count": 107,
   "id": "a6f3d3b4-5f7d-42d8-85a1-61105dc2a1b8",
   "metadata": {},
   "outputs": [],
   "source": [
    "def binet_formula(n):\n",
    "    sqrt5 = decimal.Decimal(5).sqrt()\n",
    "    F_n = ((((decimal.Decimal(1) + sqrt5)/decimal.Decimal(2))**decimal.Decimal(n) - ((decimal.Decimal(1) - sqrt5)/decimal.Decimal(2))**decimal.Decimal(n))/sqrt5).quantize(decimal.Decimal(\"1.\"), rounding=decimal.ROUND_HALF_UP)\n",
    "    return int(F_n)"
   ]
  },
  {
   "cell_type": "code",
   "execution_count": 188,
   "id": "46ad2930-63ed-436a-bc7e-781067b98b0c",
   "metadata": {},
   "outputs": [],
   "source": [
    "def pe_104(i = 2749):\n",
    "    Fibonacci_Dict = collections.defaultdict(int)\n",
    "    decimal.getcontext().prec = i//3\n",
    "    Fibonacci_Dict[i-2] = binet_formula(i-2)\n",
    "    Fibonacci_Dict[i-1] = binet_formula(i-1)\n",
    "    comparison_set = set(['1','2','3','4','5','6','7','8','9'])\n",
    "    while True:\n",
    "        Fibonacci_Dict[i] = int(str(Fibonacci_Dict[i-1])[-10:]) + int(str(Fibonacci_Dict[i-2])[-10:])\n",
    "        if set(str(Fibonacci_Dict[i])[-9:]) == comparison_set:\n",
    "            decimal.getcontext().prec = i//3\n",
    "            if set(str(binet_formula(i))[:9]) == comparison_set:\n",
    "                return i\n",
    "        i += 1"
   ]
  },
  {
   "cell_type": "code",
   "execution_count": 189,
   "id": "27534c5e-f0e9-441a-97c4-546a064ef6d5",
   "metadata": {},
   "outputs": [
    {
     "name": "stdout",
     "output_type": "stream",
     "text": [
      "The answer is : 329468\n",
      "Time taken : 78.98734s\n"
     ]
    }
   ],
   "source": [
    "time_start = time.perf_counter()\n",
    "res = pe_104()\n",
    "time_end = time.perf_counter()\n",
    "time_taken = time_end - time_start\n",
    "print(f'The answer is : {res}\\nTime taken : {time_taken:.5f}s')"
   ]
  }
 ],
 "metadata": {
  "kernelspec": {
   "display_name": "Python 3 (ipykernel)",
   "language": "python",
   "name": "python3"
  },
  "language_info": {
   "codemirror_mode": {
    "name": "ipython",
    "version": 3
   },
   "file_extension": ".py",
   "mimetype": "text/x-python",
   "name": "python",
   "nbconvert_exporter": "python",
   "pygments_lexer": "ipython3",
   "version": "3.9.13"
  }
 },
 "nbformat": 4,
 "nbformat_minor": 5
}
