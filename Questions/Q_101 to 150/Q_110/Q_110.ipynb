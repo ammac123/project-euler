{
 "cells": [
  {
   "cell_type": "markdown",
   "id": "561fd313-8b87-4710-89e8-2eea7bdb26dd",
   "metadata": {},
   "source": [
    "### Problem 110: Diophantine Reciprocals II\n",
    "In the following equation $x$, $y$, and $n$ are positive integers.\n",
    "$$\\dfrac{1}{x} + \\dfrac{1}{y} = \\dfrac{1}{n}$$\n",
    "\n",
    "It can be verified that when $n = 1260$ there are $113$ distinct solutions and this is the least value of $n$ for which the total number of distinct solutions exceeds one hundred.\n",
    "What is the least value of $n$ for which the number of distinct solutions exceeds four million?\n",
    "\n",
    "NOTE: This problem is a much more difficult version of [Problem 108](https://www.projecteuler.com/problem=108) and as it is well beyond the limitations of a brute force approach it requires a clever implementation."
   ]
  },
  {
   "cell_type": "code",
   "execution_count": 2,
   "id": "158edffd-7842-4344-bfa4-da144f6efe50",
   "metadata": {},
   "outputs": [],
   "source": [
    "from sympy import ntheory, divisor_count\n",
    "import math"
   ]
  },
  {
   "cell_type": "code",
   "execution_count": 3,
   "id": "ea4e2e50-7da2-4c5f-b4dd-23081d56982d",
   "metadata": {},
   "outputs": [],
   "source": [
    "def sieve(n):\n",
    "    p = 2\n",
    "    primes = [True]*(n+1)\n",
    "    while p**2 < n:\n",
    "        if primes[p]:\n",
    "            for i in range(p**2, n+1, p):\n",
    "                primes[i] = False\n",
    "        p += 1\n",
    "    primeList = [i for i,x in enumerate(primes) if x and i > 1]\n",
    "    return primeList\n",
    "\n",
    "def gen_prime_powers(power_list):\n",
    "    primes = sieve(100)\n",
    "    res = []\n",
    "    prime_idx = 0\n",
    "    max_power = len(power_list)\n",
    "    for idx, n in enumerate(power_list):\n",
    "        res += [x**(max_power-idx) for x in primes[prime_idx:prime_idx+n]]\n",
    "        prime_idx+=n\n",
    "\n",
    "    return res\n",
    "\n",
    "def unit_fraction_count(power_list):\n",
    "    pprime_list = gen_prime_powers(power_list)\n",
    "    res = math.prod(pprime_list)\n",
    "    return divisor_count((res**2))//2, res"
   ]
  },
  {
   "cell_type": "code",
   "execution_count": 4,
   "id": "d3ba2161",
   "metadata": {},
   "outputs": [
    {
     "name": "stdout",
     "output_type": "stream",
     "text": [
      "9350130049860600\n"
     ]
    }
   ],
   "source": [
    "min_val = 10e100\n",
    "for j in range(8):\n",
    "    for i in range(8):\n",
    "        k = 0\n",
    "        while True:\n",
    "            div, val = unit_fraction_count([j,i,k])\n",
    "            if div > 4_000_000: \n",
    "                # print(f'{float(div):,}: {val:,}')\n",
    "                min_val = min(min_val, val)\n",
    "                break\n",
    "\n",
    "            k += 1\n",
    "\n",
    "print(min_val)"
   ]
  }
 ],
 "metadata": {
  "kernelspec": {
   "display_name": "Python 3 (ipykernel)",
   "language": "python",
   "name": "python3"
  },
  "language_info": {
   "codemirror_mode": {
    "name": "ipython",
    "version": 3
   },
   "file_extension": ".py",
   "mimetype": "text/x-python",
   "name": "python",
   "nbconvert_exporter": "python",
   "pygments_lexer": "ipython3",
   "version": "3.11.6"
  }
 },
 "nbformat": 4,
 "nbformat_minor": 5
}
