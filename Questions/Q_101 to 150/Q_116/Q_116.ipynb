{
 "cells": [
  {
   "cell_type": "code",
   "execution_count": 19,
   "metadata": {},
   "outputs": [],
   "source": [
    "# Creating a function to loop through coloured blocks from x to y for a row length of m\n"
   ]
  },
  {
   "cell_type": "code",
   "execution_count": 153,
   "metadata": {},
   "outputs": [
    {
     "name": "stdout",
     "output_type": "stream",
     "text": [
      "The number of ways to fill a row of length 50 with blocks [2, 3, 4] is 20492570929\n"
     ]
    }
   ],
   "source": [
    "n = 50\n",
    "min_block_size = 2\n",
    "max_block_size = 4\n",
    "ways = [0,0,0,1] + [0]*(n-1)\n",
    "ways[min_block_size] = 1\n",
    "for i in range(min_block_size, len(ways)):\n",
    "    ways[i] += sum(ways[i-4:i])\n",
    "ways[i]"
   ]
  }
 ],
 "metadata": {
  "kernelspec": {
   "display_name": "Python 3",
   "language": "python",
   "name": "python3"
  },
  "language_info": {
   "codemirror_mode": {
    "name": "ipython",
    "version": 3
   },
   "file_extension": ".py",
   "mimetype": "text/x-python",
   "name": "python",
   "nbconvert_exporter": "python",
   "pygments_lexer": "ipython3",
   "version": "3.13.1"
  }
 },
 "nbformat": 4,
 "nbformat_minor": 2
}
