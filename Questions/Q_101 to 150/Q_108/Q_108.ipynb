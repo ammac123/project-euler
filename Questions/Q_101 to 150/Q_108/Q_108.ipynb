{
 "cells": [
  {
   "cell_type": "markdown",
   "id": "1729e6e6-54fe-419f-a4dd-0a82f4b2eed6",
   "metadata": {},
   "source": [
    "### Problem 108: Diophantine Reciprocals 1\n",
    "In the following equation $x$, $y$, and $n$ are positive integers.\n",
    "$$\\dfrac{1}{x} + \\dfrac{1}{y} = \\dfrac{1}{n}$$\n",
    "For $n = 4$ there are exactly three distinct solutions:\n",
    "$$\\begin{align}\n",
    "\\dfrac{1}{5} + \\dfrac{1}{20} = \\dfrac{1}{4}\\\\\n",
    "\\dfrac{1}{6} + \\dfrac{1}{12} = \\dfrac{1}{4}\\\\\n",
    "\\dfrac{1}{8} + \\dfrac{1}{8} = \\dfrac{1}{4}\n",
    "\\end{align}\n",
    "$$\n",
    "\n",
    "What is the least value of $n$ for which the number of distinct solutions exceeds one-thousand?\n",
    "\n",
    "NOTE: This problem is an easier version of [Problem 110](https://projecteuler.net/problem=110) it is strongly advised that you solve this one first."
   ]
  },
  {
   "cell_type": "code",
   "execution_count": 184,
   "id": "26c89e43-d083-46c4-831e-9dc2288932cd",
   "metadata": {},
   "outputs": [],
   "source": [
    "from sympy import ntheory, divisor_count\n",
    "import math"
   ]
  },
  {
   "cell_type": "code",
   "execution_count": 185,
   "id": "41674dd9",
   "metadata": {},
   "outputs": [],
   "source": [
    "def sieve(n):\n",
    "    p = 2\n",
    "    primes = [True]*(n+1)\n",
    "    while p**2 < n:\n",
    "        if primes[p]:\n",
    "            for i in range(p**2, n+1, p):\n",
    "                primes[i] = False\n",
    "        p += 1\n",
    "    primeList = [i for i,x in enumerate(primes) if x and i > 1]\n",
    "    return primeList\n",
    "\n",
    "def gen_prime_powers(power_list):\n",
    "    primes = sieve(100)\n",
    "    res = []\n",
    "    prime_idx = 0\n",
    "    max_power = len(power_list)\n",
    "    for idx, n in enumerate(power_list):\n",
    "        res += [x**(max_power-idx) for x in primes[prime_idx:prime_idx+n]]\n",
    "        prime_idx+=n\n",
    "\n",
    "    return res\n",
    "\n",
    "def unit_fraction_count(power_list):\n",
    "    pprime_list = gen_prime_powers(power_list)\n",
    "    res = math.prod(pprime_list)\n",
    "    return divisor_count((res**2))//2, res"
   ]
  },
  {
   "cell_type": "code",
   "execution_count": 186,
   "id": "e14fd1ba",
   "metadata": {},
   "outputs": [
    {
     "name": "stdout",
     "output_type": "stream",
     "text": [
      "180180\n"
     ]
    }
   ],
   "source": [
    "min_val = 10e100\n",
    "for j in range(8):\n",
    "    for i in range(8):\n",
    "        k = 0\n",
    "        while True:\n",
    "            div, val = unit_fraction_count([j,i,k])\n",
    "            if div > 1_000: \n",
    "                # print(f'{float(div):,}: {val:,}')\n",
    "                min_val = min(min_val, val)\n",
    "                break\n",
    "\n",
    "            k += 1\n",
    "\n",
    "print(min_val)"
   ]
  }
 ],
 "metadata": {
  "kernelspec": {
   "display_name": "Python 3 (ipykernel)",
   "language": "python",
   "name": "python3"
  },
  "language_info": {
   "codemirror_mode": {
    "name": "ipython",
    "version": 3
   },
   "file_extension": ".py",
   "mimetype": "text/x-python",
   "name": "python",
   "nbconvert_exporter": "python",
   "pygments_lexer": "ipython3",
   "version": "3.11.6"
  }
 },
 "nbformat": 4,
 "nbformat_minor": 5
}
