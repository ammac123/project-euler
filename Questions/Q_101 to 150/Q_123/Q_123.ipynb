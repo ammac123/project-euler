{
 "cells": [
  {
   "cell_type": "code",
   "execution_count": 2,
   "metadata": {},
   "outputs": [],
   "source": [
    "import sympy.ntheory"
   ]
  },
  {
   "cell_type": "code",
   "execution_count": 4,
   "metadata": {},
   "outputs": [
    {
     "name": "stdout",
     "output_type": "stream",
     "text": [
      "Solution is 21,035\n"
     ]
    }
   ],
   "source": [
    "n = 20_023\n",
    "search = list(sympy.ntheory.primerange(250_000))\n",
    "while True:\n",
    "    p = search[n-1]\n",
    "    if ((p + 1)**n + (p - 1)**n) % p**2 > 10**10:\n",
    "        res = n\n",
    "        break\n",
    "    n += 2\n",
    "\n",
    "print(f'Solution is {n:,}')"
   ]
  }
 ],
 "metadata": {
  "kernelspec": {
   "display_name": "Python 3",
   "language": "python",
   "name": "python3"
  },
  "language_info": {
   "codemirror_mode": {
    "name": "ipython",
    "version": 3
   },
   "file_extension": ".py",
   "mimetype": "text/x-python",
   "name": "python",
   "nbconvert_exporter": "python",
   "pygments_lexer": "ipython3",
   "version": "3.13.1"
  }
 },
 "nbformat": 4,
 "nbformat_minor": 2
}
