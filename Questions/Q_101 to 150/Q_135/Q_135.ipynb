{
 "cells": [
  {
   "cell_type": "code",
   "execution_count": 4,
   "metadata": {},
   "outputs": [],
   "source": [
    "import math\n",
    "from collections import Counter"
   ]
  },
  {
   "cell_type": "code",
   "execution_count": 14,
   "metadata": {},
   "outputs": [],
   "source": [
    "def main(max_value, target):\n",
    "    valid_y = Counter()\n",
    "    for x in range(0,max_value+1):\n",
    "        for n in range(math.ceil((x-1)/2), math.ceil(math.sqrt((x**2 + max_value))/2)+1):\n",
    "            y = (4*n**2 - x**2)\n",
    "            if y >= max_value or y <= 0:\n",
    "                continue\n",
    "\n",
    "            if (y % 1 != 0) or (y == 0):\n",
    "                continue\n",
    "\n",
    "            valid_y.update([y])\n",
    "\n",
    "            if y >= x**2 and y > 3*pow(n,2) and x != 0:\n",
    "                valid_y.update([y])\n",
    "\n",
    "\n",
    "\n",
    "        \n",
    "    result = [x for x,count in valid_y.items() if count == target]\n",
    "    return len(result)"
   ]
  },
  {
   "cell_type": "code",
   "execution_count": 15,
   "metadata": {},
   "outputs": [
    {
     "name": "stdout",
     "output_type": "stream",
     "text": [
      "The number of n with 10 distinct solutions is 4,989\n"
     ]
    }
   ],
   "source": [
    "max_value = 1_000_000\n",
    "target = 10\n",
    "result = main(1_000_000, 10)\n",
    "print(f'The number of n with {target} distinct solutions is {result:,}')"
   ]
  },
  {
   "cell_type": "code",
   "execution_count": 16,
   "metadata": {},
   "outputs": [
    {
     "name": "stdout",
     "output_type": "stream",
     "text": [
      "1.04 s ± 26.3 ms per loop (mean ± std. dev. of 7 runs, 1 loop each)\n"
     ]
    }
   ],
   "source": [
    "%timeit main(1_000_000,10)"
   ]
  }
 ],
 "metadata": {
  "kernelspec": {
   "display_name": "Python 3",
   "language": "python",
   "name": "python3"
  },
  "language_info": {
   "codemirror_mode": {
    "name": "ipython",
    "version": 3
   },
   "file_extension": ".py",
   "mimetype": "text/x-python",
   "name": "python",
   "nbconvert_exporter": "python",
   "pygments_lexer": "ipython3",
   "version": "3.13.1"
  }
 },
 "nbformat": 4,
 "nbformat_minor": 2
}
