{
 "cells": [
  {
   "cell_type": "code",
   "execution_count": 2,
   "metadata": {},
   "outputs": [
    {
     "name": "stdout",
     "output_type": "stream",
     "text": [
      "The sum of S for consecutive prime connections for 5 <= p2 <= 1,000,000 is: 18,613,426,663,617,118\n"
     ]
    }
   ],
   "source": [
    "def seive(n):\n",
    "    prime = [True for _ in range(n+1)]\n",
    "    p = 2\n",
    "    while (p*p <= n):\n",
    "        if prime[p]==True:\n",
    "            for i in range(p*p, n+1, p):\n",
    "                prime[i] = False\n",
    "        p += 1\n",
    "\n",
    "    res = [idx for idx, _ in enumerate(prime) if _]\n",
    "    return res[2:]\n",
    "\n",
    "\n",
    "def trialMultiplication(p1, p2, power=1, res=0):\n",
    "    base_10 = pow(10, power)\n",
    "    base_1 = pow(10, power-1)\n",
    "\n",
    "    if (res * p2) % (base_1) == p1:\n",
    "        return p1, p2, power, res * p2\n",
    "    \n",
    "    for i in range(10):\n",
    "        x = (i * base_1) + res\n",
    "        if (x * p2 % base_10) == (p1 % base_10):\n",
    "            p1, p2, power, res = trialMultiplication(p1, p2, power + 1, x)\n",
    "            return p1, p2, power, res\n",
    "        \n",
    "def main(maxValue):\n",
    "    result = 0\n",
    "    i = 0\n",
    "    primes = [x for x in seive(maxValue+100) if x > 3]\n",
    "    while primes[i]<=maxValue:\n",
    "        result += trialMultiplication(primes[i], primes[i+1])[-1]\n",
    "        i += 1\n",
    "\n",
    "    return result\n",
    "\n",
    "limit = 1_000_000\n",
    "result = main(limit)\n",
    "print(f'The sum of S for consecutive prime connections for 5 <= p2 <= {limit:,} is: {result:,}')"
   ]
  },
  {
   "cell_type": "code",
   "execution_count": 3,
   "metadata": {},
   "outputs": [
    {
     "name": "stdout",
     "output_type": "stream",
     "text": [
      "251 ms ± 597 μs per loop (mean ± std. dev. of 7 runs, 1 loop each)\n"
     ]
    }
   ],
   "source": [
    "%timeit main(limit)"
   ]
  }
 ],
 "metadata": {
  "kernelspec": {
   "display_name": "Python 3",
   "language": "python",
   "name": "python3"
  },
  "language_info": {
   "codemirror_mode": {
    "name": "ipython",
    "version": 3
   },
   "file_extension": ".py",
   "mimetype": "text/x-python",
   "name": "python",
   "nbconvert_exporter": "python",
   "pygments_lexer": "ipython3",
   "version": "3.13.1"
  }
 },
 "nbformat": 4,
 "nbformat_minor": 2
}
