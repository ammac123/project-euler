{
 "cells": [
  {
   "cell_type": "markdown",
   "id": "8754f677-438b-4316-b989-df36a76d6009",
   "metadata": {},
   "source": [
    "### Problem 101: Triangle Containment\n",
    "<p>Three distinct points are plotted at random on a Cartesian plane, for which $-1000 \\le x, y \\le 1000$, such that a triangle is formed.</p>\n",
    "<p>Consider the following two triangles:</p>\n",
    "\\begin{gather}\n",
    "A(-340,495), B(-153,-910), C(835,-947)\\\\\n",
    "X(-175,41), Y(-421,-714), Z(574,-645)\n",
    "\\end{gather}\n",
    "<p>It can be verified that triangle $ABC$ contains the origin, whereas triangle $XYZ$ does not.</p>\n",
    "<p>Using <a href=\"resources/documents/0102_triangles.txt\">triangles.txt</a> (right click and 'Save Link/Target As...'), a 27K text file containing the co-ordinates of one thousand \"random\" triangles, find the number of triangles for which the interior contains the origin.</p>\n",
    "<p class=\"smaller\">NOTE: The first two examples in the file represent the triangles in the example given above.</p>\n"
   ]
  },
  {
   "cell_type": "code",
   "execution_count": 18,
   "id": "2fd2b40c-1e7f-4307-bfc9-d01dfa1a909b",
   "metadata": {},
   "outputs": [],
   "source": [
    "import math\n",
    "import time\n",
    "import os"
   ]
  },
  {
   "cell_type": "code",
   "execution_count": 80,
   "id": "c345d7f1-7396-4328-94e7-f0defdedbf77",
   "metadata": {},
   "outputs": [],
   "source": [
    "with open(os.path.join(os.path.dirname(os.getcwd()),'xxx_ProjectEulerData','0102_triangles.txt')) as file:\n",
    "    file_contents = [[int(e) for e in pointList.split(',') if e] for pointList in file.read().split('\\n') if pointList.strip()]"
   ]
  },
  {
   "cell_type": "code",
   "execution_count": 84,
   "id": "306371c7-caae-4476-bc02-9d41760fc698",
   "metadata": {},
   "outputs": [],
   "source": [
    "class point:\n",
    "    def __init__(self,x,y):\n",
    "        self.x = x\n",
    "        self.y = y\n",
    "        \n",
    "class line:\n",
    "    def __init__(self,p1,p2):\n",
    "        self.p1 = p1\n",
    "        self.p2 = p2\n",
    "        \n",
    "def onLine(l1,p):\n",
    "    if (\n",
    "        p.x <= max(l1.p1.x, l1.p2.x)\n",
    "        and p.x >= max(l1.p1.x, l1.p2.x)\n",
    "        and p.y <= max(l1.p1.y, l1.p2.y)\n",
    "        and p.y >= max(l1.p1.y, l1.p2.y)\n",
    "    ):\n",
    "        return True\n",
    "    return False\n",
    "\n",
    "def orientation(a,b,c):\n",
    "    \n",
    "    val = (b.y - a.y)*(c.x - b.x) - (b.x - a.x)*(c.y - b.y)\n",
    "    \n",
    "    # Result for colinear points\n",
    "    if val == 0:   \n",
    "        return 0\n",
    "    \n",
    "    # Orientation is anti-clockwise\n",
    "    if val < 0:\n",
    "        return 2\n",
    "    \n",
    "    # Orientation is clockwise\n",
    "    else:\n",
    "        return 1\n",
    "    \n",
    "    \n",
    "# Returns true if the line segments p1q1 and p2q2 intersect\n",
    "def doIntersect(l1,l2):\n",
    "    \n",
    "    o1 = orientation(l1.p1,l1.p2,l2.p1)\n",
    "    o2 = orientation(l1.p1,l1.p2,l2.p2)\n",
    "    o3 = orientation(l2.p1,l2.p2,l1.p1)\n",
    "    o4 = orientation(l2.p1,l2.p2,l1.p2)\n",
    "    \n",
    "    # For the general case with no colinearity\n",
    "    if ((o2 != o1) and (o3 != o4)):\n",
    "        return True\n",
    "    \n",
    "    if ((o1 == 0) and onLine(l1,l2.p1)):\n",
    "        return True\n",
    "    \n",
    "    if ((o2 == 0) and onLine(l1,l2.p2)):\n",
    "        return True\n",
    "    \n",
    "    if ((o3 == 0) and onLine(l2,l1.p1)):\n",
    "        return True\n",
    "    \n",
    "    if ((o4 == 0) and onLine(l1,l1.p2)):\n",
    "        return True\n",
    "    \n",
    "    return False\n",
    "\n",
    "def checkInside(poly, n, p):\n",
    "    \n",
    "    if n < 3:\n",
    "        return False\n",
    "    \n",
    "    extendLine = line(p, point(1001, p.y))\n",
    "    count = 0\n",
    "    i = 0\n",
    "    while True:\n",
    "        # Creating the line from two consectuive points in the polygon (triangle in this case)\n",
    "        side = line(poly[i], poly[(i+1) % n])\n",
    "        if doIntersect(side, extendLine):\n",
    "            # If the side intersects the line\n",
    "            if (orientation(side.p1, p, side.p2) == 0):\n",
    "                return onLine(side, p)\n",
    "            \n",
    "            count += 1\n",
    "        \n",
    "        i = (i + 1) % n\n",
    "        \n",
    "        if i == 0:\n",
    "            break\n",
    "            \n",
    "    return count & 1;"
   ]
  },
  {
   "cell_type": "code",
   "execution_count": 86,
   "id": "c70df9b9-8daf-4b6e-8b2d-7d5abf569781",
   "metadata": {},
   "outputs": [],
   "source": [
    "def pe_102():\n",
    "    origin = point(0,0)\n",
    "    n = 3\n",
    "    count = 0\n",
    "    for p in file_contents:\n",
    "        polygon = [point(p[0],p[1]),point(p[2],p[3]),point(p[4],p[5])]\n",
    "\n",
    "        if (checkInside(polygon, n, origin)): \n",
    "            count += 1\n",
    "\n",
    "    return count"
   ]
  },
  {
   "cell_type": "code",
   "execution_count": 87,
   "id": "a75aa4e0-5de7-4fb0-9b6c-22013008b9e9",
   "metadata": {},
   "outputs": [
    {
     "name": "stdout",
     "output_type": "stream",
     "text": [
      "The number of times the origin is within the triangles is : 228\n",
      "Time taken : 0.011798s\n"
     ]
    }
   ],
   "source": [
    "time_start = time.perf_counter()\n",
    "result = pe_102()\n",
    "time_end = time.perf_counter()\n",
    "time_taken = time_end - time_start\n",
    "print(f'The number of times the origin is within the triangles is : {result}\\nTime taken : {time_taken:.6f}s')"
   ]
  }
 ],
 "metadata": {
  "kernelspec": {
   "display_name": "Python 3 (ipykernel)",
   "language": "python",
   "name": "python3"
  },
  "language_info": {
   "codemirror_mode": {
    "name": "ipython",
    "version": 3
   },
   "file_extension": ".py",
   "mimetype": "text/x-python",
   "name": "python",
   "nbconvert_exporter": "python",
   "pygments_lexer": "ipython3",
   "version": "3.9.13"
  }
 },
 "nbformat": 4,
 "nbformat_minor": 5
}
