{
 "cells": [
  {
   "cell_type": "code",
   "execution_count": 16,
   "metadata": {},
   "outputs": [],
   "source": [
    "from sympy import ntheory\n",
    "import math"
   ]
  },
  {
   "cell_type": "code",
   "execution_count": 17,
   "metadata": {},
   "outputs": [],
   "source": [
    "def sum_repunit_primes(maxValue):\n",
    "    composites_counter = 0\n",
    "    sum_composites = 0\n",
    "    n = 10\n",
    "    while True:\n",
    "        if math.gcd(n,10) == 1:\n",
    "            if not ntheory.isprime(n):\n",
    "                if pow(10, n-1, 9*n) == 1:\n",
    "                    composites_counter += 1\n",
    "                    sum_composites += n\n",
    "                    if composites_counter == maxValue:\n",
    "                        return sum_composites\n",
    "        n +=1\n"
   ]
  },
  {
   "cell_type": "code",
   "execution_count": 20,
   "metadata": {},
   "outputs": [
    {
     "name": "stdout",
     "output_type": "stream",
     "text": [
      "The sum of the first 25 composite values of n is 149253\n"
     ]
    }
   ],
   "source": [
    "limit = 25\n",
    "res = sum_repunit_primes(25)\n",
    "print(f'The sum of the first {limit} composite values of n is {res}')"
   ]
  }
 ],
 "metadata": {
  "kernelspec": {
   "display_name": "Python 3",
   "language": "python",
   "name": "python3"
  },
  "language_info": {
   "codemirror_mode": {
    "name": "ipython",
    "version": 3
   },
   "file_extension": ".py",
   "mimetype": "text/x-python",
   "name": "python",
   "nbconvert_exporter": "python",
   "pygments_lexer": "ipython3",
   "version": "3.13.1"
  }
 },
 "nbformat": 4,
 "nbformat_minor": 2
}
