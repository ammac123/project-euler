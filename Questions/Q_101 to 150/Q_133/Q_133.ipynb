{
 "cells": [
  {
   "cell_type": "code",
   "execution_count": 1,
   "metadata": {},
   "outputs": [],
   "source": [
    "def sieve(n):\n",
    "    prime = [True for i in range(n+1)]\n",
    "    p = 2\n",
    "    while (p*p <= n):\n",
    "        \n",
    "        if (prime[p] == True):\n",
    "\n",
    "            for i in range(p * p, n+1, p):\n",
    "                prime[i] = False\n",
    "\n",
    "        p += 1\n",
    "    \n",
    "    res = [idx for idx, _ in enumerate(prime) if _]\n",
    "    return res[2:]"
   ]
  },
  {
   "cell_type": "code",
   "execution_count": 2,
   "metadata": {},
   "outputs": [],
   "source": [
    "def find_sum_prime_factors(repUnit, sieveMax=100_000):\n",
    "    prime_potentials = sieve(sieveMax)\n",
    "    count = []\n",
    "    for prime in prime_potentials:\n",
    "        if pow(10, repUnit, 9*prime) == 1:\n",
    "            count += [prime]\n",
    "    return count\n",
    "    "
   ]
  },
  {
   "cell_type": "code",
   "execution_count": 5,
   "metadata": {},
   "outputs": [
    {
     "name": "stdout",
     "output_type": "stream",
     "text": [
      "The sum of primes that will never be a factor of repunit(10^n) is 453,647,705\n"
     ]
    }
   ],
   "source": [
    "limit = 100_000\n",
    "prime_ns = find_sum_prime_factors(10**99, sieveMax=limit)\n",
    "res = sum(set(sieve(limit)).difference(set(prime_ns)))\n",
    "print(f'The sum of primes that will never be a factor of repunit(10^n) is {res:,}')"
   ]
  },
  {
   "cell_type": "code",
   "execution_count": 6,
   "metadata": {},
   "outputs": [
    {
     "name": "stdout",
     "output_type": "stream",
     "text": [
      "4.6 ms ± 40.6 μs per loop (mean ± std. dev. of 7 runs, 100 loops each)\n"
     ]
    }
   ],
   "source": [
    "%timeit sum(set(sieve(limit)).difference(set(prime_ns)))"
   ]
  }
 ],
 "metadata": {
  "kernelspec": {
   "display_name": "Python 3",
   "language": "python",
   "name": "python3"
  },
  "language_info": {
   "codemirror_mode": {
    "name": "ipython",
    "version": 3
   },
   "file_extension": ".py",
   "mimetype": "text/x-python",
   "name": "python",
   "nbconvert_exporter": "python",
   "pygments_lexer": "ipython3",
   "version": "3.13.1"
  }
 },
 "nbformat": 4,
 "nbformat_minor": 2
}
