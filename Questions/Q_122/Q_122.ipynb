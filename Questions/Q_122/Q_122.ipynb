{
 "cells": [
  {
   "cell_type": "code",
   "execution_count": 163,
   "metadata": {},
   "outputs": [
    {
     "name": "stdout",
     "output_type": "stream",
     "text": [
      "The sum of the minimum number of multiplications for 1 ≤ x ≤ 200 is 1567\n"
     ]
    }
   ],
   "source": [
    "def binary_list(n):\n",
    "    return [int(i) for i in bin(n)[2:]]\n",
    "\n",
    "def binary_list_to_decimal(l):\n",
    "    return int('0b' + ''.join(str(x) for x in l),base=0)\n",
    "\n",
    "def generate_window_rep(n, window_size = 3):\n",
    "    lst = binary_list(n)\n",
    "    chain_lst = [0]*len(lst)\n",
    "    i = 0\n",
    "    window = window_size\n",
    "    while i < len(lst):        \n",
    "        while lst[i] != 0:\n",
    "            if lst[i:i+window][-1] != 0:\n",
    "                chain_lst[i+len(lst[i:i+window])-1] = binary_list_to_decimal(lst[i:i+window])\n",
    "                i += window - 1\n",
    "                break\n",
    "            else:\n",
    "                window -= 1\n",
    "        i += 1\n",
    "        window = window_size\n",
    "    return chain_lst\n",
    "\n",
    "def sliding_window_algo(n, precomputed_chains=None, window_size = 3):\n",
    "    if not precomputed_chains:\n",
    "        precomputed_chains = {1:[], 2:[1], 3:[1,2], 5:[1,2,3], 7:[1,2,3,5]}\n",
    "    addition_chain = generate_window_rep(n, window_size=window_size)\n",
    "    x = 0\n",
    "    i = 0 \n",
    "    chain_inter = []\n",
    "    while i < len(addition_chain):\n",
    "        x *= 2\n",
    "        chain_inter.append(x)\n",
    "        if addition_chain[i] != 0:\n",
    "            x += addition_chain[i]\n",
    "            chain_inter.append(x)\n",
    "        i += 1\n",
    "    for e in range(len(chain_inter)):\n",
    "        \n",
    "        if chain_inter[e] != 0:\n",
    "            \n",
    "            return precomputed_chains[chain_inter[e]] + chain_inter[e:]\n",
    "\n",
    "\n",
    "lim = 200\n",
    "precomputed_chains = {1:[], 2:[1], 3:[1,2], 5:[1,2,3], 7:[1,2,3,5], 9:[1,2,3,6], 11:[1,2,4,5,10], 13:[1,2,4,8,12], 15:[1,2,3,6,9,12]}\n",
    "result = 0\n",
    "for x in range(1, lim+1):\n",
    "    result += len(sliding_window_algo(x,precomputed_chains,4))-1\n",
    "print(f'The sum of the minimum number of multiplications for 1 ≤ x ≤ 200 is {result}')"
   ]
  },
  {
   "cell_type": "code",
   "execution_count": 161,
   "metadata": {},
   "outputs": [
    {
     "name": "stdout",
     "output_type": "stream",
     "text": [
      "14 5\n"
     ]
    }
   ],
   "source": [
    "for x in range(19):\n",
    "    if len(sliding_window_algo(x+1, {1:[], 2:[1], 3:[1,2], 5:[1,2,3], 7:[1,2,3,5], 9:[1,2,3,6], 11:[1,2,4,5,10], 13:[1,2,4,8,12], 15:[1,2,3,6,9,12]},4)) - 1 != k[x]:\n",
    "        print(x,k[x])\n",
    "\n",
    "\n",
    "### This DOESNT WORK GODDAMN IT"
   ]
  }
 ],
 "metadata": {
  "kernelspec": {
   "display_name": "Python 3",
   "language": "python",
   "name": "python3"
  },
  "language_info": {
   "codemirror_mode": {
    "name": "ipython",
    "version": 3
   },
   "file_extension": ".py",
   "mimetype": "text/x-python",
   "name": "python",
   "nbconvert_exporter": "python",
   "pygments_lexer": "ipython3",
   "version": "3.13.1"
  }
 },
 "nbformat": 4,
 "nbformat_minor": 2
}
