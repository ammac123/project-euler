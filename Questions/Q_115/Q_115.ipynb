{
 "cells": [
  {
   "cell_type": "code",
   "execution_count": 1,
   "metadata": {},
   "outputs": [
    {
     "name": "stdout",
     "output_type": "stream",
     "text": [
      "The number of ways to fill a row of length 50 is 16475640049\n"
     ]
    }
   ],
   "source": [
    "# Function to count the number of ways a row of blocks of length n can be filled by blocks with a minimum length of x, while being separated by at least one blank square\n",
    "\n",
    "def count_block_function(n, min_block_len):\n",
    "    ways = [1]*n + [0] * (n-min_block_len+1)\n",
    "    for i in range(min_block_len, n+1):\n",
    "        ways[i] = ways[i-1] + sum(ways[:i - min_block_len]) + 1\n",
    "\n",
    "    return ways[n]\n",
    "\n",
    "\n",
    "n = 50\n",
    "min_block_len = 3\n",
    "result = count_block_function(n, min_block_len)\n",
    "print(f'The number of ways to fill a row of length {n} is {result}')"
   ]
  }
 ],
 "metadata": {
  "kernelspec": {
   "display_name": "Python 3",
   "language": "python",
   "name": "python3"
  },
  "language_info": {
   "codemirror_mode": {
    "name": "ipython",
    "version": 3
   },
   "file_extension": ".py",
   "mimetype": "text/x-python",
   "name": "python",
   "nbconvert_exporter": "python",
   "pygments_lexer": "ipython3",
   "version": "3.13.1"
  }
 },
 "nbformat": 4,
 "nbformat_minor": 2
}
